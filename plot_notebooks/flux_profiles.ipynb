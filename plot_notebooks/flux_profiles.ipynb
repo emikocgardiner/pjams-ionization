{
 "cells": [
  {
   "cell_type": "code",
   "execution_count": null,
   "metadata": {},
   "outputs": [],
   "source": [
    "%reload_ext autoreload\n",
    "%autoreload 2\n",
    "from importlib import reload\n",
    "\n",
    "\n",
    "import sys, os, inspect\n",
    "import sys\n",
    "sys.path.append('/Users/emigardiner/VICO/pjams-ionization/pjams-ionization/')\n",
    "\n",
    "from zeusmp_snapshot_reader import read_zeusmp_snapshot\n",
    "from zeusmp_snapshot_reader import ScaleFactors\n",
    "from snapshot import snapshot \n",
    "from basic_snapshot import basic_snapshot\n",
    "import plot\n",
    "import fluxprof\n",
    "\n",
    "import numpy as np\n",
    "\n",
    "import matplotlib.pyplot as plt\n",
    "import matplotlib.gridspec as gridspec\n",
    "from matplotlib import cm\n",
    "from matplotlib.colors import TwoSlopeNorm\n",
    "\n",
    "from PIL import Image, ImageDraw, ImageFont\n",
    "from IPython.display import Image as DisplayImage"
   ]
  },
  {
   "cell_type": "code",
   "execution_count": null,
   "metadata": {},
   "outputs": [],
   "source": [
    "VICO_loc = '/Users/emigardiner/VICO/pjams-ionization'\n",
    "\n",
    "# INPUTS\n",
    "freqs = np.array([.01, .05, .1, .5, 1, 5.3, 23, 43, 100, 230 ]) # GHz\n",
    "freqs *= 10**9 # Hz\n",
    "\n",
    "r_kpc = 1\n",
    "heights_and_scales = np.load(VICO_loc+'/Data/heights_and_scales.npz')\n",
    "scales = heights_and_scales['scales'] # AU\n",
    "heights = heights_and_scales['heights'] # AU  \n",
    "\n",
    "colors = plot.COLORS"
   ]
  },
  {
   "attachments": {},
   "cell_type": "markdown",
   "metadata": {},
   "source": [
    "# Read in Snapshots"
   ]
  },
  {
   "cell_type": "code",
   "execution_count": null,
   "metadata": {},
   "outputs": [],
   "source": [
    "nums = np.array([4, 9, 21, 39, 54, 68, 94])\n",
    "years = np.array(['4,000 yrs', '9,000 yrs', '21,000 yrs', '39,000 yrs', '54,000 yrs', '68,000 yrs', '94,000 yrs'])\n",
    "masss = np.array([r'1.4 M$_\\odot$', r'2 M$_\\odot$', r'4 M$_\\odot$',\n",
    "                   r'8 M$_\\odot$', r'12 M$_\\odot$', r'16 M$_\\odot$',\n",
    "                   r'24 M$_\\odot$'])"
   ]
  },
  {
   "cell_type": "code",
   "execution_count": null,
   "metadata": {},
   "outputs": [],
   "source": [
    "snaps = np.empty_like(nums, dtype=snapshot)\n",
    "for ii, num in enumerate(nums):\n",
    "    snaps[ii] = snapshot(snap=num, name = ('Snap%03d_n' % num), read_zeusmp = False)\n",
    "    # shot[ii].load_shock_variables()\n",
    "    snaps[ii].load_fluxes()"
   ]
  },
  {
   "attachments": {},
   "cell_type": "markdown",
   "metadata": {},
   "source": [
    "draw_flux_vs_height()"
   ]
  },
  {
   "cell_type": "code",
   "execution_count": null,
   "metadata": {},
   "outputs": [],
   "source": [
    "def draw_flux_vs_height(ax, xx, yy, labels, fmt, alpha=0.6, colors=lightcolors):\n",
    "    # colors = cm.gist_rainbow_r(np.linspace(0, 1, len(snaps)))\n",
    "    for ii in range(len(yy)):\n",
    "        ax.plot(xx, yy[ii], fmt, color=colors[ii], label = (labels[ii]), alpha=alpha)\n",
    "\n"
   ]
  },
  {
   "attachments": {},
   "cell_type": "markdown",
   "metadata": {},
   "source": [
    "# All-Res"
   ]
  },
  {
   "cell_type": "code",
   "execution_count": null,
   "metadata": {},
   "outputs": [],
   "source": [
    "rnums = np.array([9, 21, 39, 54])\n",
    "ryears = years[1:len(rnums)+1]\n",
    "rmasss = masss[1:len(rnums)+1]\n",
    "snaps_lr, snaps_mr, snaps_hr = fluxprof.prep_res_snapshots()\n",
    "\n",
    "mass_lr = np.array(['2 M$_\\odot$ lr', '4 M$_\\odot$ lr', '8 M$_\\odot$ lr', '12 M$_\\odot$ lr',])\n",
    "mass_mr = np.array(['2 M$_\\odot$ mr', '4 M$_\\odot$ mr', '8 M$_\\odot$ mr', '12 M$_\\odot$ mr',])\n",
    "mass_hr = np.array(['2 M$_\\odot$ hr', '4 M$_\\odot$ hr', '8 M$_\\odot$ hr', '12 M$_\\odot$ hr',])\n",
    "# print(mass_lr, mass_mr, mass_hr)"
   ]
  },
  {
   "attachments": {},
   "cell_type": "markdown",
   "metadata": {},
   "source": [
    "## Res Z Segments"
   ]
  },
  {
   "cell_type": "code",
   "execution_count": null,
   "metadata": {},
   "outputs": [],
   "source": [
    "debug = False\n",
    "targets=np.linspace(0,26000,27)\n",
    "if debug: print(targets)\n",
    "\n",
    "zseg_lr, zval_lr, zmid_lr = fluxprof.get_z_segments(snaps_lr[0].x1, targets)\n",
    "if debug: print(f\"{zseg_lr=} \\n{zval_lr=} \\n{zmid_lr=}\")\n",
    "\n",
    "zseg_mr, zval_mr, zmid_mr = fluxprof.get_z_segments(snaps_mr[0].x1, targets)\n",
    "if debug: print(f\"{zseg_mr=} \\n{zval_mr=} \\n{zmid_mr=}\")\n",
    "\n",
    "zseg_hr, zval_hr, zmid_hr = fluxprof.get_z_segments(snaps_hr[0].x1, targets)\n",
    "if debug: print(f\"{zseg_hr=} \\n{zval_hr=} \\n{zmid_hr=}\")"
   ]
  },
  {
   "attachments": {},
   "cell_type": "markdown",
   "metadata": {},
   "source": [
    "## Calculate Flux Profiles"
   ]
  },
  {
   "attachments": {},
   "cell_type": "markdown",
   "metadata": {},
   "source": [
    "### Without scaling"
   ]
  },
  {
   "cell_type": "code",
   "execution_count": null,
   "metadata": {},
   "outputs": [],
   "source": [
    "NORM = False\n",
    "norm_label = 'scaled to 1000 au' if NORM else 'unscaled pixel regions'\n",
    "\n",
    "for ratio in [True, False]:\n",
    "    for ss, snap in enumerate(snaps_lr):\n",
    "        print(snap.name, 'ratio=',ratio)\n",
    "        fluxprof.make_flux_profiles(snap, zseg_lr, ratio=ratio, debug=False, norm=NORM)\n",
    "\n",
    "    for ss, snap in enumerate(snaps_mr):\n",
    "        print(snap.name, 'ratio=',ratio)\n",
    "        fluxprof.make_flux_profiles(snap, zseg_mr, ratio=ratio, debug=False, norm=NORM)\n",
    "\n",
    "    for ss, snap in enumerate(snaps_hr):\n",
    "        print(snap.name, 'ratio=',ratio)\n",
    "        fluxprof.make_flux_profiles(snap, zseg_hr, ratio=ratio, debug=False, norm=NORM)"
   ]
  },
  {
   "attachments": {},
   "cell_type": "markdown",
   "metadata": {},
   "source": [
    "## Plot Flux vs Height AllRes"
   ]
  },
  {
   "cell_type": "code",
   "execution_count": null,
   "metadata": {},
   "outputs": [],
   "source": [
    "def plot_res_flux_vs_height( \n",
    "        snaps_lr, snaps_mr, snaps_hr, \n",
    "        xx_lr, xx_mr, xx_hr, \n",
    "        mass_labels,  \n",
    "        ff_arr = [5,9],\n",
    "        ymin0 = None, ymax0 = None, ymin1 = None, ymax1 = None, \n",
    "        xscale='log', ax0_text = None, ax1_text=None, xx_text = 0.02, yy_text = 0.02, \n",
    "        leg_anchor = (1, 0)\n",
    "):\n",
    "    fig, axs = plot.figax(sharex=True,\n",
    "                         xscale=xscale, nrows=2, ncols=2, figsize=(11,6))\n",
    "\n",
    "    all_snaps = np.array([snaps_lr, snaps_mr, snaps_hr])\n",
    "    all_xx = np.array([xx_lr, xx_mr, xx_hr])\n",
    "    all_fmt = np.array([':x', '--+', '-o',])\n",
    "    none_labels = np.repeat('', len(snaps_lr))\n",
    "\n",
    "    # first row: no ratio\n",
    "    for ii, ax in enumerate(axs[0,:]):\n",
    "        ff = ff_arr[ii]\n",
    "\n",
    "        for jj, snaps in enumerate(all_snaps):\n",
    "            xx = all_xx[jj]\n",
    "            fmt = all_fmt[jj]\n",
    "            if ii==0 and jj==0: labels = mass_labels\n",
    "            else: labels = none_labels\n",
    "\n",
    "            yy = np.zeros((len(snaps), len(xx)))\n",
    "            for ss, snap in enumerate(snaps):\n",
    "                temp = snap.flux_prof\n",
    "                yy[ss] = temp[ff,:-1]\n",
    "            draw_flux_vs_height(ax, xx, yy, labels=labels, fmt=fmt)\n",
    "\n",
    "        ylabel = r'$S_\\nu$ (%s GHz) [mJy]' % str(freqs[ff]/10**9)\n",
    "        ax.set_ylabel(ylabel)\n",
    "        if ax0_text is not None:\n",
    "            ax.text(xx_text, yy_text, ax0_text, transform=ax.transAxes, \n",
    "                    weight='bold', horizontalalignment='right')\n",
    "            \n",
    "    if ymin0 is not None and ymax0 is not None:\n",
    "        axs[0,0].set_ylim(ymin0, ymax0)\n",
    "\n",
    "    axs[0,1].sharey(axs[0,0])\n",
    "\n",
    "    # second row: ratio\n",
    "    for ii, ax in enumerate(axs[1,:]):\n",
    "        ff = ff_arr[ii]\n",
    "\n",
    "        for jj, snaps in enumerate(all_snaps):\n",
    "            xx = all_xx[jj]\n",
    "            fmt = all_fmt[jj]\n",
    "            if ii==1 and jj==2: labels = mass_labels\n",
    "            else: labels = none_labels\n",
    "\n",
    "            yy = np.zeros((len(snaps), len(xx)))\n",
    "            for ss, snap in enumerate(snaps):\n",
    "                temp = snap.flux_prof_ratio\n",
    "                yy[ss] = temp[ff,:-1]\n",
    "            draw_flux_vs_height(ax, xx, yy, labels=labels, fmt=fmt)\n",
    "\n",
    "        ylabel = r'$S_\\nu$ (%s GHz) [mJy]' % str(freqs[ff]/10**9)\n",
    "        ax.set_ylabel(ylabel)\n",
    "        ax.set_xlabel('$z$ (au)')\n",
    "        if ax1_text is not None:\n",
    "            ax.text(xx_text, yy_text, ax1_text, transform=ax.transAxes, \n",
    "                    weight='bold', horizontalalignment='right')\n",
    "\n",
    "    if ymin1 is not None and ymax1 is not None:\n",
    "        axs[1,0].set_ylim(ymin1, ymax1)\n",
    "\n",
    "    axs[1,1].sharey(axs[1,0])\n",
    "    axs[1,1].legend(bbox_to_anchor = leg_anchor, bbox_transform=ax.transAxes, loc='lower right')\n",
    "\n",
    "    fig.tight_layout()\n",
    "    return fig\n",
    "    "
   ]
  },
  {
   "cell_type": "code",
   "execution_count": null,
   "metadata": {},
   "outputs": [],
   "source": [
    "\n",
    "fig = plot_res_flux_vs_height( \n",
    "        snaps_lr, snaps_mr, snaps_hr, \n",
    "        xx_lr=zmid_lr[:-1], xx_mr=zmid_mr[:-1], xx_hr=zmid_hr[:-1], \n",
    "        mass_labels=masss[1:len(rnums)+1],\n",
    "        xscale='linear', ax0_text='no cooling', ax1_text='with cooling',\n",
    "        ymin0 = 10**-10, ymax0 = 10**2.5, ymin1 = 10**-10, ymax1 = 10**-1, \n",
    "        xx_text=0.99, yy_text=0.025, \n",
    "        leg_anchor=(1, 0.08))\n",
    "fig.text(0,0, norm_label, fontsize=14)\n",
    "fig.tight_layout()\n",
    "# fig.savefig('/Users/emigardiner/VICO/pjams-ionization/figures/allres_fluxprofile_norm_lin.png', dpi=300)"
   ]
  },
  {
   "cell_type": "code",
   "execution_count": null,
   "metadata": {},
   "outputs": [],
   "source": [
    "fig = plot_res_flux_vs_height( \n",
    "        snaps_lr, snaps_mr, snaps_hr, \n",
    "        xx_lr=zmid_lr[:-1], xx_mr=zmid_mr[:-1], xx_hr=zmid_hr[:-1], \n",
    "        mass_labels=masss[1:len(rnums)+1],\n",
    "        xscale='log', ax0_text='no cooling', ax1_text='with cooling',\n",
    "        ymin0 = 10**-10, ymax0 = 10**2.5, ymin1 = 10**-10, ymax1 = 10**-1, \n",
    "        xx_text=0.99, yy_text=0.025, \n",
    "        leg_anchor=(1.01, 0.05))\n",
    "fig.text(0,0, norm_label, fontsize=14)\n",
    "fig.tight_layout()\n",
    "# fig.savefig('/Users/emigardiner/VICO/pjams-ionization/figures/allres_fluxprofile_norm_log.png', dpi=300)\n"
   ]
  },
  {
   "attachments": {},
   "cell_type": "markdown",
   "metadata": {},
   "source": [
    "### With Scaling"
   ]
  },
  {
   "cell_type": "code",
   "execution_count": null,
   "metadata": {},
   "outputs": [],
   "source": [
    "NORM = True\n",
    "norm_label = 'scaled to 1000 au' if NORM else 'unscaled pixel regions'\n",
    "\n",
    "for ratio in [True, False]:\n",
    "    for ss, snap in enumerate(snaps_lr):\n",
    "        print(snap.name, 'ratio=',ratio)\n",
    "        fluxprof.make_flux_profiles(snap, zseg_lr, ratio=ratio, debug=False, norm=NORM)\n",
    "\n",
    "    for ss, snap in enumerate(snaps_mr):\n",
    "        print(snap.name, 'ratio=',ratio)\n",
    "        fluxprof.make_flux_profiles(snap, zseg_mr, ratio=ratio, debug=False, norm=NORM)\n",
    "\n",
    "    for ss, snap in enumerate(snaps_hr):\n",
    "        print(snap.name, 'ratio=',ratio)\n",
    "        fluxprof.make_flux_profiles(snap, zseg_hr, ratio=ratio, debug=False, norm=NORM)"
   ]
  },
  {
   "cell_type": "code",
   "execution_count": null,
   "metadata": {},
   "outputs": [],
   "source": [
    "\n",
    "fig = plot_res_flux_vs_height( \n",
    "        snaps_lr, snaps_mr, snaps_hr, \n",
    "        xx_lr=zmid_lr[:-1], xx_mr=zmid_mr[:-1], xx_hr=zmid_hr[:-1], \n",
    "        mass_labels=masss[1:len(rnums)+1],\n",
    "        xscale='linear', ax0_text='no cooling', ax1_text='with cooling',\n",
    "        ymin0 = 10**-10, ymax0 = 10**2.5, ymin1 = 10**-10, ymax1 = 10**-1, \n",
    "        xx_text=0.77, yy_text=0.02, \n",
    "        leg_anchor=(1, 0.08))\n",
    "fig.savefig('/Users/emigardiner/VICO/pjams-ionization/figures/allres_fluxprofile_lin.png', dpi=300)\n",
    "fig.text(0,0, norm_label, fontsize=14)\n",
    "fig.tight_layout()\n",
    "# fig.savefig('/Users/emigardiner/VICO/pjams-ionization/figures/allres_fluxprofile_norm_lin.png', dpi=300)"
   ]
  },
  {
   "cell_type": "code",
   "execution_count": null,
   "metadata": {},
   "outputs": [],
   "source": [
    "fig = plot_res_flux_vs_height( \n",
    "        snaps_lr, snaps_mr, snaps_hr, \n",
    "        xx_lr=zmid_lr[:-1], xx_mr=zmid_mr[:-1], xx_hr=zmid_hr[:-1], \n",
    "        mass_labels=masss[1:len(rnums)+1],\n",
    "        xscale='log', ax0_text='no cooling', ax1_text='with cooling',\n",
    "        ymin0 = 10**-10, ymax0 = 10**2.5, ymin1 = 10**-10, ymax1 = 10**-1, \n",
    "        xx_text=0.77, yy_text=0.02, \n",
    "        leg_anchor=(1.01, 0.05))\n",
    "fig.savefig('/Users/emigardiner/VICO/pjams-ionization/figures/allres_fluxprofile_log.png', dpi=300)\n",
    "fig.text(0,0, norm_label, fontsize=14)\n",
    "fig.tight_layout()"
   ]
  },
  {
   "attachments": {},
   "cell_type": "markdown",
   "metadata": {},
   "source": [
    "# 3 Mid-Res Only, New Code"
   ]
  },
  {
   "cell_type": "code",
   "execution_count": null,
   "metadata": {},
   "outputs": [],
   "source": [
    "for ii, snap in enumerate(snaps):\n",
    "    snap.calculate_deltas()"
   ]
  },
  {
   "cell_type": "code",
   "execution_count": null,
   "metadata": {},
   "outputs": [],
   "source": [
    "NORM = True\n",
    "norm_label = 'scaled to 1000 au' if NORM else 'unscaled pixel regions'\n",
    "\n",
    "\n",
    "for ratio in [True, False]:\n",
    "    for ss, snap in enumerate(snaps):\n",
    "        print(snap.name, 'ratio=',ratio)\n",
    "        fluxprof.make_flux_profiles(snap, zseg_mr, ratio=ratio, debug=False, norm=NORM)"
   ]
  },
  {
   "attachments": {},
   "cell_type": "markdown",
   "metadata": {},
   "source": [
    "## Plot mid res flux vs height all"
   ]
  },
  {
   "cell_type": "code",
   "execution_count": null,
   "metadata": {},
   "outputs": [],
   "source": [
    "def plot_mid_flux_vs_height( \n",
    "        snaps_mr,  \n",
    "        xx_mr, \n",
    "        mass_labels,  \n",
    "        ff_arr = [5,9],\n",
    "        ymin0 = None, ymax0 = None, ymin1 = None, ymax1 = None, \n",
    "        xscale='log', ax0_text = None, ax1_text=None, xx_text = 0.02, yy_text = 0.02, \n",
    "        leg_anchor = (1, 0),\n",
    "        colors=lightcolors,\n",
    "):\n",
    "    fig, axs = plot.figax(sharex=True,\n",
    "                         xscale=xscale, nrows=2, ncols=2, figsize=(11,6))\n",
    "\n",
    "    all_snaps = np.array([snaps_mr, ])\n",
    "    all_xx = np.array([ xx_mr, ])\n",
    "    all_fmt = np.array(['-o',])\n",
    "    # all_labels = np.array([labels_mr,])\n",
    "    none_labels = np.repeat('', len(snaps_mr))\n",
    "\n",
    "    # first row: no ratio\n",
    "    for ii, ax in enumerate(axs[0,:]):\n",
    "        ff = ff_arr[ii]\n",
    "\n",
    "        for jj, snaps in enumerate(all_snaps):\n",
    "            xx = all_xx[jj]\n",
    "            fmt = all_fmt[jj]\n",
    "            if ii==0 and jj==0: labels = mass_labels\n",
    "            else: labels = none_labels\n",
    "\n",
    "            yy = np.zeros((len(snaps), len(xx)))\n",
    "            for ss, snap in enumerate(snaps):\n",
    "                temp = snap.flux_prof\n",
    "                yy[ss] = temp[ff,:-1]\n",
    "            draw_flux_vs_height(ax, xx, yy, labels=labels, fmt=fmt, colors=colors)\n",
    "\n",
    "        ylabel = r'$S_\\nu$ (%s GHz) [mJy]' % str(freqs[ff]/10**9)\n",
    "        ax.set_ylabel(ylabel)\n",
    "        if ax0_text is not None:\n",
    "            ax.text(xx_text, yy_text, ax0_text, transform=ax.transAxes, \n",
    "                    weight='bold', horizontalalignment='right')\n",
    "    if ymin0 is not None and ymax0 is not None:\n",
    "        axs[0,0].set_ylim(ymin0, ymax0)\n",
    "    axs[0,1].sharey(axs[0,0])\n",
    "\n",
    "    # second row: ratio\n",
    "    for ii, ax in enumerate(axs[1,:]):\n",
    "        ff = ff_arr[ii]\n",
    "\n",
    "        for jj, snaps in enumerate(all_snaps):\n",
    "            xx = all_xx[jj]\n",
    "            fmt = all_fmt[jj]\n",
    "            if ii==1 and jj==0: \n",
    "                labels = mass_labels\n",
    "                print('both 0')\n",
    "            else: labels = none_labels\n",
    "\n",
    "            yy = np.zeros((len(snaps), len(xx)))\n",
    "            for ss, snap in enumerate(snaps):\n",
    "                temp = snap.flux_prof_ratio\n",
    "                yy[ss] = temp[ff,:-1]\n",
    "            draw_flux_vs_height(ax, xx, yy, labels=labels, fmt=fmt, colors=colors)\n",
    "\n",
    "        ylabel = r'$S_\\nu$ (%s GHz) [mJy]' % str(freqs[ff]/10**9)\n",
    "        ax.set_ylabel(ylabel)\n",
    "        ax.set_xlabel('$z$ (au)')\n",
    "        if ax1_text is not None:\n",
    "            ax.text(xx_text, yy_text, ax1_text, transform=ax.transAxes, \n",
    "                    weight='bold', horizontalalignment='right')\n",
    "\n",
    "    if ymin1 is not None and ymax1 is not None:\n",
    "        axs[1,0].set_ylim(ymin1, ymax1)\n",
    "    axs[1,1].sharey(axs[1,0])\n",
    "    axs[1,1].legend(bbox_to_anchor = leg_anchor, bbox_transform=ax.transAxes, loc='lower right')\n",
    "\n",
    "    fig.tight_layout()\n",
    "    return fig\n",
    "    "
   ]
  },
  {
   "cell_type": "code",
   "execution_count": null,
   "metadata": {},
   "outputs": [],
   "source": [
    "\n",
    "colors = np.array(['#ff3333', '#ff8c1a', '#bfbd2e',  '#5cd699', '#51a6fb', '#a65eed'])\n",
    "\n",
    "\n",
    "fig = plot_mid_flux_vs_height( \n",
    "        snaps_mr=snaps[1:], xx_mr=zmid_mr[:-1], \n",
    "        mass_labels=masss[1:],\n",
    "        xscale='linear', ax0_text='no cooling', ax1_text='with cooling',\n",
    "        ymin0 = 10**-10, ymax0 = 10**2.5, ymin1 = 10**-10, ymax1 = 10**-1, \n",
    "        xx_text=0.99, yy_text=0.025, \n",
    "        leg_anchor=(1, 0.08), colors=colors)\n",
    "fig.text(0,0, norm_label, fontsize=14)\n",
    "fig.tight_layout()\n",
    "# fig.savefig('/Users/emigardiner/VICO/pjams-ionization/figures/allres_fluxprofile_norm_lin.png', dpi=300)"
   ]
  },
  {
   "cell_type": "code",
   "execution_count": null,
   "metadata": {},
   "outputs": [],
   "source": [
    "\n",
    "colors = np.array(['#ff3333', '#ff8c1a', '#bfbd2e',  '#5cd699', '#0d80f2', '#a65eed'])\n",
    "\n",
    "fig = plot_mid_flux_vs_height( \n",
    "        snaps_mr=snaps[1:], xx_mr=zmid_mr[:-1], \n",
    "        mass_labels=masss[1:],\n",
    "        xscale='log', ax0_text='no cooling', ax1_text='with cooling',\n",
    "        ymin0 = 10**-10, ymax0 = 10**2.5, ymin1 = 10**-10, ymax1 = 10**-1, \n",
    "        xx_text=0.99, yy_text=0.025, \n",
    "        leg_anchor=(1, 0.08), colors=colors)\n",
    "fig.text(0,0, norm_label, fontsize=14)\n",
    "fig.tight_layout()\n"
   ]
  },
  {
   "cell_type": "code",
   "execution_count": null,
   "metadata": {},
   "outputs": [],
   "source": []
  }
 ],
 "metadata": {
  "kernelspec": {
   "display_name": "pjams",
   "language": "python",
   "name": "python3"
  },
  "language_info": {
   "codemirror_mode": {
    "name": "ipython",
    "version": 3
   },
   "file_extension": ".py",
   "mimetype": "text/x-python",
   "name": "python",
   "nbconvert_exporter": "python",
   "pygments_lexer": "ipython3",
   "version": "3.10.11"
  }
 },
 "nbformat": 4,
 "nbformat_minor": 2
}
