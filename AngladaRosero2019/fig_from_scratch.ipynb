{
 "cells": [
  {
   "cell_type": "code",
   "execution_count": null,
   "metadata": {},
   "outputs": [],
   "source": [
    "import numpy as np\n",
    "%matplotlib inline\n",
    "import matplotlib.pyplot as plt\n",
    "from scipy import stats\n",
    "from matplotlib.font_manager import FontProperties\n",
    "from matplotlib.ticker import MaxNLocator\n",
    "from matplotlib.ticker import MultipleLocator\n",
    "import pickle\n",
    "from pprint import pprint as pp\n",
    "# import seaborn as sns\n",
    "import sys, os\n",
    "VICO_loc = '/Users/emigardiner/VICO/pjams-ionization'\n",
    "Anglada_loc = VICO_loc+'/AngladaRosero2019'\n",
    "sys.path.append(Anglada_loc)\n",
    "from def_seds import *"
   ]
  },
  {
   "attachments": {},
   "cell_type": "markdown",
   "metadata": {},
   "source": [
    "# SOMA data"
   ]
  },
  {
   "cell_type": "code",
   "execution_count": null,
   "metadata": {},
   "outputs": [],
   "source": [
    "# flux scaled for distance\n",
    "# S_nu d^2 = \n",
    "SOMA_dict_inner = {\n",
    "     b'AFGL_4029':      {'Lbest': 9700,   'Lmin': 3400,   'Lmax': 41000, 'Sd2': 0.5680000000000001, 'color': '#ff7f0e'}, #orange   # S_nu d^2 in mJy\n",
    "     b'AFGL_437':       {'Lbest': 14000,  'Lmin': 3000,   'Lmax': 93000, 'Sd2': 3.084, 'color': '#2ca02c'},  # green               \n",
    "     b'Cepheus_A':      {'Lbest': 24000,  'Lmin': 24000,  'Lmax': 99000, 'Sd2': 3.3564999999999996, 'color': '#8c564b'},   # brown  \n",
    "     b'G35.20-0.74':    {'Lbest': 39000,  'Lmin': 39000,  'Lmax': 84000, 'Sd2': 3.5670800000000007, 'color': '#bcbd22'}, # yellow\n",
    "     b'G45.47+0.05':    {'Lbest': 460000, 'Lmin': 172000, 'Lmax': 509000, 'Sd2': 6420.96, 'color': '#d62728'}, #red\n",
    "     b'IRAS_07299-1651':{'Lbest': 20000,  'Lmin': 10000,  'Lmax': 42000, 'Sd2': 3.2457599999999993, 'color': '#0f0bc6'}, #dark blue\n",
    "     b'IRAS_20126+4104':{'Lbest': 9000,   'Lmin': 9000,   'Lmax': 93000, 'Sd2': 0.15868639999999998, 'color': '#9467bd'}, # purple\n",
    "     b'NGC_7538_IRS9':  {'Lbest': 37000,  'Lmin': 37000,  'Lmax': 82000, 'Sd2': 2.92136, 'color': '#e377c2'} # pink\n",
    "    }\n",
    "\n",
    "SOMA_dict_intermed= {\n",
    "     b'AFGL_4029': {'Lbest': 9700,  'Lmin': 3400, 'Lmax': 41000, 'Sd2': 1.24, 'color': '#1f77b4'},                 \n",
    "     b'Cepheus_A':{'Lbest': 24000, 'Lmin': 24000, 'Lmax': 99000, 'Sd2': 4.801999999999999, 'color': '#2ca02c'},        \n",
    "     b'G35.20-0.74': {'Lbest': 39000, 'Lmin': 39000, 'Lmax': 84000, 'Sd2': 70.18, 'color': '#0f0bc6'},\n",
    "    }\n",
    "\n",
    "SOMA_dict_SOMA = {\n",
    "     b'AFGL_4029': {'Lbest': 9700,  'Lmin': 3400, 'Lmax': 41000, 'Sd2': 1.76, 'color': '#1f77b4'},     # S_nu d^2 in mJy\n",
    "     b'AFGL_437': {'Lbest': 14000, 'Lmin': 3000, 'Lmax': 93000, 'Sd2': 3.28, 'color': '#ff7f0e'},      \n",
    "     b'G35.20-0.74': {'Lbest': 39000, 'Lmin': 39000, 'Lmax': 84000, 'Sd2': 70.18, 'color': '#0f0bc6'}, \n",
    "     b'G45.47+0.05': {'Lbest': 460000, 'Lmin': 172000, 'Lmax': 509000, 'Sd2': 4092.48, 'color': '#9467bd'},\n",
    "     b'IRAS_07299-1651': {'Lbest': 20000, 'Lmin': 10000, 'Lmax': 42000, 'Sd2': 4.402943999999999, 'color': '#8c564b'},\n",
    "     b'IRAS_20126+4104': {'Lbest': 9000, 'Lmin': 9000, 'Lmax': 93000, 'Sd2': 0.9951519999999998, 'color': '#e377c2'}, \n",
    "     b'NGC_7538_IRS9': {'Lbest': 37000, 'Lmin': 37000, 'Lmax': 82000, 'Sd2': 35.1125, 'color': '#d62728'}\n",
    "    }\n",
    "\n",
    "colors = ['#1f77b4', '#ff7f0e', '#2ca02c', '#0f0bc6', '#9467bd', \n",
    "          '#8c564b', '#e377c2', '#d62728', '', '#17becf']\n",
    "\n",
    "          #1f77b4"
   ]
  },
  {
   "attachments": {},
   "cell_type": "markdown",
   "metadata": {},
   "source": [
    "# Ref Data Functions"
   ]
  },
  {
   "attachments": {},
   "cell_type": "markdown",
   "metadata": {},
   "source": [
    "## ZAMS"
   ]
  },
  {
   "cell_type": "code",
   "execution_count": null,
   "metadata": {},
   "outputs": [],
   "source": [
    "# ZAMS\n",
    "\n",
    "def draw_ZAMS(ax):\n",
    "    #pl.loglog(10**np.array(logL_Th), rad_lum_Th,'-k', linewidth=3,label='_nolegend_',alpha=0.8)\n",
    "    logL_bol_cl, logNe_05_cl, logNe_95_cl = [], [], []\n",
    "\n",
    "    #cluster_file= 'AngladaData/lbin_cluster_Lbol-Nlym.dat'\n",
    "    cluster_file= Anglada_loc+'/AngladaData/lbin_cluster_Lbol-Nlym.dat'\n",
    "\n",
    "    ##Calculating the number of Lyman cont photons\n",
    "    ##using equation from Monge\n",
    "    T_e= 1e4    #K\n",
    "    nu= 6.       #GHz at 5 cm\n",
    "\n",
    "    ##Reading the input from the table\n",
    "    for line in open(cluster_file, 'r'):\n",
    "        l1 = line.split()\n",
    "        if l1==[]: continue\n",
    "        skipChars = ['#']\n",
    "        if line[0] in skipChars: continue\n",
    "        this_logL_bol_cl= float(l1[0])\n",
    "        this_logNe_05_cl= float(l1[1])\n",
    "        this_logNe_95_cl= float(l1[2])\n",
    "\n",
    "        logL_bol_cl.append( this_logL_bol_cl )\n",
    "        logNe_05_cl.append( this_logNe_05_cl )\n",
    "        logNe_95_cl.append( this_logNe_95_cl )\n",
    "\n",
    "    rad_lum_cesaroni_data=  2.08e-46 * 10**(np.array(logNe_95_cl))* nu**-0.1 * T_e**0.45 \n",
    "    ax.loglog(10**pl.array(logL_bol_cl), rad_lum_cesaroni_data, '-', linewidth=3, color='olive')\n"
   ]
  },
  {
   "attachments": {},
   "cell_type": "markdown",
   "metadata": {},
   "source": [
    "## Tanaka YSO"
   ]
  },
  {
   "cell_type": "code",
   "execution_count": null,
   "metadata": {},
   "outputs": [],
   "source": [
    "def draw_YSO(ax):\n",
    "        infile_M60 = Anglada_loc+'/AngladaData/mcore60.sigma1.dat'\n",
    "\n",
    "        M_star_M60, r_star_M60, L_star_M60, T_star_M60, Q_star_M60, rad_lum_star_M60 = \\\n",
    "                pl.loadtxt(infile_M60, unpack=True ,usecols=[0, 1, 2, 3, 4, 5])\n",
    "\n",
    "        ax.loglog(L_star_M60, rad_lum_star_M60,'-', color= 'teal', linewidth=3,label='_nolegend_',alpha=0.8)"
   ]
  },
  {
   "attachments": {},
   "cell_type": "markdown",
   "metadata": {},
   "source": [
    "## SOMA sources"
   ]
  },
  {
   "cell_type": "code",
   "execution_count": null,
   "metadata": {},
   "outputs": [],
   "source": [
    "\n",
    "def draw_SOMA(ax, SOMA_dict, debug=False):\n",
    "    for source in SOMA_dict:\n",
    "        if(debug): print(source, SOMA_dict.source)\n",
    "        ax.errorbar(SOMA_dict[source]['Lbest'], SOMA_dict[source]['Sd2'],\n",
    "                    xerr=[[SOMA_dict[source]['Lbest'] - SOMA_dict[source]['Lmin']], \n",
    "                          [SOMA_dict[source]['Lmax'] - SOMA_dict[source]['Lbest']]],\n",
    "                    ecolor=SOMA_dict[source]['color'], elinewidth=2, capsize=7, capthick=3, alpha=0.25)\n",
    "        ax.loglog(SOMA_dict[source]['Lbest'], SOMA_dict[source]['Sd2'], 'o',\n",
    "                  label=source.decode('utf-8'), color=SOMA_dict[source]['color'], \n",
    "                  markersize=14,markeredgewidth=1.5, alpha=0.5)\n"
   ]
  },
  {
   "attachments": {},
   "cell_type": "markdown",
   "metadata": {},
   "source": [
    "## Shock Data\n",
    "<!-- \n",
    "Years            \t1000au   \t4000au   \t32000au <br /> \n",
    "Hi-res ratio <br /> \n",
    "9,000 yrs hi-res \t0.004282 \t0.005285 \t0.191204 <br /> \n",
    "21,000 yrs hi-res \t0.000097 \t0.000325 \t0.129702 <br /> \n",
    "39,000 yrs hi-res \t0.001526 \t0.001951 \t0.070682 <br /> \n",
    "54,000 yrs hi-res \t0.103195 \t0.211512 \t0.709238 <br /> \n",
    "<br /> \n",
    "Mid-Res ratio <br /> \n",
    "9,000 yrs mid-res \t0.022141 \t0.022926 \t0.201473 <br /> \n",
    "21,000 yrs mid-res \t0.013063 \t0.013076 \t0.077536 <br /> \n",
    "39,000 yrs mid-res \t0.026858 \t0.031280 \t0.290204 <br /> \n",
    "54,000 yrs mid-res \t0.067831 \t0.132885 \t0.377723 <br /> \n",
    "<br /> \n",
    "Lo-res ratio <br /> \n",
    "Snap009_nlr       \t0.028766 \t0.050783 \t0.070038 <br /> \n",
    "Snap021_nlr        \t0.022532 \t0.023125 \t0.031393 <br /> \n",
    "Snap039_nlr        \t0.037043 \t0.048523 \t0.074351 <br /> \n",
    "Snap054_nlr        \t0.056095 \t0.146190 \t0.338637 <br /> \n",
    "<br /> \n",
    "<br /> \n",
    "<br /> \n",
    "Years            \t1000au   \t4000au   \t32000au <br /> \n",
    "Hi-res filled <br /> \n",
    "9,000 yrs hi-res \t0.162599 \t0.329726 \t281.248527 <br /> \n",
    "21,000 yrs hi-res \t0.003545 \t0.024687 \t107.867878 <br /> \n",
    "39,000 yrs hi-res \t0.169222 \t0.182894 \t32.942426 <br /> \n",
    "54,000 yrs hi-res \t19.813620 \t46.348223 \t620.155483 <br /> \n",
    "<br /> \n",
    "Mid-Res filled <br /> \n",
    "9,000 yrs mid-res \t1.793031 \t1.798037 \t491.569311 <br /> \n",
    "21,000 yrs mid-res \t1.698362 \t1.698411 \t30.400045 <br /> \n",
    "39,000 yrs mid-res \t2.968243 \t3.049831 \t502.691932 <br /> \n",
    "54,000 yrs mid-res \t7.123924 \t8.303050 \t127.778781 <br /> \n",
    "<br /> \n",
    "Lo-res filled <br /> \n",
    "Snap009_nlr        \t5.082482 \t5.588887 \t18.283755 <br /> \n",
    "Snap021_nlr        \t4.809765 \t4.813022 \t13.289503 <br /> \n",
    "Snap039_nlr        \t7.572746 \t7.784907 \t16.576450 <br /> \n",
    "Snap054_nlr        \t8.932021 \t13.108063 \t21.517012 <br />  -->\n"
   ]
  },
  {
   "cell_type": "code",
   "execution_count": null,
   "metadata": {},
   "outputs": [],
   "source": [
    "## Load shock data\n",
    "shock_data= np.load(Anglada_loc+'/AngladaData/shock_flux_arrays.npz')\n",
    "flux_filled_1000    = shock_data['flux_filled_1000']   \n",
    "flux_filled_4000    = shock_data['flux_filled_4000']\n",
    "flux_filled_32000   = shock_data['flux_filled_32000']\n",
    "flux_filled_1000_lr = shock_data['flux_filled_1000_lr']\n",
    "flux_filled_4000_lr = shock_data['flux_filled_4000_lr'] \n",
    "flux_filled_32000_lr= shock_data['flux_filled_32000_lr']\n",
    "flux_filled_1000_hr = shock_data['flux_filled_1000_hr']\n",
    "flux_filled_4000_hr = shock_data['flux_filled_4000_hr'] \n",
    "flux_filled_32000_hr= shock_data['flux_filled_32000_hr']\n",
    "flux_ratio_1000     = shock_data['flux_ratio_1000']     \n",
    "flux_ratio_4000     = shock_data['flux_ratio_4000']     \n",
    "flux_ratio_32000    = shock_data['flux_ratio_32000']\n",
    "flux_ratio_1000_lr  = shock_data['flux_ratio_1000_lr']  \n",
    "flux_ratio_4000_lr  = shock_data['flux_ratio_4000_lr']  \n",
    "flux_ratio_32000_lr = shock_data['flux_ratio_32000_lr']\n",
    "flux_ratio_1000_hr  = shock_data['flux_ratio_1000_hr'] \n",
    "flux_ratio_4000_hr  = shock_data['flux_ratio_4000_hr']  \n",
    "flux_ratio_25000_hr = shock_data['flux_ratio_32000_hr']\n",
    "shock_data.close()"
   ]
  },
  {
   "attachments": {},
   "cell_type": "markdown",
   "metadata": {},
   "source": [
    "# Make Figure"
   ]
  },
  {
   "cell_type": "code",
   "execution_count": null,
   "metadata": {},
   "outputs": [],
   "source": [
    "fig = plt.figure(9, figsize=(9,9))\n",
    "ax = fig.add_axes([.15,.15,.8,.75])\n",
    "\n",
    "\n",
    "ax.set_ylim(1e-4,1.0e6)\n",
    "ax.set_xlim(1e-1,1.45e6)\n",
    "\n",
    "ax.tick_params('both', length=10, width=1, which='major', right=True, top=True, direction='in')\n",
    "ax.tick_params('both', length=4, width=1, which='minor', right=True, top=True, direction='in')\n",
    "\n",
    "\n",
    "draw_ZAMS(ax)\n",
    "draw_YSO(ax)\n",
    "draw_SOMA(ax, SOMA_dict_inner)\n",
    "ax.legend()\n"
   ]
  },
  {
   "attachments": {},
   "cell_type": "markdown",
   "metadata": {},
   "source": []
  },
  {
   "cell_type": "code",
   "execution_count": null,
   "metadata": {},
   "outputs": [],
   "source": []
  }
 ],
 "metadata": {
  "kernelspec": {
   "display_name": "pjams",
   "language": "python",
   "name": "python3"
  },
  "language_info": {
   "codemirror_mode": {
    "name": "ipython",
    "version": 3
   },
   "file_extension": ".py",
   "mimetype": "text/x-python",
   "name": "python",
   "nbconvert_exporter": "python",
   "pygments_lexer": "ipython3",
   "version": "3.10.11"
  }
 },
 "nbformat": 4,
 "nbformat_minor": 2
}
