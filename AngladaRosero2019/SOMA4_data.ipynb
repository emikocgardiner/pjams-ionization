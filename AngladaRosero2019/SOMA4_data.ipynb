{
 "cells": [
  {
   "cell_type": "code",
   "execution_count": null,
   "metadata": {},
   "outputs": [],
   "source": [
    "import numpy as np\n",
    "import pandas as pd"
   ]
  },
  {
   "cell_type": "code",
   "execution_count": null,
   "metadata": {},
   "outputs": [],
   "source": [
    "AFGL4029_L1 = np.mean()"
   ]
  },
  {
   "cell_type": "code",
   "execution_count": null,
   "metadata": {},
   "outputs": [],
   "source": [
    "SOMA_data = [\n",
    "    ('AFGL 4029', , ,\n",
    "     )\n",
    "]\n",
    "\n",
    "SOMA_df = pd.DataFrame(SOMA_data, columns=['Source', 'L I (L_bol)', 'L IV (Lbol)',\n",
    "                                      'Inner S (Jy)', 'Inner sigma (Jy)', \n",
    "                                      'Med S (Jy)', 'Med sigma (Jy)'])\n"
   ]
  },
  {
   "cell_type": "code",
   "execution_count": null,
   "metadata": {},
   "outputs": [],
   "source": [
    "SPLC = 3 * 10**8 # m/s\n",
    "freq = 5.3*10**9 # Hz\n",
    "lamb = SPLC / freq *10**6 # micrometers\n",
    "print(lamb, 'micrometers')"
   ]
  },
  {
   "cell_type": "code",
   "execution_count": null,
   "metadata": {},
   "outputs": [],
   "source": [
    "L1_dict = {\n",
    "     b'AFGL_4029': {'best': 9700,  'min': 3400, 'max': 41000},\n",
    "     b'AFGL_437': {'best': 14000, 'min': 3000, 'max': 93000}, \n",
    "     b'Cepheus_A':{'best': 24000, 'min': 24000, 'max': 99000},\n",
    "     b'G35.20-0.74': {'best': 39000, 'min': 39000, 'max': 84000}, \n",
    "     b'G45.47+0.05': {'best': 460000, 'min': 172000, 'max': 509000},\n",
    "     b'IRAS_07299-1651': {'best': 20000, 'min': 10000, 'max': 42000}, \n",
    "     b'IRAS_20126+4104': {'best': 9000, 'min': 9000, 'max': 93000}, \n",
    "     b'NGC_7538_IRS9': {'best': 37000, 'min': 37000, 'max': 82000}\n",
    "    }"
   ]
  },
  {
   "cell_type": "code",
   "execution_count": null,
   "metadata": {},
   "outputs": [],
   "source": [
    "L4_dict = {\n",
    "     b'AFGL_4029': {'best': 9700,  'min': 3400, 'max': 41000},\n",
    "     b'AFGL_437': {'best': 14000, 'min': 3000, 'max': 93000}, \n",
    "     b'Cepheus_A':{'best': 24000, 'min': 24000, 'max': 99000},\n",
    "     b'G35.20-0.74': {'best': 39000, 'min': 39000, 'max': 84000}, \n",
    "     b'G45.47+0.05': {'best': 460000, 'min': 172000, 'max': 509000},\n",
    "     b'IRAS_07299-1651': {'best': 20000, 'min': 10000, 'max': 42000}, \n",
    "     b'IRAS_20126+4104': {'best': 9000, 'min': 9000, 'max': 93000}, \n",
    "     b'NGC_7538_IRS9': {'best': 37000, 'min': 37000, 'max': 82000}\n",
    "    }"
   ]
  }
 ],
 "metadata": {
  "kernelspec": {
   "display_name": "pjams",
   "language": "python",
   "name": "python3"
  },
  "language_info": {
   "codemirror_mode": {
    "name": "ipython",
    "version": 3
   },
   "file_extension": ".py",
   "mimetype": "text/x-python",
   "name": "python",
   "nbconvert_exporter": "python",
   "pygments_lexer": "ipython3",
   "version": "3.10.11"
  }
 },
 "nbformat": 4,
 "nbformat_minor": 2
}
