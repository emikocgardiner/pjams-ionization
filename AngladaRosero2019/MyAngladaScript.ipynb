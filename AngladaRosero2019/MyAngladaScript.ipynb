{
 "cells": [
  {
   "cell_type": "code",
   "execution_count": null,
   "metadata": {},
   "outputs": [],
   "source": [
    "import numpy as np\n",
    "import matplotlib.pyplot as plt\n",
    "from matplotlib import cm"
   ]
  },
  {
   "cell_type": "code",
   "execution_count": null,
   "metadata": {},
   "outputs": [],
   "source": [
    "data_in = np.genfromtxt('C:/users/emiga/Desktop/VICO/AngladaPlot_Rosero2019/AngladaData/AngladaShockData.csv',\n",
    "                    delimiter = ',',skip_header=3)"
   ]
  },
  {
   "cell_type": "code",
   "execution_count": null,
   "metadata": {},
   "outputs": [],
   "source": [
    "print(data_in[:,1])"
   ]
  },
  {
   "cell_type": "code",
   "execution_count": null,
   "metadata": {},
   "outputs": [],
   "source": [
    "snapshots = np.zeros((len(data_in)), dtype='object')\n",
    "years = np.zeros((len(data_in)), dtype='object')\n",
    "loglsts = np.zeros((len(data_in)), dtype='object')\n",
    "loginnerflux = np.zeros((len(data_in)), dtype='object')\n",
    "\n",
    "for i in range(len(snapshots)):\n",
    "    snapshots[i] = ('Snap%03d' % data_in[i,0])\n",
    "    years[i] = ('%d yrs' % data_in[i,1])\n",
    "    loglsts[i] = 10**data_in[i,3]\n",
    "    loginnerflux[i] = 10**data_in[i,4]\n",
    "    "
   ]
  },
  {
   "cell_type": "code",
   "execution_count": null,
   "metadata": {},
   "outputs": [],
   "source": [
    "years[8] = years[8]+' (burst)'\n",
    "years[9] = years[9]+' (burst)'\n",
    "years[10] = years[10] + ' (variable)'\n",
    "print(years[8])"
   ]
  },
  {
   "cell_type": "code",
   "execution_count": null,
   "metadata": {},
   "outputs": [],
   "source": [
    "for i in range(len(snapshots)):\n",
    "    print(i, snapshots[i])"
   ]
  },
  {
   "cell_type": "markdown",
   "metadata": {},
   "source": [
    "Dashed line: Power-law relation given by Anglada et. al. (2015), \n",
    "    $$ S_\\nu d^2 = 8 * 10^{-3} (L_\\mathrm{bol})^{0.6}$$"
   ]
  },
  {
   "cell_type": "code",
   "execution_count": null,
   "metadata": {},
   "outputs": [],
   "source": [
    "fig, ax = plt.subplots(figsize = (6,6))\n",
    "fig.suptitle('Inner 1000AU Region of Constant Injection Snapshots')\n",
    "ax.set_xlim(1e-1,1.45e6)\n",
    "ax.set_xscale('log')\n",
    "ax.set_xlabel(r'$L_{bol}\\ (\\mathrm{L_\\odot})$')\n",
    "\n",
    "\n",
    "ax.set_ylim(1e-4,1.0e6)\n",
    "ax.set_yscale('log')\n",
    "ax.set_ylabel(r'$S_\\nu d^2 (\\mathrm{mJy\\ kpc^2})$')\n",
    "\n",
    "colors = cm.get_cmap('rainbow_r')\n",
    "for i in range(len(snapshots[:10])):\n",
    "    ax.scatter(loglsts[i], loginnerflux[i], label = years[i], \n",
    "               color = colors(i/12), s=200, marker='+')\n",
    "    \n",
    "ax.scatter(loglsts[22], loginnerflux[22], label = years[22]+' (variable)', \n",
    "        color = colors(12/12), s=200, marker='+')\n",
    "    \n",
    "lum = np.array([10**-1, 10**0, 10**1, 10**2, 10**3, 10**4, 10**5, 10**6])\n",
    "Snud2 = np.zeros(len(lum))\n",
    "for i in range(len(Snud2)):\n",
    "    Snud2[i] = 8*10**-3*lum[i]**.6\n",
    "    \n",
    "ax.plot(lum, Snud2, '--', color='gray', \n",
    "        label = (r'$S_\\nu d^2 = 8\\times10^{-3}(L_\\mathrm{bol})^{-0.6}$'))\n",
    "\n",
    "ax.legend(bbox_to_anchor=(1,1))\n",
    "\n",
    "fig.savefig('C:/users/emiga/Desktop/VICO/Presentation/CI_myAngladaBig.png',  transparent=True)"
   ]
  },
  {
   "cell_type": "code",
   "execution_count": null,
   "metadata": {},
   "outputs": [],
   "source": []
  },
  {
   "cell_type": "code",
   "execution_count": null,
   "metadata": {},
   "outputs": [],
   "source": [
    "fig, ax = plt.subplots()\n",
    "fig.suptitle('Inner 1000AU Region of Burst Injection Snapshots')\n",
    "ax.set_xlim(1e-1,1.45e6)\n",
    "ax.set_xscale('log')\n",
    "ax.set_xlabel(r'$L_{bol}\\ (\\mathrm{L_\\odot})$')\n",
    "\n",
    "\n",
    "ax.set_ylim(1e-4,1.0e6)\n",
    "ax.set_yscale('log')\n",
    "ax.set_ylabel(r'$S_\\nu d^2 (\\mathrm{mJy\\ kpc^2})$')\n",
    "\n",
    "colors = cm.get_cmap('rainbow_r')\n",
    "for i in range(8, 10):\n",
    "    ax.scatter(loglsts[i], loginnerflux[i], label = snapshots[i], \n",
    "               color = colors((i-5)/8), marker = '+')\n",
    "    \n",
    "ax.plot(lum, Snud2, '--', color='gray', \n",
    "        label = (r'$S_\\nu d^2 = 8\\times10^{-3}(L_\\mathrm{bol})^{-0.6}$'))\n",
    "\n",
    "ax.legend(loc='upper left')\n",
    "fig.savefig('C:/users/emiga/Desktop/VICO/AngladaPlot_Rosero2019/Plots/VF_myAnglada.png', transparent=True)"
   ]
  },
  {
   "cell_type": "code",
   "execution_count": null,
   "metadata": {},
   "outputs": [],
   "source": [
    "fig, ax = plt.subplots()\n",
    "fig.suptitle('Inner 1000AU Region of Variable Injection Snapshots')\n",
    "ax.set_xlim(1e3,1.45e5)\n",
    "ax.set_xscale('log')\n",
    "ax.set_xlabel(r'$L_{bol}\\ (\\mathrm{L_\\odot})$')\n",
    "\n",
    "\n",
    "ax.set_ylim(1*10**.75,1.0*10**1.25)\n",
    "ax.set_yscale('log')\n",
    "ax.set_ylabel(r'$S_\\nu d^2 (\\mathrm{mJy\\ kpc^2})$')\n",
    "\n",
    "\n",
    "colors = cm.get_cmap('plasma')\n",
    "for i in range(11, len(snapshots)):\n",
    "    ax.scatter(loglsts[i], loginnerflux[i], label = snapshots[i], \n",
    "               color = colors((i-6)/(len(snapshots)-6)), marker = '+')\n",
    "    \n",
    "ax.plot(lum, Snud2, '--', color='gray', \n",
    "        label = (r'$S_\\nu d^2 = 8\\times10^{-3}(L_\\mathrm{bol})^{-0.6}$'))\n",
    "\n",
    "ax.legend(loc='upper left')\n",
    "fig.savefig('C:/users/emiga/Desktop/VICO/AngladaPlot_Rosero2019/Plots/VF_myAnglada.png')"
   ]
  },
  {
   "cell_type": "code",
   "execution_count": null,
   "metadata": {},
   "outputs": [],
   "source": []
  }
 ],
 "metadata": {
  "kernelspec": {
   "display_name": "Python 3",
   "language": "python",
   "name": "python3"
  },
  "language_info": {
   "codemirror_mode": {
    "name": "ipython",
    "version": 3
   },
   "file_extension": ".py",
   "mimetype": "text/x-python",
   "name": "python",
   "nbconvert_exporter": "python",
   "pygments_lexer": "ipython3",
   "version": "3.8.5"
  }
 },
 "nbformat": 4,
 "nbformat_minor": 4
}
