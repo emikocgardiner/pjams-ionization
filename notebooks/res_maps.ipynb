{
 "cells": [
  {
   "cell_type": "code",
   "execution_count": null,
   "metadata": {},
   "outputs": [],
   "source": [
    "%reload_ext autoreload\n",
    "%autoreload 2\n",
    "from importlib import reload\n",
    "\n",
    "\n",
    "import sys, os, inspect\n",
    "import sys\n",
    "sys.path.append('/Users/emigardiner/VICO/pjams-ionization/pjams/')\n",
    "\n",
    "from zeusmp_snapshot_reader import read_zeusmp_snapshot\n",
    "from zeusmp_snapshot_reader import ScaleFactors\n",
    "from snapshot import snapshot \n",
    "from basic_snapshot import basic_snapshot, VICO_loc\n",
    "import plot as plot\n",
    "import slices as slices\n",
    "from ionfrac import VMIN, VMAX\n",
    "import flux as flux\n",
    "import ionfrac as ionfrac\n",
    "\n",
    "import numpy as np\n",
    "\n",
    "import matplotlib.pyplot as plt\n",
    "import matplotlib.gridspec as gridspec\n",
    "from matplotlib import cm\n",
    "from matplotlib.colors import TwoSlopeNorm\n",
    "\n",
    "from PIL import Image, ImageDraw, ImageFont\n",
    "from IPython.display import Image as DisplayImage"
   ]
  },
  {
   "cell_type": "code",
   "execution_count": null,
   "metadata": {},
   "outputs": [],
   "source": [
    "saveloc = VICO_loc + '/pillowfiles/res_maps_fig'"
   ]
  },
  {
   "cell_type": "code",
   "execution_count": null,
   "metadata": {},
   "outputs": [],
   "source": [
    "freqs = np.array([.01, .05, .1, .5, 1, 5.3, 23, 43, 100, 230 ]) # GHz\n",
    "freqs *= 10**9 # Hz\n",
    "\n",
    "r_kpc = 1\n",
    "heights_and_scales = np.load(VICO_loc+'/Data/heights_and_scales.npz')\n",
    "scales = heights_and_scales['scales'] # AU\n",
    "heights = heights_and_scales['heights'] # AU  \n",
    "\n",
    "colors = plot.COLORS"
   ]
  },
  {
   "cell_type": "code",
   "execution_count": null,
   "metadata": {},
   "outputs": [],
   "source": [
    "rnums = np.array([9, 21, 39, 54])\n",
    "ryears = np.array(['9,000 yrs', '21,000 yrs', '39,000 yrs', '54,000 yrs',])\n",
    "rmasss = np.array([r'2 M$_\\odot$', r'4 M$_\\odot$', r'8 M$_\\odot$', r'12 M$_\\odot$',])\n",
    "snaps_lr, snaps_mr, snaps_hr = flux.prep_res_snapshots()\n",
    "\n",
    "mass_lr = np.array(['2 M$_\\odot$ lr', '4 M$_\\odot$ lr', '8 M$_\\odot$ lr', '12 M$_\\odot$ lr',])\n",
    "mass_mr = np.array(['2 M$_\\odot$ mr', '4 M$_\\odot$ mr', '8 M$_\\odot$ mr', '12 M$_\\odot$ mr',])\n",
    "mass_hr = np.array(['2 M$_\\odot$ hr', '4 M$_\\odot$ hr', '8 M$_\\odot$ hr', '12 M$_\\odot$ hr',])\n",
    "# print(mass_lr, mass_mr, mass_hr)"
   ]
  },
  {
   "cell_type": "code",
   "execution_count": null,
   "metadata": {},
   "outputs": [],
   "source": [
    "allsnaps = np.array([snaps_hr, snaps_mr, snaps_lr])\n",
    "allsnaps = allsnaps.swapaxes(0,1).flatten()\n",
    "for snap in allsnaps:\n",
    "    print(snap.name)"
   ]
  },
  {
   "cell_type": "code",
   "execution_count": null,
   "metadata": {},
   "outputs": [],
   "source": [
    "allmasss = np.array([r'2$M_\\odot$'+'\\nhi', r'2$M_\\odot$'+'\\nmed', r'2$M_\\odot$'+'\\nlo',\n",
    "                         r'4$M_\\odot$'+'\\nhi', r'4$M_\\odot$'+'\\nmed', r'4$M_\\odot$'+'\\nlo', \n",
    "                         r'8$M_\\odot$'+'\\nhi', r'8$M_\\odot$'+'\\nmed', r'8$M_\\odot$'+'\\nlo',\n",
    "                         r'12$M_\\odot$'+'\\nhi', r'12$M_\\odot$'+'\\nmed', r'12$M_\\odot$'+'\\nlo'])\n",
    "\n",
    "allyears = np.array(['9,000 yrs hi-res', '9,000 yrs mid-res', '9,000 yrs lo-res',\n",
    "                        '21,000 yrs hi-res', '21,000 yrs mid-res', '21,000 yrs lo-res',\n",
    "                        '39,000 yrs hi-res', '39,000 yrs mid-res', '39,000 yrs lo-res',\n",
    "                        '54,000 yrs hi-res', '54,000 yrs mid-res', '54,000 yrs lo-res'])"
   ]
  },
  {
   "cell_type": "code",
   "execution_count": null,
   "metadata": {},
   "outputs": [],
   "source": [
    "for snap in allsnaps.flatten():\n",
    "    ionfrac.load_average_ionfrac_array(snap)\n",
    "    ionfrac.load_average_ionfrac_array_ratio(snap, const=False)\n",
    "    \n",
    "# Maximum Velocities for Contours\n",
    "for snap in allsnaps.flatten(): \n",
    "    for v in ionfrac.v_mins:\n",
    "        ionfrac.max_velocity_proj_array(snap, v)"
   ]
  },
  {
   "cell_type": "code",
   "execution_count": null,
   "metadata": {},
   "outputs": [],
   "source": [
    "for Snap in FlatResSnapshots:\n",
    "    load_average_ionfrac_array(Snap)\n",
    "    load_average_ionfrac_array_const(Snap, const=False)"
   ]
  },
  {
   "attachments": {},
   "cell_type": "markdown",
   "metadata": {},
   "source": [
    "# Plotting Functions"
   ]
  },
  {
   "cell_type": "code",
   "execution_count": null,
   "metadata": {},
   "outputs": [],
   "source": []
  }
 ],
 "metadata": {
  "kernelspec": {
   "display_name": "pjams",
   "language": "python",
   "name": "python3"
  },
  "language_info": {
   "codemirror_mode": {
    "name": "ipython",
    "version": 3
   },
   "file_extension": ".py",
   "mimetype": "text/x-python",
   "name": "python",
   "nbconvert_exporter": "python",
   "pygments_lexer": "ipython3",
   "version": "3.10.11"
  }
 },
 "nbformat": 4,
 "nbformat_minor": 2
}
