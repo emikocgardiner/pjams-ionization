{
 "cells": [
  {
   "cell_type": "code",
   "execution_count": null,
   "metadata": {},
   "outputs": [],
   "source": [
    "%reload_ext autoreload\n",
    "%autoreload 2\n",
    "from importlib import reload\n",
    "\n",
    "\n",
    "import sys, os, inspect\n",
    "import sys\n",
    "sys.path.append('/Users/emigardiner/VICO/pjams-ionization/pjams/')\n",
    "\n",
    "from zeusmp_snapshot_reader import read_zeusmp_snapshot\n",
    "from zeusmp_snapshot_reader import ScaleFactors\n",
    "from snapshot import snapshot \n",
    "from basic_snapshot import basic_snapshot\n",
    "import plot\n",
    "import flux\n",
    "import ionfrac\n",
    "\n",
    "import numpy as np\n",
    "\n",
    "import matplotlib.pyplot as plt\n",
    "import matplotlib.gridspec as gridspec\n",
    "from matplotlib import cm\n",
    "from matplotlib.colors import TwoSlopeNorm\n",
    "from matplotlib.lines import Line2D\n",
    "\n",
    "from PIL import Image, ImageDraw, ImageFont\n",
    "from IPython.display import Image as DisplayImage"
   ]
  },
  {
   "cell_type": "code",
   "execution_count": null,
   "metadata": {},
   "outputs": [],
   "source": [
    "VICO_loc = '/Users/emigardiner/VICO/pjams-ionization'\n",
    "\n",
    "# INPUTS\n",
    "freqs = np.array([.01, .05, .1, .5, 1, 5.3, 23, 43, 100, 230 ]) # GHz\n",
    "freqs *= 10**9 # Hz\n",
    "\n",
    "r_kpc = 1\n",
    "heights_and_scales = np.load(VICO_loc+'/Data/heights_and_scales.npz')\n",
    "scales = heights_and_scales['scales'] # AU\n",
    "heights = heights_and_scales['heights'] # AU  \n",
    "\n",
    "colors = plot.COLORS"
   ]
  },
  {
   "cell_type": "markdown",
   "metadata": {},
   "source": [
    "# Read in Snapshots"
   ]
  },
  {
   "cell_type": "code",
   "execution_count": null,
   "metadata": {},
   "outputs": [],
   "source": [
    "nums = np.array([4, 9, 21, 39, 54, 68, 94])\n",
    "years = np.array(['4,000 yrs', '9,000 yrs', '21,000 yrs', '39,000 yrs', '54,000 yrs', '68,000 yrs', '94,000 yrs'])\n",
    "masss = np.array([r'1.4 M$_\\odot$', r'2 M$_\\odot$', r'4 M$_\\odot$',\n",
    "                   r'8 M$_\\odot$', r'12 M$_\\odot$', r'16 M$_\\odot$',\n",
    "                   r'24 M$_\\odot$'])"
   ]
  },
  {
   "cell_type": "code",
   "execution_count": null,
   "metadata": {},
   "outputs": [],
   "source": [
    "snaps = np.empty_like(nums, dtype=snapshot)\n",
    "for ii, num in enumerate(nums):\n",
    "    snaps[ii] = snapshot(snap=num, name = ('Snap%03d_n' % num), read_zeusmp = False)\n",
    "    # snaps[ii].load_shock_variables()\n",
    "    # snaps[ii].load_fluxes()"
   ]
  },
  {
   "cell_type": "markdown",
   "metadata": {},
   "source": [
    "# Calculate ionfrac Profiles"
   ]
  },
  {
   "cell_type": "code",
   "execution_count": null,
   "metadata": {},
   "outputs": [],
   "source": [
    "targets=np.linspace(0,26000,27)\n",
    "debug=True\n",
    "\n",
    "zseg, zval, zmid = ionfrac.get_z_segments(snaps[0].x1, targets)\n",
    "if debug: print(f\"{zseg=} \\n{zval=} \\n{zmid=}\")"
   ]
  },
  {
   "cell_type": "code",
   "execution_count": null,
   "metadata": {},
   "outputs": [],
   "source": [
    "for ratio in [True, False]:\n",
    "    for ss, snap in enumerate(snaps):\n",
    "        print(snap.name, 'ratio=',ratio)\n",
    "        ionfrac.make_ionfrac_profiles(snap, zseg, ratio=ratio, debug=False, norm=NORM)"
   ]
  }
 ],
 "metadata": {
  "kernelspec": {
   "display_name": "pjams",
   "language": "python",
   "name": "python3"
  },
  "language_info": {
   "codemirror_mode": {
    "name": "ipython",
    "version": 3
   },
   "file_extension": ".py",
   "mimetype": "text/x-python",
   "name": "python",
   "nbconvert_exporter": "python",
   "pygments_lexer": "ipython3",
   "version": "3.10.11"
  }
 },
 "nbformat": 4,
 "nbformat_minor": 2
}
