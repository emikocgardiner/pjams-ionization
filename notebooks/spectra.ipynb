{
 "cells": [
  {
   "cell_type": "code",
   "execution_count": null,
   "metadata": {},
   "outputs": [],
   "source": [
    "%reload_ext autoreload\n",
    "%autoreload 2\n",
    "from importlib import reload\n",
    "\n",
    "\n",
    "import sys, os, inspect\n",
    "import sys\n",
    "sys.path.append('/Users/emigardiner/VICO/pjams-ionization/pjams/')\n",
    "\n",
    "from zeusmp_snapshot_reader import read_zeusmp_snapshot\n",
    "from zeusmp_snapshot_reader import ScaleFactors\n",
    "from snapshot import snapshot \n",
    "from basic_snapshot import basic_snapshot\n",
    "import plot as plot\n",
    "import flux as flux\n",
    "\n",
    "import numpy as np\n",
    "\n",
    "import matplotlib.pyplot as plt\n",
    "import matplotlib.gridspec as gridspec\n",
    "from matplotlib import cm\n",
    "from matplotlib.lines import Line2D"
   ]
  },
  {
   "cell_type": "code",
   "execution_count": null,
   "metadata": {},
   "outputs": [],
   "source": [
    "VICO_loc = '/Users/emigardiner/VICO/pjams-ionization'\n",
    "\n",
    "# INPUTS\n",
    "freqs = np.array([.01, .05, .1, .5, 1, 5.3, 23, 43, 100, 230 ]) # GHz\n",
    "freqs *= 10**9 # Hz\n",
    "\n",
    "r_kpc = 1\n",
    "heights_and_scales = np.load(VICO_loc+'/Data/heights_and_scales.npz')\n",
    "scales = heights_and_scales['scales'] # AU\n",
    "heights = heights_and_scales['heights'] # AU  \n",
    "\n",
    "colors = plot.COLORS\n",
    "alpha = plot.ALPHA"
   ]
  },
  {
   "cell_type": "markdown",
   "metadata": {},
   "source": [
    "# Read in Snapshots"
   ]
  },
  {
   "cell_type": "code",
   "execution_count": null,
   "metadata": {},
   "outputs": [],
   "source": [
    "nums = np.array([4, 9, 21, 39, 54, 68, 94])\n",
    "years = np.array(['4,000 yrs', '9,000 yrs', '21,000 yrs', '39,000 yrs', '54,000 yrs', '68,000 yrs', '94,000 yrs'])\n",
    "masss = np.array([r'1.4 M$_\\odot$', r'2 M$_\\odot$', r'4 M$_\\odot$',\n",
    "                   r'8 M$_\\odot$', r'12 M$_\\odot$', r'16 M$_\\odot$',\n",
    "                   r'24 M$_\\odot$'])"
   ]
  },
  {
   "cell_type": "code",
   "execution_count": null,
   "metadata": {},
   "outputs": [],
   "source": [
    "snaps = np.empty_like(nums, dtype=snapshot)\n",
    "for ii, num in enumerate(nums):\n",
    "    snaps[ii] = snapshot(snap=num, name = ('Snap%03d_n' % num), read_zeusmp = False)\n",
    "    # shot[ii].load_shock_variables()\n",
    "    snaps[ii].load_fluxes()"
   ]
  },
  {
   "attachments": {},
   "cell_type": "markdown",
   "metadata": {},
   "source": [
    "match scale axes"
   ]
  },
  {
   "cell_type": "code",
   "execution_count": null,
   "metadata": {},
   "outputs": [],
   "source": [
    "print(snaps[0].ScaleFluxes_ratio.shape)\n",
    "print(snaps[0].ScaleFluxes.shape)"
   ]
  },
  {
   "cell_type": "code",
   "execution_count": null,
   "metadata": {},
   "outputs": [],
   "source": [
    "def add_slope(ax, ls=':', color='k', alpha=0.9, lw=1,\n",
    "    m1 = 2,    xmin1=10**-2,   xmax1=10**-1.5,   ymin1 =  10**-3,\n",
    "    m2 = -0.1, xmin2=10**1.86, xmax2=10**2.36, ymax2 = 3.5*10**-2):\n",
    "\n",
    "    ymax1 = ymin1 * (xmax1/xmin1)**m1\n",
    "    # log y2 = log y1 + m*(logx2-logx1) = log y1 + log((x2/x1)^m)\n",
    "    # y2 = y1 + (x2/x1)^m = y1 + \n",
    "\n",
    "    ymin2 = ymax2 / (xmax2/xmin2)**m2\n",
    "\n",
    "\n",
    "    ax.plot([xmin1, xmax1], [ymin1, ymax1], ls=ls, color=color, alpha=alpha, lw=lw)\n",
    "    ax.plot([xmin2, xmax2], [ymin2, ymax2], ls=ls, color=color, alpha=alpha, lw=lw)"
   ]
  },
  {
   "cell_type": "code",
   "execution_count": null,
   "metadata": {},
   "outputs": [],
   "source": [
    "def plot_spectra_case(snaps, labels, xx=freqs/10**9, case='A',\n",
    "    # row_text = ['Case A', 'Case B'],\n",
    "    col_text = ['1000 au', '25000 au'],\n",
    "    xx_text=0.02, yy_text=0.98,\n",
    "    xlabel = r'Frequency, $\\nu$ [GHz]', ylabel = r'Flux $S_\\nu$ [mJy]',\n",
    "    markers = np.array(['v', 's', 'x', '*', 'd', 'P']), colors = plot.COLORS,\n",
    "    ylim = None,\n",
    "    ):\n",
    "\n",
    "\n",
    "    fig, axs = plot.figax_single(\n",
    "        nrows=2, ncols=1, height=7, sharex=True)\n",
    "    axs[1].set_xlabel(xlabel)\n",
    "\n",
    "    fig.text(0.06, 0.5, ylabel, va='center', ha='center', rotation='vertical')\n",
    "            \n",
    "    for ss, snap in enumerate(snaps):\n",
    "        if case=='A':\n",
    "            yy = [snap.ScaleFluxes[0,:,1], snap.ScaleFluxes[0,:,-1]]\n",
    "        elif case=='B':\n",
    "            yy = [snap.ScaleFluxes_ratio[:,1], snap.ScaleFluxes_ratio[:,-1]]\n",
    "        else:\n",
    "            err = f\"{case=} must be 'A' or 'B'\"\n",
    "            raise ValueError(err)\n",
    "\n",
    "        for ii, ax in enumerate(axs.flatten()):\n",
    "            ax.plot(xx, yy[ii], color=colors[ss], label=labels[ss], marker=None, alpha=0.9, linestyle='-')\n",
    "            # ax.plot(xx, y2[ii], color=colors[ss], label=labels[ss], marker=markers[ss], alpha=plot.ALPHA, linestyle='-')\n",
    "\n",
    "    if case == 'A':\n",
    "        axs[0].legend(loc='lower right', ncols=2)\n",
    "        for ii, ax in enumerate(axs):\n",
    "            ax.text(xx_text, yy_text, col_text[ii],\n",
    "                    weight='bold', ha='left', va='top', transform=ax.transAxes,)\n",
    "        add_slope(axs[0], ymin1=9.5*10**-4, ymax2=1.7*10**0)\n",
    "        add_slope(axs[1], ymin1=4*10**-1, ymax2=7*10**1)\n",
    "    else:\n",
    "        axs[1].legend(loc='lower left', ncols=2)\n",
    "        for ii, ax in enumerate(axs):\n",
    "            ax.text(0.98, 0.02, col_text[ii],\n",
    "                    weight='bold', ha='right', va='bottom', transform=ax.transAxes,)\n",
    "            \n",
    "        add_slope(axs[0], ymin1=9*10**-4, ymax2=3*10**-2)\n",
    "        add_slope(axs[1], ymin1=7*10**-2, ymax2=1*10**-1)\n",
    "\n",
    "    # axs[1].set_ylim(ylim2)\n",
    "    # if ax0_text is not None and ax1_text is not None:\n",
    "    #     axtext = np.array([ax0_text, ax0_text, ax1_text, ax1_text])\n",
    "    #     for ii, ax in enumerate(axs.flatten()):\n",
    "    #         ax.text(xx_text, yy_text, axtext[ii], transform=ax.transAxes,\n",
    "    #                 weight='bold', horizontalalignment='right')\n",
    "\n",
    "    if ylim is not None:\n",
    "        for ax in axs:\n",
    "            ax.set_ylim(ylim)\n",
    "\n",
    "    fig.subplots_adjust(hspace=0)\n",
    "    return fig\n",
    "\n",
    "fig1 = plot_spectra_case(snaps[1:], labels=masss[1:], case='A')\n",
    "fig1.savefig(VICO_loc+'/figures/spectra/spectra_caseA.png', dpi=300, bbox_inches='tight')\n",
    "\n",
    "\n",
    "fig2 = plot_spectra_case(snaps[1:], labels=masss[1:], case='B', ylim=(10**-3.5,10**0))\n",
    "fig2.savefig(VICO_loc+'/figures/spectra/spectra_caseB.png', dpi=300, bbox_inches='tight')\n"
   ]
  },
  {
   "cell_type": "code",
   "execution_count": null,
   "metadata": {},
   "outputs": [],
   "source": [
    "fig1 = plot_spectra_case(snaps[:], labels=masss[:], case='A', colors=plot.COLORS_INC4)\n",
    "fig1.savefig(VICO_loc+'/figures/spectra/spectra2_caseA.png', dpi=300, bbox_inches='tight')\n",
    "\n",
    "\n",
    "fig2 = plot_spectra_case(snaps[:], labels=masss[:], case='B', ylim=(10**-3.5,10**0), colors=plot.COLORS_INC4)\n",
    "fig2.savefig(VICO_loc+'/figures/spectra/spectra2_caseB.png', dpi=300, bbox_inches='tight')"
   ]
  },
  {
   "cell_type": "markdown",
   "metadata": {},
   "source": [
    "# Old"
   ]
  },
  {
   "cell_type": "code",
   "execution_count": null,
   "metadata": {},
   "outputs": [],
   "source": [
    "def plot_4panel_spectra(snaps, labels, xx=freqs/10**9, \n",
    "    row_text = ['Case A', 'Case B'], col_text = ['1000 au', '25000 au'],\n",
    "    xx_text=0.99, yy_text=0.025, match='rows',\n",
    "    xlabel = r'Frequency, $\\nu$ [GHz]', ylabel = r'Flux $S_\\nu$ [mJy]',\n",
    "    markers = np.array(['v', 's', 'x', '*', 'd', 'P']), colors = plot.COLORS,\n",
    "    ):\n",
    "\n",
    "\n",
    "    fig, axs = plot.figax(\n",
    "        nrows=2, ncols=2, figsize=(11,7), sharex=True)\n",
    "\n",
    "    if match=='rows':\n",
    "        axs[1,0].sharey(axs[0,0])\n",
    "        axs[1,1].sharey(axs[0,1])\n",
    "    elif match=='cols': \n",
    "        axs[0,1].sharey(axs[0,0])\n",
    "        axs[1,1].sharey(axs[1,0])\n",
    "    for ax in axs[1,:]:\n",
    "        ax.set_xlabel(xlabel)\n",
    "    for ax in axs[:,0]:\n",
    "        ax.set_ylabel(ylabel)\n",
    "\n",
    "    for ii, row in enumerate(axs):\n",
    "        for jj, ax in enumerate(row):\n",
    "            ax.text(xx_text, yy_text, (col_text[jj]+'\\n'+row_text[ii]),\n",
    "                    weight='bold', horizontalalignment='right', transform=ax.transAxes,)\n",
    "            \n",
    "    for ss, snap in enumerate(snaps):\n",
    "        y00 = snap.ScaleFluxes[0,:,1]\n",
    "        y01 = snap.ScaleFluxes[0,:,-1]\n",
    "        y10 = snap.ScaleFluxes_ratio[:,1]\n",
    "        y11 = snap.ScaleFluxes_ratio[:,-1]\n",
    "        yy = np.array([y00, y01, y10, y11])\n",
    "\n",
    "\n",
    "        for ii, ax in enumerate(axs.flatten()):\n",
    "            ax.plot(xx, yy[ii], color=colors[ss], label=labels[ss], marker=markers[ss], alpha=plot.ALPHA)\n",
    "\n",
    "    # if ax0_text is not None and ax1_text is not None:\n",
    "    #     axtext = np.array([ax0_text, ax0_text, ax1_text, ax1_text])\n",
    "    #     for ii, ax in enumerate(axs.flatten()):\n",
    "    #         ax.text(xx_text, yy_text, axtext[ii], transform=ax.transAxes,\n",
    "    #                 weight='bold', horizontalalignment='right')\n",
    "\n",
    "    fig.tight_layout()\n",
    "    return fig\n"
   ]
  },
  {
   "attachments": {},
   "cell_type": "markdown",
   "metadata": {},
   "source": [
    "match scales (cols)"
   ]
  },
  {
   "cell_type": "code",
   "execution_count": null,
   "metadata": {},
   "outputs": [],
   "source": [
    "\n",
    "fig = plot_4panel_spectra(snaps[1:], labels=masss[1:], match='cols')\n",
    "ax = fig.axes[0]\n",
    "ax.legend(loc='upper left')\n",
    "fig.tight_layout()\n",
    "fig.savefig(VICO_loc+'/figures/spectra/spectra_4panel_matchscale.png', dpi=300)"
   ]
  },
  {
   "attachments": {},
   "cell_type": "markdown",
   "metadata": {},
   "source": [
    "match cooling (rows)"
   ]
  },
  {
   "cell_type": "code",
   "execution_count": null,
   "metadata": {},
   "outputs": [],
   "source": [
    "fig = plot_4panel_spectra(snaps[1:], labels=masss[1:], match='rows')\n",
    "ax = fig.axes[0]\n",
    "ax.legend(loc='upper left')\n",
    "fig.tight_layout()\n",
    "fig.savefig(VICO_loc+'/figures/spectra/spectra_4panel_matchcooling.png', dpi=300)"
   ]
  },
  {
   "attachments": {},
   "cell_type": "markdown",
   "metadata": {},
   "source": [
    "## combined_spectra"
   ]
  },
  {
   "cell_type": "code",
   "execution_count": null,
   "metadata": {},
   "outputs": [],
   "source": [
    "def plot_combined_spectra(snaps, labels, xx=freqs/10**9, \n",
    "    # row_text = ['Case A', 'Case B'],\n",
    "    col_text = ['1000 au', '25000 au'],\n",
    "    xx_text=0.99, yy_text=0.025,\n",
    "    xlabel = r'Frequency, $\\nu$ [GHz]', ylabel = r'Flux $S_\\nu$ [mJy]',\n",
    "    markers = np.array(['v', 's', 'x', '*', 'd', 'P']), colors = plot.COLORS,\n",
    "    ylim2 = (10**-1.8, 10**2.9)\n",
    "    ):\n",
    "\n",
    "\n",
    "    fig, axs = plot.figax(\n",
    "        nrows=1, ncols=2, figsize=(11,4), sharex=True, xlabel=xlabel)\n",
    "\n",
    "    axs[0].set_ylabel(ylabel)\n",
    "    for ii, ax in enumerate(axs):\n",
    "        ax.text(xx_text, yy_text, col_text[ii],\n",
    "                weight='bold', horizontalalignment='right', transform=ax.transAxes,)\n",
    "            \n",
    "    for ss, snap in enumerate(snaps):\n",
    "        y1 = [snap.ScaleFluxes[0,:,1], snap.ScaleFluxes[0,:,-1]]\n",
    "        y2 = [snap.ScaleFluxes_ratio[:,1], snap.ScaleFluxes_ratio[:,-1]]\n",
    "\n",
    "        for ii, ax in enumerate(axs.flatten()):\n",
    "            ax.plot(xx, y1[ii], color=colors[ss], label=None, marker=markers[ss], alpha=plot.ALPHA, linestyle='--')\n",
    "            ax.plot(xx, y2[ii], color=colors[ss], label=labels[ss], marker=markers[ss], alpha=plot.ALPHA, linestyle='-')\n",
    "\n",
    "    axs[0].legend(loc='upper left')\n",
    "    axs[1].set_ylim(ylim2)\n",
    "    # if ax0_text is not None and ax1_text is not None:\n",
    "    #     axtext = np.array([ax0_text, ax0_text, ax1_text, ax1_text])\n",
    "    #     for ii, ax in enumerate(axs.flatten()):\n",
    "    #         ax.text(xx_text, yy_text, axtext[ii], transform=ax.transAxes,\n",
    "    #                 weight='bold', horizontalalignment='right')\n",
    "\n",
    "    fig.tight_layout()\n",
    "    return fig\n",
    "\n",
    "fig = plot_combined_spectra(snaps[1:], labels=masss[1:])\n",
    "\n",
    "legend_elements = [Line2D([0], [0], color='k', linestyle='--', label='Case A'),\n",
    "                   Line2D([0], [0], color='k', linestyle='-', label='Case B')]\n",
    "fig.axes[1].legend(handles=legend_elements, bbox_to_anchor = (0.0,1.0), loc='upper left')\n",
    "fig.tight_layout()\n",
    "\n",
    "fig.savefig(VICO_loc+'/figures/spectra/spectra_combined.png', dpi=300)\n"
   ]
  },
  {
   "cell_type": "markdown",
   "metadata": {},
   "source": [
    "# All-Res"
   ]
  },
  {
   "cell_type": "code",
   "execution_count": null,
   "metadata": {},
   "outputs": [],
   "source": [
    "rnums = np.array([9, 21, 39, 54])\n",
    "ryears = years[1:len(rnums)+1]\n",
    "rmasss = masss[1:len(rnums)+1]\n",
    "snaps_lr, snaps_mr, snaps_hr = flux.prep_spec_snapshots()\n",
    "\n",
    "mass_lr = np.array(['2 M$_\\odot$ lr', '4 M$_\\odot$ lr', '8 M$_\\odot$ lr', '12 M$_\\odot$ lr',])\n",
    "mass_mr = np.array(['2 M$_\\odot$ mr', '4 M$_\\odot$ mr', '8 M$_\\odot$ mr', '12 M$_\\odot$ mr',])\n",
    "mass_hr = np.array(['2 M$_\\odot$ hr', '4 M$_\\odot$ hr', '8 M$_\\odot$ hr', '12 M$_\\odot$ hr',])\n",
    "# print(mass_lr, mass_mr, mass_hr)"
   ]
  },
  {
   "cell_type": "code",
   "execution_count": null,
   "metadata": {},
   "outputs": [],
   "source": [
    "print(snaps_lr[0].__dict__.keys())\n",
    "print(scales)\n",
    "print(f\"{snaps_lr[0].ScaleFluxes.shape=}\")\n",
    "print(f\"{snaps_lr[0].ScaleFluxes_ratio.shape=}\")"
   ]
  },
  {
   "cell_type": "code",
   "execution_count": null,
   "metadata": {},
   "outputs": [],
   "source": [
    "def plot_allres_spectra(snaps_lr=None, snaps_mr=None, snaps_hr=None, labels=None, xx=freqs/10**9, \n",
    "    row_text = ['Case A', 'Case B'], col_text = ['1000 au', '25000 au'],\n",
    "    xx_text=0.99, yy_text=0.025, match_rows=False, match='rows',\n",
    "    xlabel = r'Frequency, $\\nu$ [GHz]', ylabel = r'Flux $S_\\nu$ [mJy]',\n",
    "    markers = np.array(['v', 's', 'x', '*', 'd', 'P']), colors = plot.COLORS,\n",
    "    linestyles=[':', '--', '-'],\n",
    "    linewidths=[2, 2, 2],\n",
    "    markstyles=['x', '+', 'o']\n",
    "    ):\n",
    "\n",
    "\n",
    "    fig, axs = plot.figax_double(\n",
    "        nrows=2, ncols=2, height=7, sharex=True)\n",
    "    \n",
    "    if match=='rows':\n",
    "        axs[1,0].sharey(axs[0,0])\n",
    "        axs[1,1].sharey(axs[0,1])\n",
    "    elif match=='cols': \n",
    "        axs[0,1].sharey(axs[0,0])\n",
    "        axs[1,1].sharey(axs[1,0])\n",
    "\n",
    "    for ax in axs[1,:]:\n",
    "        ax.set_xlabel(xlabel)\n",
    "    for ax in axs[:,0]:\n",
    "        ax.set_ylabel(ylabel)\n",
    "\n",
    "    for ii, row in enumerate(axs):\n",
    "        for jj, ax in enumerate(row):\n",
    "            ax.text(xx_text, yy_text, (col_text[jj]+'\\n'+row_text[ii]),\n",
    "                    weight='bold', horizontalalignment='right', transform=ax.transAxes,)\n",
    "\n",
    "\n",
    "    for nn, snaps in enumerate([snaps_lr, snaps_mr, snaps_hr]):  \n",
    "        if snaps is not None:      \n",
    "            ls = linestyles[nn]\n",
    "            ms = markstyles[nn]\n",
    "            lw = linewidths[nn]\n",
    "            for ss, snap in enumerate(snaps):\n",
    "                y00 = snap.ScaleFluxes[0,:,1]\n",
    "                y01 = snap.ScaleFluxes[0,:,-1]\n",
    "                y10 = snap.ScaleFluxes_ratio[:,1]\n",
    "                y11 = snap.ScaleFluxes_ratio[:,-1]\n",
    "                yy = np.array([y00, y01, y10, y11])\n",
    "                for ii, ax in enumerate(axs.flatten()):\n",
    "                    label=labels[ss] if nn==1 else None\n",
    "                    ax.plot(xx, yy[ii], color=colors[ss], label=label, marker=ms, ls=ls, alpha=plot.ALPHA, lw=lw)\n",
    "\n",
    "    # if ax0_text is not None and ax1_text is not None:\n",
    "    #     axtext = np.array([ax0_text, ax0_text, ax1_text, ax1_text])\n",
    "    #     for ii, ax in enumerate(axs.flatten()):\n",
    "    #         ax.text(xx_text, yy_text, axtext[ii], transform=ax.transAxes,\n",
    "    #                 weight='bold', horizontalalignment='right')\n",
    "\n",
    "    return fig\n",
    "\n",
    "res_legend_elements = [\n",
    "            Line2D([0], [0], color='k', marker='x', linestyle=':', label='low-res'),\n",
    "            Line2D([0], [0], color='k', marker='+', linestyle='--',  label='mid-res'),\n",
    "            Line2D([0], [0], color='k', marker='o', linestyle='-',  label='high-res')]\n",
    "fiducial_legend_elements = [\n",
    "            Line2D([0], [0], color='k', marker=None, linestyle='--', label='low-res'),\n",
    "            Line2D([0], [0], color='k', marker=None, linestyle='-',  label='fiducial'),]\n",
    "            # Line2D([0], [0], color='k', marker='o', linestyle='-',  label='high-res')]"
   ]
  },
  {
   "cell_type": "code",
   "execution_count": null,
   "metadata": {},
   "outputs": [],
   "source": [
    "\n",
    "fig = plot_allres_spectra(snaps_lr, snaps_mr, snaps_hr, labels=rmasss, match='rows')\n",
    "ax = fig.axes[0]\n",
    "ax.legend(loc='upper left')\n",
    "fig.axes[1].legend(handles=res_legend_elements, bbox_to_anchor = (0.0,1.0), loc='upper left')\n",
    "fig.tight_layout()\n",
    "fig.savefig(VICO_loc+'/figures/spectra/spectra_allres.png', dpi=300)"
   ]
  },
  {
   "cell_type": "code",
   "execution_count": null,
   "metadata": {},
   "outputs": [],
   "source": [
    "fig = plot_allres_spectra(snaps_lr, snaps_mr, snaps_hr=None, labels=rmasss, match='cols',\n",
    "                              linestyles=['--', '-'], markstyles=[None, None])\n",
    "ax = fig.axes[0]\n",
    "ax.legend(loc='upper left')\n",
    "fig.axes[1].legend(handles=fiducial_legend_elements, bbox_to_anchor = (0.0,1.0), loc='upper left')\n",
    "\n",
    "for ax in [fig.axes[1], fig.axes[3]]:\n",
    "    ax.tick_params('y', labelleft=False)\n",
    "fig.subplots_adjust(wspace=0, hspace=0)\n",
    "fig.savefig(VICO_loc+'/figures/spectra/spectra_allres_allcase_matchy.png', dpi=300)"
   ]
  },
  {
   "cell_type": "code",
   "execution_count": null,
   "metadata": {},
   "outputs": [],
   "source": [
    "fig = plot_allres_spectra(snaps_lr, snaps_mr, snaps_hr=None, labels=rmasss, match=None,\n",
    "                              linestyles=['--', '-'], markstyles=[None, None])\n",
    "axs = fig.axes\n",
    "add_slope(axs[0], ymin1=3*10**-4, ymax2=3*10**0, lw=2)\n",
    "add_slope(axs[1], ymin1=7*10**-2, ymax2=7*10**1, lw=2)\n",
    "add_slope(axs[2], ymin1=3*10**-4, ymax2=2*10*-2, lw=2)\n",
    "add_slope(axs[3], ymin1=2*10**-2, ymax2=1*10**-1, lw=2)\n",
    "\n",
    "\n",
    "leg1 = axs[0].legend(loc='upper left')\n",
    "fig.axes[1].legend(handles=fiducial_legend_elements, bbox_to_anchor = (0.0,1.0), loc='upper left')\n",
    "\n",
    "fig.subplots_adjust(wspace=0.1, hspace=0)\n",
    "fig.savefig(VICO_loc+'/figures/spectra/spectra_allres_allcase.png', dpi=200)"
   ]
  },
  {
   "cell_type": "code",
   "execution_count": null,
   "metadata": {},
   "outputs": [],
   "source": []
  }
 ],
 "metadata": {
  "kernelspec": {
   "display_name": "pjams",
   "language": "python",
   "name": "python3"
  },
  "language_info": {
   "codemirror_mode": {
    "name": "ipython",
    "version": 3
   },
   "file_extension": ".py",
   "mimetype": "text/x-python",
   "name": "python",
   "nbconvert_exporter": "python",
   "pygments_lexer": "ipython3",
   "version": "3.10.11"
  }
 },
 "nbformat": 4,
 "nbformat_minor": 2
}
