{
 "cells": [
  {
   "cell_type": "markdown",
   "metadata": {},
   "source": [
    "SnapshotFunc"
   ]
  },
  {
   "cell_type": "markdown",
   "metadata": {},
   "source": [
    "Files required:  \n",
    "snapshotclass.ipynb in VICO_loc/  \n",
    "zeusmp_snapshot_ready.py in VICO_loc/  \n",
    "folder with name of snapshot in VICO_loc/Data/ (e.g. VICO_loc/Data/Snap004_n)  \n",
    "\n",
    "Read in each snapshot e.g. if your snapshot data is stored in ./Data/fluxbug/04-1.4msun/ you would call,\n",
    "read_snap('Snap004_n', 4, path=VICO_loc+'/Data/fluxbug/04-1.4msun/', read_zeusmp=True, calculate_intensity_vars=True, calculate_flux=True)\n",
    "\n",
    "after the initial read in, if you have to restart partway through, you can then set read_zeusmp=False since this will be done at the beginning.\n",
    "\n"
   ]
  },
  {
   "cell_type": "code",
   "execution_count": null,
   "metadata": {},
   "outputs": [],
   "source": [
    "# import io, os, sys, inspect, types\n",
    "\n",
    "# currentdir = os.path.dirname(os.path.abspath(inspect.getfile(inspect.currentframe())))\n",
    "# parentdir = os.path.dirname(currentdir)\n",
    "# sys.path.insert(0, parentdir)\n",
    "# from zeusmp_snapshot_reader import read_zeusmp_snapshot\n",
    "# from zeusmp_snapshot_reader import ScaleFactors\n",
    "import sys\n",
    "sys.path.append('/Users/emigardiner/VICO/pjams-ionization/pjams/')\n",
    "\n",
    "from zeusmp_snapshot_reader import read_zeusmp_snapshot\n",
    "from zeusmp_snapshot_reader import ScaleFactors\n",
    "from snapshot import snapshot \n",
    "from basic_snapshot import basic_snapshot\n",
    "\n",
    "\n",
    "import numpy as np\n",
    "import matplotlib.pyplot as plt\n",
    "import matplotlib.gridspec as gridspec\n",
    "from matplotlib import cm\n",
    "from datetime import datetime\n",
    "\n",
    "\n",
    "# !pip install ipynb\n",
    "# from ipynb.fs.full.snapshotclass import *\n",
    "\n",
    "# set this to be your own folder location\n",
    "VICO_loc = '/Users/emigardiner/VICO/pjams-ionization'\n"
   ]
  },
  {
   "cell_type": "code",
   "execution_count": null,
   "metadata": {},
   "outputs": [],
   "source": [
    "# INPUTS\n",
    "frequencies = np.array([.01, .05, .1, .5, 1, 5.3, 23, 43, 100, 230 ]) # GHz\n",
    "frequencies *= 10**9 # Hz\n",
    "r_kpc = 1\n",
    "scales = np.array([500,1000,2000,4000,8000,16000,32000]) # AU\n",
    "heights = np.array([1000, 2000, 3000, 4000, 5000, 6000, 7000, 8000, 9000,\n",
    "                   10000, 11000, 12000, 13000, 14000, 15000, 16000, 17000,\n",
    "                   18000, 19000, 20000, 21000, 22000, 23000, 24000, 25000])\n",
    "np.savez((VICO_loc+'/Data/heights_and_scales.npz'), scales=scales, heights=heights) "
   ]
  },
  {
   "cell_type": "code",
   "execution_count": null,
   "metadata": {},
   "outputs": [],
   "source": [
    "def plot_intensity_read_flux(snapshot, frequencies=frequencies, r_kpc=r_kpc, scales=scales):\n",
    "    Fluxes = np.zeros((3, len(frequencies)))\n",
    "    snapshot.load_shock_variables()\n",
    "\n",
    "    scalefluxfile = open((VICO_loc+'/RadioEmissions/FluxOutputs/scale_fluxes_'+snapshot.name+'.txt'), 'a')\n",
    "    heightfluxfile = open((VICO_loc+'/RadioEmissions/FluxOutputs/height_fluxdensities_'+snapshot.name+'.txt'), 'a')\n",
    "    ScaleFluxes = np.zeros((3, len(frequencies), len(scales)))\n",
    "    zScaleFluxes = np.zeros((2, len(frequencies), len(scales)))\n",
    "    HeightFluxDensities = np.zeros((2, len(frequencies), len(heights)))\n",
    "    \n",
    "    for f in range(len(frequencies)):\n",
    "        # snapshot.make_intensity_plots(nu=frequencies[f], r_kpc=r_kpc) # also loads intensity variables\n",
    "        snapshot.load_intensity_variables(nu=frequencies[f])\n",
    "        Fluxes[0,f] = snapshot.FnuA\n",
    "        Fluxes[1,f] = snapshot.FnuB\n",
    "        Fluxes[2,f] = snapshot.FnuC\n",
    "\n",
    "\n",
    "        print(snapshot.name, 'Output at', datetime.now(), file=scalefluxfile)\n",
    "        print('\\n', snapshot.name, 'Output at', datetime.now(), file=scalefluxfile)\n",
    "        print('nu (GHz) \\tFluxA (mJy) \\tFluxB (mJy) \\tFluxC (mJy) \\tx1 range (AU) \\tx2 range (AU), \\tx3 range (AU)', file=scalefluxfile)\n",
    "        for s in range(len(scales)):\n",
    "            FA, FB, FC, zFA, zFB = snapshot.calculate_scale_fluxes(scales[s], file=scalefluxfile, nu = frequencies[f], \n",
    "                                                                   r_kpc=1, printToScreen=False)\n",
    "            ScaleFluxes[0,f,s] = FA\n",
    "            ScaleFluxes[1,f,s] = FB\n",
    "            ScaleFluxes[2,f,s] = FC\n",
    "            zScaleFluxes[0,f,s] = zFA\n",
    "            zScaleFluxes[1,f,s] = zFB\n",
    "        for h in range(len(heights)):\n",
    "            hFA = snapshot.calculate_height_fluxes(heights[h], file=heightfluxfile, nu = frequencies[f], \n",
    "                                                              r_kpc=1, width=1000, printToScreen=False)\n",
    "            HeightFluxDensities[0,f,h] = hFA\n",
    "                           \n",
    "    scalefluxfile.close()\n",
    "    np.savez((VICO_loc+'/Data/'+snapshot.name+'/'+snapshot.name+'_ScaleFluxes.npz'), \n",
    "             ScaleFluxes = ScaleFluxes, zScaleFluxes = zScaleFluxes, HeightFluxDensities = HeightFluxDensities)\n",
    "    return ScaleFluxes, zScaleFluxes, HeightFluxDensities"
   ]
  },
  {
   "cell_type": "code",
   "execution_count": null,
   "metadata": {},
   "outputs": [],
   "source": [
    "def read_snap(snapname, snapnum, path = VICO_loc+'/Data/', read_zeusmp=False, calculate_intensity_vars=False, calculate_flux=False):\n",
    "    Snap = snapshot(snap=snapnum, name = snapname, path = path, read_zeusmp = read_zeusmp) \n",
    "    if(read_zeusmp):\n",
    "        Snap.calculate_all_shock_variables()\n",
    "        Snap.save_shock_variables()\n",
    "    else:\n",
    "        Snap.load_shock_variables()\n",
    "    if(calculate_intensity_vars):\n",
    "#         Snap.calculate_all_intensity_variables(nu=5.3 * 10**9, r_kpc=1)\n",
    "#         Snap.calculate_all_intensity_variables(nu=23 * 10**9, r_kpc=1)\n",
    "#         Snap.calculate_all_intensity_variables(nu=43 * 10**9, r_kpc=1)\n",
    "#         Snap.calculate_all_intensity_variables(nu=100 * 10**9, r_kpc=1)\n",
    "#         Snap.calculate_all_intensity_variables(nu=230 * 10**9, r_kpc=1)\n",
    "#         Snap.calculate_all_intensity_variables(nu=.01 * 10**9, r_kpc=1)\n",
    "#         Snap.calculate_all_intensity_variables(nu=.05 * 10**9, r_kpc=1)\n",
    "#         Snap.calculate_all_intensity_variables(nu=.1 * 10**9, r_kpc=1)\n",
    "#         Snap.calculate_all_intensity_variables(nu=.5 * 10**9, r_kpc=1)\n",
    "        Snap.calculate_all_intensity_variables(nu=1 * 10**9, r_kpc=1)\n",
    "    if(calculate_flux):\n",
    "        plot_intensity_read_flux(Snap)\n",
    "        Snap.scale_fluxes_const(frequencies=frequencies, const=.01, scales=scales)\n",
    "        Snap.scale_fluxes_const(frequencies=frequencies, const=False, scales=scales)\n",
    "\n",
    "    "
   ]
  },
  {
   "cell_type": "code",
   "execution_count": null,
   "metadata": {},
   "outputs": [],
   "source": [
    "read_snap('Snap068_nlr', 68, path=VICO_loc+'/Data/LOWRES/68_LR/', read_zeusmp=True, calculate_intensity_vars=True, calculate_flux=True)"
   ]
  },
  {
   "cell_type": "code",
   "execution_count": null,
   "metadata": {},
   "outputs": [],
   "source": [
    "# read_snap('Snap009_n', 9, path=VICO_loc+'/Data/fluxbug/09-2msun/', read_zeusmp=False, calculate_intensity_vars=True, calculate_flux=True)"
   ]
  },
  {
   "cell_type": "code",
   "execution_count": null,
   "metadata": {},
   "outputs": [],
   "source": [
    "# read_snap('Snap021_n', 21, path=VICO_loc+'/Data/fluxbug/21-4msun/', read_zeusmp=True, calculate_intensity_vars=True, calculate_flux=True)"
   ]
  },
  {
   "cell_type": "code",
   "execution_count": null,
   "metadata": {},
   "outputs": [],
   "source": [
    "# read_snap('Snap054_n', 54, path=VICO_loc+'/Data/fluxbug/54-12msun/', read_zeusmp=False, calculate_intensity_vars=True, calculate_flux=True)"
   ]
  },
  {
   "cell_type": "code",
   "execution_count": null,
   "metadata": {},
   "outputs": [],
   "source": [
    "# read_snap('Snap068_n', 68, path=VICO_loc+'/Data/fluxbug/68-16msun/', read_zeusmp=True, calculate_intensity_vars=True, calculate_flux=True)"
   ]
  },
  {
   "cell_type": "code",
   "execution_count": null,
   "metadata": {},
   "outputs": [],
   "source": [
    "# read_snap('Snap094_n', 94, path=VICO_loc+'/Data/fluxbug/94-24msun/', read_zeusmp=False, calculate_intensity_vars=True, calculate_flux=True)"
   ]
  },
  {
   "cell_type": "code",
   "execution_count": null,
   "metadata": {},
   "outputs": [],
   "source": [
    "# read_snap('Snap106_n94', 106, path=VICO_loc+'/Data/fluxbug/94hf/', read_zeusmp=True, calculate_intensity_vars=True, calculate_flux=True)"
   ]
  },
  {
   "cell_type": "code",
   "execution_count": null,
   "metadata": {},
   "outputs": [],
   "source": [
    "# read_snap('Snap107_n94', 107, path=VICO_loc+'/Data/fluxbug/94hf/', read_zeusmp=True, calculate_intensity_vars=True, calculate_flux=True)"
   ]
  },
  {
   "cell_type": "code",
   "execution_count": null,
   "metadata": {},
   "outputs": [],
   "source": [
    "# read_snap('Snap108_n94', 108, path=VICO_loc+'/Data/fluxbug/94hf/', read_zeusmp=True, calculate_intensity_vars=True, calculate_flux=True)"
   ]
  },
  {
   "cell_type": "code",
   "execution_count": null,
   "metadata": {},
   "outputs": [],
   "source": [
    "# read_snap('Snap055_n54', 55, path=VICO_loc+'/Data/fluxbug/54hf/', read_zeusmp=True, calculate_intensity_vars=True, calculate_flux=True)"
   ]
  },
  {
   "cell_type": "code",
   "execution_count": null,
   "metadata": {},
   "outputs": [],
   "source": [
    "# read_snap('Snap056_n54', 56, path=VICO_loc+'/Data/fluxbug/54hf/', read_zeusmp=True, calculate_intensity_vars=True, calculate_flux=True)"
   ]
  },
  {
   "cell_type": "code",
   "execution_count": null,
   "metadata": {},
   "outputs": [],
   "source": [
    "# read_snap('Snap057_n54', 57, path=VICO_loc+'/Data/fluxbug/54hf/', read_zeusmp=True, calculate_intensity_vars=True, calculate_flux=True)"
   ]
  },
  {
   "cell_type": "code",
   "execution_count": null,
   "metadata": {},
   "outputs": [],
   "source": [
    "# read_snap('Snap058_n54', 58, path=VICO_loc+'/Data/fluxbug/54hf/', read_zeusmp=True, calculate_intensity_vars=True, calculate_flux=True)"
   ]
  },
  {
   "cell_type": "code",
   "execution_count": null,
   "metadata": {},
   "outputs": [],
   "source": [
    "# read_snap('Snap006_n04', 6, path=VICO_loc+'/Data/fluxbug/04hf/', read_zeusmp=True, calculate_intensity_vars=True, calculate_flux=True)"
   ]
  },
  {
   "cell_type": "code",
   "execution_count": null,
   "metadata": {},
   "outputs": [],
   "source": [
    "# read_snap('Snap116_n94', 116, path=VICO_loc+'/Data/fluxbug/94hf/', read_zeusmp=False, calculate_intensity_vars=True, calculate_flux=True)"
   ]
  },
  {
   "cell_type": "code",
   "execution_count": null,
   "metadata": {},
   "outputs": [],
   "source": []
  },
  {
   "cell_type": "code",
   "execution_count": null,
   "metadata": {},
   "outputs": [],
   "source": []
  }
 ],
 "metadata": {
  "kernelspec": {
   "display_name": "pjams",
   "language": "python",
   "name": "python3"
  },
  "language_info": {
   "codemirror_mode": {
    "name": "ipython",
    "version": 3
   },
   "file_extension": ".py",
   "mimetype": "text/x-python",
   "name": "python",
   "nbconvert_exporter": "python",
   "pygments_lexer": "ipython3",
   "version": "3.10.11"
  }
 },
 "nbformat": 4,
 "nbformat_minor": 4
}
