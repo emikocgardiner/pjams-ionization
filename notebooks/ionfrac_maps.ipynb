{
 "cells": [
  {
   "cell_type": "code",
   "execution_count": null,
   "metadata": {},
   "outputs": [],
   "source": [
    "%reload_ext autoreload\n",
    "%autoreload 2\n",
    "from importlib import reload\n",
    "\n",
    "\n",
    "import sys, os, inspect\n",
    "import sys\n",
    "sys.path.append('/Users/emigardiner/VICO/pjams-ionization/pjams/')\n",
    "\n",
    "from zeusmp_snapshot_reader import read_zeusmp_snapshot\n",
    "from zeusmp_snapshot_reader import ScaleFactors\n",
    "from snapshot import snapshot \n",
    "from basic_snapshot import basic_snapshot, VICO_loc\n",
    "import plot as plot\n",
    "import ionfrac \n",
    "from ionfrac import VMIN, VMAX\n",
    "# import flux\n",
    "\n",
    "import numpy as np\n",
    "\n",
    "import matplotlib.pyplot as plt\n",
    "import matplotlib.gridspec as gridspec\n",
    "from matplotlib import cm\n",
    "from matplotlib.colors import TwoSlopeNorm\n",
    "\n",
    "from PIL import Image, ImageDraw, ImageFont\n",
    "from IPython.display import Image as DisplayImage"
   ]
  },
  {
   "cell_type": "code",
   "execution_count": null,
   "metadata": {},
   "outputs": [],
   "source": [
    "INCLUDE_4000 = True"
   ]
  },
  {
   "cell_type": "code",
   "execution_count": null,
   "metadata": {},
   "outputs": [],
   "source": [
    "# VICO_loc = '/Users/emigardiner/VICO/pjams-ionization'\n",
    "# MYFONT = ImageFont.truetype('/System/Library/Fonts/Supplemental/Times New Roman.ttf', 65)\n",
    "# SMALLFONT = ImageFont.truetype('/System/Library/Fonts/Supplemental/Times New Roman.ttf', 55)\n",
    "    \n",
    "\n",
    "# # INPUTS\n",
    "# FREQS = np.array([.01, .05, .1, .5, 1, 5.3, 23, 43, 100, 230 ]) # GHz\n",
    "# FREQS *= 10**9 # Hz\n",
    "\n",
    "# r_kpc = 1\n",
    "# heights_and_scales = np.load(VICO_loc+'/Data/heights_and_scales.npz')\n",
    "# scales = heights_and_scales['scales'] # AU\n",
    "# heights = heights_and_scales['heights'] # AU  \n",
    "\n",
    "# colors = plot.COLORS\n",
    "# colors_cont = ['darkorange', 'red', 'magenta']"
   ]
  },
  {
   "attachments": {},
   "cell_type": "markdown",
   "metadata": {},
   "source": [
    "# Read in snaps"
   ]
  },
  {
   "cell_type": "code",
   "execution_count": null,
   "metadata": {},
   "outputs": [],
   "source": [
    "nums = np.array([4, 9, 21, 39, 54, 68, 94])\n",
    "years = np.array(['4,000 yrs', '9,000 yrs', '21,000 yrs', '39,000 yrs', '54,000 yrs', '68,000 yrs', '94,000 yrs'])\n",
    "masss = np.array([r'1.4 M$_\\odot$', r'2 M$_\\odot$', r'4 M$_\\odot$',\n",
    "                   r'8 M$_\\odot$', r'12 M$_\\odot$', r'16 M$_\\odot$',\n",
    "                   r'24 M$_\\odot$'])\n",
    "\n",
    "r_kpc = 1\n",
    "heights_and_scales = np.load(VICO_loc+'/Data/heights_and_scales.npz')\n",
    "scales = heights_and_scales['scales'] # AU\n",
    "heights = heights_and_scales['heights'] # AU  "
   ]
  },
  {
   "cell_type": "code",
   "execution_count": null,
   "metadata": {},
   "outputs": [],
   "source": [
    "snaps = np.empty_like(nums, dtype=snapshot)\n",
    "for ii, num in enumerate(nums):\n",
    "    snaps[ii] = snapshot(snap=num, name = ('Snap%03d_n' % num), read_zeusmp = False)\n",
    "    # shot[ii].load_shock_variables()\n",
    "    snaps[ii].load_fluxes()"
   ]
  },
  {
   "attachments": {},
   "cell_type": "markdown",
   "metadata": {},
   "source": [
    "# Load Ionization Fractions"
   ]
  },
  {
   "cell_type": "code",
   "execution_count": null,
   "metadata": {},
   "outputs": [],
   "source": [
    "# def load_average_ionfrac_array(Snap, debug=False):\n",
    "#     data_path = (VICO_loc+'/Data/'+Snap.name+'/')\n",
    "#     loaded_average_ionfracs = np.load((data_path+Snap.name+'_average_ionfrac_arrays.npz'))\n",
    "#     Snap.ionfrac_mass = loaded_average_ionfracs['ionfrac_mass']\n",
    "#     Snap.ionfrac_vol =  loaded_average_ionfracs['ionfrac_vol']\n",
    "#     Snap.ionfrac_emis = loaded_average_ionfracs['ionfrac_emis']\n",
    "#     if debug: print(Snap.name + ' ionfrac arrays loaded')\n",
    "    \n",
    "# def load_average_ionfrac_array_ratio(Snap, const=False, debug=False):\n",
    "#     data_path = (VICO_loc+'/Data/'+Snap.name+'/')\n",
    "#     loaded_average_ionfracs = np.load((data_path+Snap.name+'_average_ionfrac_arrays_const'+str(const)+'.npz'))\n",
    "#     Snap.ionfrac_mass_ratio = loaded_average_ionfracs['ionfrac_mass']\n",
    "#     Snap.ionfrac_vol_ratio =  loaded_average_ionfracs['ionfrac_vol']\n",
    "#     Snap.ionfrac_emis_ratio = loaded_average_ionfracs['ionfrac_emis']\n",
    "#     if debug: print(Snap.name + ' ionfrac_ratio arrays loaded')"
   ]
  },
  {
   "cell_type": "code",
   "execution_count": null,
   "metadata": {},
   "outputs": [],
   "source": [
    "for ss in range(0,len(snaps)):\n",
    "    ionfrac.load_average_ionfrac_array(snaps[ss])\n",
    "    ionfrac.load_average_ionfrac_array_ratio(snaps[ss], const=False)\n",
    "    \n",
    "# Maximum Velocities for Contours\n",
    "for s in range(len(snaps)): \n",
    "    for v in ionfrac.v_mins:\n",
    "        ionfrac.max_velocity_proj_array(snaps[s], v)"
   ]
  },
  {
   "attachments": {},
   "cell_type": "markdown",
   "metadata": {},
   "source": [
    "# Plot"
   ]
  },
  {
   "attachments": {},
   "cell_type": "markdown",
   "metadata": {},
   "source": [
    "## plotting functions"
   ]
  },
  {
   "cell_type": "code",
   "execution_count": null,
   "metadata": {},
   "outputs": [],
   "source": [
    "# # Ionization Fraction Methods\n",
    "# import matplotlib.colors as colors\n",
    "# saveloc = '/Users/emigardiner/VICO/pjams-ionization/pillowfiles/ionfrac_fig'\n",
    "\n",
    "# def truncate_colormap(cmap, minval=0.0, maxval=1.0, n=100):\n",
    "#     new_cmap = colors.LinearSegmentedColormap.from_list(\n",
    "#         'trunc({n},{a:.2f},{b:.2f})'.format(n=cmap.name, a=minval, b=maxval),\n",
    "#         cmap(np.linspace(minval, maxval, n)))\n",
    "#     return new_cmap\n",
    "\n",
    "# cmap = plt.get_cmap('jet')\n",
    "# new_cmap = ionfrac.truncate_colormap(cmap, 0.1, 1)"
   ]
  },
  {
   "attachments": {},
   "cell_type": "markdown",
   "metadata": {},
   "source": [
    "## Setup Colorbar Files"
   ]
  },
  {
   "cell_type": "code",
   "execution_count": null,
   "metadata": {},
   "outputs": [],
   "source": [
    "vert_cname = ionfrac.vol_ionfrac_pcolormesh(snaps[1], years[1], scale=scales[1], vmin=VMIN, vmax=VMAX, v=0,\n",
    "                            show_xlabels=False, show_ylabels=False, \n",
    "                            show_cbar=True, vertical_cbar=True,\n",
    "                            saveloc=ionfrac.SAVELOC+'/cbars')\n",
    "vert_crop = 20\n",
    "horiz_cname = ionfrac.vol_ionfrac_pcolormesh(snaps[1], years[1], scale=scales[1], vmin=VMIN, vmax=VMAX, v=0,\n",
    "                            show_xlabels=False, show_ylabels=False, \n",
    "                            show_cbar=True, vertical_cbar=False,\n",
    "                            saveloc=ionfrac.SAVELOC+'/cbars')\n",
    "horiz_crop = 30"
   ]
  },
  {
   "attachments": {},
   "cell_type": "markdown",
   "metadata": {},
   "source": [
    "# PIL Images"
   ]
  },
  {
   "attachments": {},
   "cell_type": "markdown",
   "metadata": {},
   "source": [
    "#### 1A PIL Figure: 25000au no ratio"
   ]
  },
  {
   "cell_type": "code",
   "execution_count": null,
   "metadata": {},
   "outputs": [],
   "source": [
    "nrows = len(snaps) if INCLUDE_4000 else len(snaps) - 1\n",
    "ncols = 9\n",
    "scale = 25000\n",
    "imgfiles = np.empty((nrows, ncols), dtype=object)\n",
    "v_mins = ionfrac.v_mins\n",
    "r=0\n",
    "for s in range(len(snaps) - nrows,len(snaps)):\n",
    "    c=0\n",
    "    for v in range(len(v_mins)):\n",
    "        if(s==len(snaps)-1): show_xlabels = True\n",
    "        else: show_xlabels = False\n",
    "        if(v==0): \n",
    "            show_ylabels = True\n",
    "            name = masss[s]\n",
    "        else: \n",
    "            show_ylabels = False\n",
    "            name = None\n",
    "        filename = ionfrac.mass_ionfrac_pcolormesh(snaps[s], years[s], scale, vmin=VMIN, vmax=VMAX, v=v,\n",
    "                               show_xlabels=show_xlabels, show_ylabels=show_ylabels,\n",
    "                               name=name, xx_name=0.02, yy_name=0.05, namefs=30)\n",
    "        imgfiles[r,c] = filename\n",
    "        c+=1\n",
    "    for v in range(len(v_mins)):\n",
    "        if(s==len(snaps)-1): show_xlabels = True\n",
    "        else: show_xlabels = False\n",
    "        show_ylabels = False\n",
    "        filename = ionfrac.vol_ionfrac_pcolormesh(snaps[s], years[s], scale, vmin=VMIN, vmax=VMAX, v=v,\n",
    "                              show_xlabels=show_xlabels, show_ylabels=show_ylabels)\n",
    "        imgfiles[r,c] = filename\n",
    "        c+=1\n",
    "    for v in range(len(v_mins)):\n",
    "        if(s==len(snaps)-1): show_xlabels = True\n",
    "        else: show_xlabels = False\n",
    "        show_ylabels = False\n",
    "        filename = ionfrac.emis_ionfrac_pcolormesh(snaps[s], years[s], scale, f=5, vmin=VMIN, vmax=VMAX, v=v,\n",
    "                               show_xlabels=show_xlabels, show_ylabels=show_ylabels)\n",
    "        imgfiles[r,c] = filename\n",
    "        c+=1\n",
    "    r+=1\n",
    "\n",
    "imgfiles_arr_25000au_noratio = imgfiles"
   ]
  },
  {
   "cell_type": "code",
   "execution_count": null,
   "metadata": {},
   "outputs": [],
   "source": [
    "allimage = plot.ionfrac_pil_image(imgfiles_arr_25000au_noratio, horiz_cname, extracrop=horiz_crop, debug=False)\n",
    "display(allimage)\n",
    "name = VICO_loc+'/figures/ionfrac_maps/ionfrac_caseA_25000au.png' if INCLUDE_4000 else VICO_loc+'/figures/ionfrac_maps/ionfrac_flooded_25000au.png'\n",
    "allimage.save(name)"
   ]
  },
  {
   "attachments": {},
   "cell_type": "markdown",
   "metadata": {},
   "source": [
    "#### 1B PIL Figure: 25000au no ratio, with contours"
   ]
  },
  {
   "cell_type": "code",
   "execution_count": null,
   "metadata": {},
   "outputs": [],
   "source": [
    "nrows = len(snaps) if INCLUDE_4000 else len(snaps) - 1\n",
    "ncols = 9\n",
    "scale = 25000\n",
    "show_contours=True\n",
    "lw_cont = 3\n",
    "colors_cont = ['#8080ff', '#ff99ff', 'white']\n",
    "\n",
    "\n",
    "imgfiles = np.empty((nrows, ncols), dtype=object)\n",
    "r=0\n",
    "for s in range(len(snaps)-nrows,len(snaps)):\n",
    "    c=0\n",
    "    for v in range(len(v_mins)):\n",
    "        if(s==len(snaps)-1): show_xlabels = True\n",
    "        else: show_xlabels = False\n",
    "        if(v==0): \n",
    "            show_ylabels = True\n",
    "            name = masss[s]\n",
    "        else: \n",
    "            show_ylabels = False\n",
    "            name = None\n",
    "        filename = ionfrac.mass_ionfrac_pcolormesh(snaps[s], years[s], scale, vmin=VMIN, vmax=VMAX, v=v,\n",
    "                               show_xlabels=show_xlabels, show_ylabels=show_ylabels,\n",
    "                               name=name, xx_name=0.02, yy_name=0.05, namefs=30, \n",
    "                               show_contours=show_contours, lw_cont=lw_cont, colors_cont=colors_cont)\n",
    "        imgfiles[r,c] = filename\n",
    "        c+=1\n",
    "    for v in range(len(v_mins)):\n",
    "        if(s==len(snaps)-1): show_xlabels = True\n",
    "        else: show_xlabels = False\n",
    "        show_ylabels = False\n",
    "        filename = ionfrac.vol_ionfrac_pcolormesh(snaps[s], years[s], scale, vmin=VMIN, vmax=VMAX, v=v,\n",
    "                              show_xlabels=show_xlabels, show_ylabels=show_ylabels, \n",
    "                               show_contours=show_contours, lw_cont=lw_cont, colors_cont=colors_cont)\n",
    "        imgfiles[r,c] = filename\n",
    "        c+=1\n",
    "    for v in range(len(v_mins)):\n",
    "        if(s==len(snaps)-1): show_xlabels = True\n",
    "        else: show_xlabels = False\n",
    "        show_ylabels = False\n",
    "        filename = ionfrac.emis_ionfrac_pcolormesh(snaps[s], years[s], scale, f=5, vmin=VMIN, vmax=VMAX, v=v,\n",
    "                               show_xlabels=show_xlabels, show_ylabels=show_ylabels, \n",
    "                               show_contours=show_contours, lw_cont=lw_cont, colors_cont=colors_cont)\n",
    "        imgfiles[r,c] = filename\n",
    "        c+=1\n",
    "    r+=1\n",
    "\n",
    "imgfiles_arr_25000au_noratio_contours = imgfiles"
   ]
  },
  {
   "cell_type": "code",
   "execution_count": null,
   "metadata": {},
   "outputs": [],
   "source": [
    "allimage = plot.ionfrac_pil_image(imgfiles_arr_25000au_noratio_contours, horiz_cname, extracrop=horiz_crop, debug=False)\n",
    "display(allimage)\n",
    "name = VICO_loc+'/figures/ionfrac_maps/ionfrac_caseA_25000au_contours.png' if INCLUDE_4000 else VICO_loc+'/figures/ionfrac_maps/ionfrac_flooded_25000au_contours.png'\n",
    "allimage.save(name)"
   ]
  },
  {
   "attachments": {},
   "cell_type": "markdown",
   "metadata": {},
   "source": [
    "#### 2 PIL Figure: 4000au no ratio"
   ]
  },
  {
   "cell_type": "code",
   "execution_count": null,
   "metadata": {},
   "outputs": [],
   "source": [
    "nrows = len(snaps) if INCLUDE_4000 else len(snaps) - 1\n",
    "ncols = 9\n",
    "scale = 4000\n",
    "imgfiles = np.empty((nrows, ncols), dtype=object)\n",
    "r=0\n",
    "for s in range(len(snaps)-nrows,len(snaps)):\n",
    "    c=0\n",
    "    for v in range(len(v_mins)):\n",
    "        if(s==len(snaps)-1): show_xlabels = True\n",
    "        else: show_xlabels = False\n",
    "        if(v==0): \n",
    "            show_ylabels = True\n",
    "            name = masss[s]\n",
    "        else: \n",
    "            show_ylabels = False\n",
    "            name = None\n",
    "        filename = ionfrac.mass_ionfrac_pcolormesh(snaps[s], years[s], scale, vmin=VMIN, vmax=VMAX, v=v,\n",
    "                               show_xlabels=show_xlabels, show_ylabels=show_ylabels,\n",
    "                               name=name, xx_name=0.02, yy_name=0.05, namefs=30)\n",
    "        imgfiles[r,c] = filename\n",
    "        c+=1\n",
    "    for v in range(len(v_mins)):\n",
    "        if(s==len(snaps)-1): show_xlabels = True\n",
    "        else: show_xlabels = False\n",
    "        show_ylabels = False\n",
    "        filename = ionfrac.vol_ionfrac_pcolormesh(snaps[s], years[s], scale, vmin=VMIN, vmax=VMAX, v=v,\n",
    "                              show_xlabels=show_xlabels, show_ylabels=show_ylabels)\n",
    "        imgfiles[r,c] = filename\n",
    "        c+=1\n",
    "    for v in range(len(v_mins)):\n",
    "        if(s==len(snaps)-1): show_xlabels = True\n",
    "        else: show_xlabels = False\n",
    "        show_ylabels = False\n",
    "        filename = ionfrac.emis_ionfrac_pcolormesh(snaps[s], years[s], scale, f=5, vmin=VMIN, vmax=VMAX, v=v,\n",
    "                               show_xlabels=show_xlabels, show_ylabels=show_ylabels)\n",
    "        imgfiles[r,c] = filename\n",
    "        c+=1\n",
    "    r+=1\n",
    "\n",
    "imgfiles_arr_4000au_noratio = imgfiles"
   ]
  },
  {
   "cell_type": "code",
   "execution_count": null,
   "metadata": {},
   "outputs": [],
   "source": [
    "allimage = plot.ionfrac_pil_image(imgfiles_arr_4000au_noratio, horiz_cname, extracrop=horiz_crop, debug=False)\n",
    "display(allimage)\n",
    "name = VICO_loc+'/figures/ionfrac_maps/ionfrac_caseA_4000au.png' if INCLUDE_4000 else VICO_loc+'/figures/ionfrac_maps/ionfrac_flooded_4000au.png'\n",
    "allimage.save(name)"
   ]
  },
  {
   "attachments": {},
   "cell_type": "markdown",
   "metadata": {},
   "source": [
    "#### 2B PIL Figure: 4000 au no rato with contours"
   ]
  },
  {
   "cell_type": "code",
   "execution_count": null,
   "metadata": {},
   "outputs": [],
   "source": [
    "nrows = len(snaps) if INCLUDE_4000 else len(snaps) - 1\n",
    "ncols = 9\n",
    "scale = 4000\n",
    "show_contours=True\n",
    "lw_cont = 3\n",
    "colors_cont = ['#8080ff', '#ff99ff', 'white']\n",
    "\n",
    "imgfiles = np.empty((nrows, ncols), dtype=object)\n",
    "r=0\n",
    "for s in range(len(snaps)-nrows,len(snaps)):\n",
    "    c=0\n",
    "    for v in range(len(v_mins)):\n",
    "        if(s==len(snaps)-1): show_xlabels = True\n",
    "        else: show_xlabels = False\n",
    "        if(v==0): \n",
    "            show_ylabels = True\n",
    "            name = masss[s]\n",
    "        else: \n",
    "            show_ylabels = False\n",
    "            name = None\n",
    "        filename = ionfrac.mass_ionfrac_pcolormesh(snaps[s], years[s], scale, vmin=VMIN, vmax=VMAX, v=v,\n",
    "                               show_xlabels=show_xlabels, show_ylabels=show_ylabels,\n",
    "                               name=name, xx_name=0.02, yy_name=0.05, namefs=30, \n",
    "                               show_contours=show_contours, lw_cont=lw_cont, colors_cont=colors_cont, )\n",
    "        imgfiles[r,c] = filename\n",
    "        c+=1\n",
    "    for v in range(len(v_mins)):\n",
    "        if(s==len(snaps)-1): show_xlabels = True\n",
    "        else: show_xlabels = False\n",
    "        show_ylabels = False\n",
    "        filename = ionfrac.vol_ionfrac_pcolormesh(snaps[s], years[s], scale, vmin=VMIN, vmax=VMAX, v=v,\n",
    "                              show_xlabels=show_xlabels, show_ylabels=show_ylabels, \n",
    "                               show_contours=show_contours, lw_cont=lw_cont, colors_cont=colors_cont, )\n",
    "        imgfiles[r,c] = filename\n",
    "        c+=1\n",
    "    for v in range(len(v_mins)):\n",
    "        if(s==len(snaps)-1): show_xlabels = True\n",
    "        else: show_xlabels = False\n",
    "        show_ylabels = False\n",
    "        filename = ionfrac.emis_ionfrac_pcolormesh(snaps[s], years[s], scale, f=5, vmin=VMIN, vmax=VMAX, v=v,\n",
    "                               show_xlabels=show_xlabels, show_ylabels=show_ylabels, \n",
    "                               show_contours=show_contours, lw_cont=lw_cont, colors_cont=colors_cont, )\n",
    "        imgfiles[r,c] = filename\n",
    "        c+=1\n",
    "    r+=1\n",
    "\n",
    "imgfiles_arr_4000au_noratio_contours = imgfiles"
   ]
  },
  {
   "cell_type": "code",
   "execution_count": null,
   "metadata": {},
   "outputs": [],
   "source": [
    "allimage = plot.ionfrac_pil_image(imgfiles_arr_4000au_noratio, horiz_cname, extracrop=horiz_crop, debug=False)\n",
    "display(allimage)\n",
    "name = VICO_loc+'/figures/ionfrac_maps/ionfrac_caseA_4000au_contours.png' if INCLUDE_4000 else VICO_loc+'/figures/ionfrac_maps/ionfrac_flooded_4000au_contours.png'\n",
    "allimage.save(name)"
   ]
  },
  {
   "attachments": {},
   "cell_type": "markdown",
   "metadata": {},
   "source": [
    "#### 3A: 25000 au Cooling"
   ]
  },
  {
   "cell_type": "code",
   "execution_count": null,
   "metadata": {},
   "outputs": [],
   "source": [
    "#### 1A PIL Figure: 25000au no ratio\n",
    "nrows = len(snaps) if INCLUDE_4000 else len(snaps) - 1\n",
    "ncols = 9\n",
    "scale = 25000\n",
    "imgfiles = np.empty((nrows, ncols), dtype=object)\n",
    "r=0\n",
    "for s in range(len(snaps)-nrows,len(snaps)):\n",
    "    c=0\n",
    "    for v in range(len(v_mins)):\n",
    "        if(s==len(snaps)-1): show_xlabels = True\n",
    "        else: show_xlabels = False\n",
    "        if(v==0): \n",
    "            show_ylabels = True\n",
    "            name = masss[s]\n",
    "        else: \n",
    "            show_ylabels = False\n",
    "            name = None\n",
    "        filename =ionfrac. mass_ionfrac_const_pcolormesh(snaps[s], years[s], scale, vmin=VMIN, vmax=VMAX, v=v,\n",
    "                               show_xlabels=show_xlabels, show_ylabels=show_ylabels,\n",
    "                               name=name, xx_name=0.02, yy_name=0.05, namefs=30)\n",
    "        imgfiles[r,c] = filename\n",
    "        c+=1\n",
    "    for v in range(len(v_mins)):\n",
    "        if(s==len(snaps)-1): show_xlabels = True\n",
    "        else: show_xlabels = False\n",
    "        show_ylabels = False\n",
    "        filename = ionfrac.vol_ionfrac_const_pcolormesh(snaps[s], years[s], scale, vmin=VMIN, vmax=VMAX, v=v,\n",
    "                              show_xlabels=show_xlabels, show_ylabels=show_ylabels)\n",
    "        imgfiles[r,c] = filename\n",
    "        c+=1\n",
    "    for v in range(len(v_mins)):\n",
    "        if(s==len(snaps)-1): show_xlabels = True\n",
    "        else: show_xlabels = False\n",
    "        show_ylabels = False\n",
    "        filename = ionfrac.emis_ionfrac_const_pcolormesh(snaps[s], years[s], scale, f=5, vmin=VMIN, vmax=VMAX, v=v,\n",
    "                               show_xlabels=show_xlabels, show_ylabels=show_ylabels)\n",
    "        imgfiles[r,c] = filename\n",
    "        c+=1\n",
    "    r+=1\n",
    "\n",
    "imgfiles_arr_25000au_ratio = imgfiles"
   ]
  },
  {
   "cell_type": "code",
   "execution_count": null,
   "metadata": {},
   "outputs": [],
   "source": [
    "allimage = plot.ionfrac_pil_image(imgfiles_arr_25000au_ratio, horiz_cname, extracrop=horiz_crop, debug=False)\n",
    "display(allimage)\n",
    "name = VICO_loc+'/figures/ionfrac_maps/ionfrac_caseB_25000au.png' if INCLUDE_4000 else VICO_loc+'/figures/ionfrac_maps/ionfrac_cooling_25000au.png'\n",
    "allimage.save(name)"
   ]
  },
  {
   "attachments": {},
   "cell_type": "markdown",
   "metadata": {},
   "source": [
    "#### 3B: 25000 au Cooling with contours"
   ]
  },
  {
   "cell_type": "code",
   "execution_count": null,
   "metadata": {},
   "outputs": [],
   "source": [
    "nrows = len(snaps) if INCLUDE_4000 else len(snaps) - 1\n",
    "ncols = 9\n",
    "scale = 25000\n",
    "show_contours=True\n",
    "lw_cont = 3\n",
    "colors_cont = ['#8080ff', '#ff99ff', 'white']\n",
    "\n",
    "\n",
    "imgfiles = np.empty((nrows, ncols), dtype=object)\n",
    "r=0\n",
    "for s in range(len(snaps)-nrows,len(snaps)):\n",
    "    c=0\n",
    "    for v in range(len(v_mins)):\n",
    "        if(s==len(snaps)-1): show_xlabels = True\n",
    "        else: show_xlabels = False\n",
    "        if(v==0): \n",
    "            show_ylabels = True\n",
    "            name = masss[s]\n",
    "        else: \n",
    "            show_ylabels = False\n",
    "            name = None\n",
    "        filename = ionfrac.mass_ionfrac_pcolormesh(snaps[s], years[s], scale, vmin=VMIN, vmax=VMAX, v=v,\n",
    "                               show_xlabels=show_xlabels, show_ylabels=show_ylabels,\n",
    "                               name=name, xx_name=0.02, yy_name=0.05, namefs=30, \n",
    "                               show_contours=show_contours, lw_cont=lw_cont, colors_cont=colors_cont)\n",
    "        imgfiles[r,c] = filename\n",
    "        c+=1\n",
    "    for v in range(len(v_mins)):\n",
    "        if(s==len(snaps)-1): show_xlabels = True\n",
    "        else: show_xlabels = False\n",
    "        show_ylabels = False\n",
    "        filename = ionfrac.vol_ionfrac_pcolormesh(snaps[s], years[s], scale, vmin=VMIN, vmax=VMAX, v=v,\n",
    "                              show_xlabels=show_xlabels, show_ylabels=show_ylabels, \n",
    "                               show_contours=show_contours, lw_cont=lw_cont, colors_cont=colors_cont)\n",
    "        imgfiles[r,c] = filename\n",
    "        c+=1\n",
    "    for v in range(len(v_mins)):\n",
    "        if(s==len(snaps)-1): show_xlabels = True\n",
    "        else: show_xlabels = False\n",
    "        show_ylabels = False\n",
    "        filename = ionfrac.emis_ionfrac_pcolormesh(snaps[s], years[s], scale, f=5, vmin=VMIN, vmax=VMAX, v=v,\n",
    "                               show_xlabels=show_xlabels, show_ylabels=show_ylabels, \n",
    "                               show_contours=show_contours, lw_cont=lw_cont, colors_cont=colors_cont)\n",
    "        imgfiles[r,c] = filename\n",
    "        c+=1\n",
    "    r+=1\n",
    "\n",
    "imgfiles_arr_25000au_ratio_contours = imgfiles"
   ]
  },
  {
   "cell_type": "code",
   "execution_count": null,
   "metadata": {},
   "outputs": [],
   "source": [
    "allimage = plot.ionfrac_pil_image(imgfiles_arr_25000au_ratio_contours,horiz_cname, extracrop=horiz_crop, debug=False)\n",
    "display(allimage)\n",
    "name = VICO_loc+'/figures/ionfrac_maps/ionfrac_caseB_25000au_contours.png' if INCLUDE_4000 else VICO_loc+'/figures/ionfrac_maps/ionfrac_cooling_25000au_contours.png'\n",
    "allimage.save(name)"
   ]
  },
  {
   "attachments": {},
   "cell_type": "markdown",
   "metadata": {},
   "source": [
    "#### 4A: 4000 au Cooling"
   ]
  },
  {
   "cell_type": "code",
   "execution_count": null,
   "metadata": {},
   "outputs": [],
   "source": [
    "#### 1A PIL Figure: 25000au no ratio\n",
    "nrows = len(snaps) if INCLUDE_4000 else len(snaps) - 1\n",
    "ncols = 9\n",
    "scale = 4000\n",
    "imgfiles = np.empty((nrows, ncols), dtype=object)\n",
    "r=0\n",
    "for s in range(len(snaps)-nrows,len(snaps)):\n",
    "    c=0\n",
    "    for v in range(len(v_mins)):\n",
    "        if(s==len(snaps)-1): show_xlabels = True\n",
    "        else: show_xlabels = False\n",
    "        if(v==0): \n",
    "            show_ylabels = True\n",
    "            name = masss[s]\n",
    "        else: \n",
    "            show_ylabels = False\n",
    "            name = None\n",
    "        filename = ionfrac.mass_ionfrac_const_pcolormesh(snaps[s], years[s], scale, vmin=VMIN, vmax=VMAX, v=v,\n",
    "                               show_xlabels=show_xlabels, show_ylabels=show_ylabels,\n",
    "                               name=name, xx_name=0.02, yy_name=0.05, namefs=30)\n",
    "        imgfiles[r,c] = filename\n",
    "        c+=1\n",
    "    for v in range(len(v_mins)):\n",
    "        if(s==len(snaps)-1): show_xlabels = True\n",
    "        else: show_xlabels = False\n",
    "        show_ylabels = False\n",
    "        filename = ionfrac.vol_ionfrac_const_pcolormesh(snaps[s], years[s], scale, vmin=VMIN, vmax=VMAX, v=v,\n",
    "                              show_xlabels=show_xlabels, show_ylabels=show_ylabels)\n",
    "        imgfiles[r,c] = filename\n",
    "        c+=1\n",
    "    for v in range(len(v_mins)):\n",
    "        if(s==len(snaps)-1): show_xlabels = True\n",
    "        else: show_xlabels = False\n",
    "        show_ylabels = False\n",
    "        filename = ionfrac.emis_ionfrac_const_pcolormesh(snaps[s], years[s], scale, f=5, vmin=VMIN, vmax=VMAX, v=v,\n",
    "                               show_xlabels=show_xlabels, show_ylabels=show_ylabels)\n",
    "        imgfiles[r,c] = filename\n",
    "        c+=1\n",
    "    r+=1\n",
    "\n",
    "imgfiles_arr_4000au_ratio = imgfiles"
   ]
  },
  {
   "cell_type": "code",
   "execution_count": null,
   "metadata": {},
   "outputs": [],
   "source": [
    "allimage = plot.ionfrac_pil_image(imgfiles_arr_4000au_ratio,horiz_cname, extracrop=horiz_crop, debug=False)\n",
    "display(allimage)\n",
    "name = VICO_loc+'/figures/ionfrac_maps/ionfrac_caseB_4000au.png' if INCLUDE_4000 else VICO_loc+'/figures/ionfrac_maps/ionfrac_cooling_4000au.png'\n",
    "allimage.save(name)"
   ]
  },
  {
   "attachments": {},
   "cell_type": "markdown",
   "metadata": {},
   "source": [
    "#### 4B: 4000 au Cooling with contours"
   ]
  },
  {
   "cell_type": "code",
   "execution_count": null,
   "metadata": {},
   "outputs": [],
   "source": [
    "nrows = len(snaps) if INCLUDE_4000 else len(snaps) - 1\n",
    "ncols = 9\n",
    "scale = 4000\n",
    "show_contours=True\n",
    "lw_cont = 3\n",
    "colors_cont = ['#8080ff', '#ff99ff', 'white']\n",
    "\n",
    "\n",
    "imgfiles = np.empty((nrows, ncols), dtype=object)\n",
    "r=0\n",
    "for s in range(len(snaps)-nrows,len(snaps)):\n",
    "    c=0\n",
    "    for v in range(len(v_mins)):\n",
    "        if(s==len(snaps)-1): show_xlabels = True\n",
    "        else: show_xlabels = False\n",
    "        if(v==0): \n",
    "            show_ylabels = True\n",
    "            name = masss[s]\n",
    "        else: \n",
    "            show_ylabels = False\n",
    "            name = None\n",
    "        filename = ionfrac.mass_ionfrac_pcolormesh(snaps[s], years[s], scale, vmin=VMIN, vmax=VMAX, v=v,\n",
    "                               show_xlabels=show_xlabels, show_ylabels=show_ylabels,\n",
    "                               name=name, xx_name=0.02, yy_name=0.05, namefs=30, \n",
    "                               show_contours=show_contours, lw_cont=lw_cont, colors_cont=colors_cont)\n",
    "        imgfiles[r,c] = filename\n",
    "        c+=1\n",
    "    for v in range(len(v_mins)):\n",
    "        if(s==len(snaps)-1): show_xlabels = True\n",
    "        else: show_xlabels = False\n",
    "        show_ylabels = False\n",
    "        filename = ionfrac.vol_ionfrac_pcolormesh(snaps[s], years[s], scale, vmin=VMIN, vmax=VMAX, v=v,\n",
    "                              show_xlabels=show_xlabels, show_ylabels=show_ylabels, \n",
    "                               show_contours=show_contours, lw_cont=lw_cont, colors_cont=colors_cont)\n",
    "        imgfiles[r,c] = filename\n",
    "        c+=1\n",
    "    for v in range(len(v_mins)):\n",
    "        if(s==len(snaps)-1): show_xlabels = True\n",
    "        else: show_xlabels = False\n",
    "        show_ylabels = False\n",
    "        filename = ionfrac.emis_ionfrac_pcolormesh(snaps[s], years[s], scale, f=5, vmin=VMIN, vmax=VMAX, v=v,\n",
    "                               show_xlabels=show_xlabels, show_ylabels=show_ylabels, \n",
    "                               show_contours=show_contours, lw_cont=lw_cont, colors_cont=colors_cont)\n",
    "        imgfiles[r,c] = filename\n",
    "        c+=1\n",
    "    r+=1\n",
    "\n",
    "imgfiles_arr_4000au_ratio_contours = imgfiles"
   ]
  },
  {
   "cell_type": "code",
   "execution_count": null,
   "metadata": {},
   "outputs": [],
   "source": [
    "allimage = plot.ionfrac_pil_image(imgfiles_arr_4000au_ratio_contours, horiz_cname, extracrop=horiz_crop, debug=False)\n",
    "display(allimage)\n",
    "name = VICO_loc+'/figures/ionfrac_maps/ionfrac_caseB_4000au_contours.png' if INCLUDE_4000 else VICO_loc+'/figures/ionfrac_maps/ionfrac_cooling_4000au_contours.png'\n",
    "allimage.save(name )"
   ]
  },
  {
   "cell_type": "code",
   "execution_count": null,
   "metadata": {},
   "outputs": [],
   "source": []
  }
 ],
 "metadata": {
  "kernelspec": {
   "display_name": "pjams",
   "language": "python",
   "name": "python3"
  },
  "language_info": {
   "codemirror_mode": {
    "name": "ipython",
    "version": 3
   },
   "file_extension": ".py",
   "mimetype": "text/x-python",
   "name": "python",
   "nbconvert_exporter": "python",
   "pygments_lexer": "ipython3",
   "version": "3.10.11"
  }
 },
 "nbformat": 4,
 "nbformat_minor": 2
}
