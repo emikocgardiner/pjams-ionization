{
 "cells": [
  {
   "cell_type": "code",
   "execution_count": null,
   "metadata": {},
   "outputs": [],
   "source": [
    "%reload_ext autoreload\n",
    "%autoreload 2\n",
    "from importlib import reload\n",
    "\n",
    "\n",
    "import sys, os, inspect\n",
    "import sys\n",
    "sys.path.append('/Users/emigardiner/VICO/pjams-ionization/pjams/')\n",
    "\n",
    "from zeusmp_snapshot_reader import read_zeusmp_snapshot\n",
    "from zeusmp_snapshot_reader import ScaleFactors\n",
    "from snapshot import snapshot, stats, holostats\n",
    "from basic_snapshot import basic_snapshot, VICO_loc, FREQS\n",
    "import plot\n",
    "import flux\n",
    "import ionfrac\n",
    "\n",
    "import numpy as np\n",
    "\n",
    "import matplotlib.pyplot as plt\n",
    "import matplotlib.gridspec as gridspec\n",
    "from matplotlib import cm\n",
    "from matplotlib.colors import TwoSlopeNorm\n",
    "from matplotlib.lines import Line2D\n",
    "from tqdm import tqdm\n"
   ]
  },
  {
   "cell_type": "code",
   "execution_count": null,
   "metadata": {},
   "outputs": [],
   "source": [
    "# INPUTS\n",
    "freqs = np.array([.01, .05, .1, .5, 1, 5.3, 23, 43, 100, 230 ]) # GHz\n",
    "freqs *= 10**9 # Hz\n",
    "scales = np.array([500, 1000, 2000, 4000, 8000, 16000, 25000])\n",
    "nums = np.array([4, 9, 21, 39, 54, 68, 94])\n",
    "years = np.array([4000, 9000, 21000, 39000, 54000, 68000, 94000])\n",
    "masss = np.array([1.4, 2, 4, 8, 12, 16, 24])\n",
    "\n",
    "\n",
    "file = np.load(VICO_loc+'/AngladaRosero2019/AngladaData/shock_flux_arrays.npz')\n",
    "lums = file['luminosities']\n",
    "file.close()"
   ]
  },
  {
   "cell_type": "code",
   "execution_count": null,
   "metadata": {},
   "outputs": [],
   "source": [
    "snaps = np.empty_like(nums, dtype=snapshot)\n",
    "for ii, num in enumerate(nums):\n",
    "    snaps[ii] = snapshot(snap=num, name = ('Snap%03d_n' % num), read_zeusmp=False)\n",
    "    snaps[ii].load_shock_variables()"
   ]
  },
  {
   "cell_type": "markdown",
   "metadata": {},
   "source": [
    "# Case A"
   ]
  },
  {
   "cell_type": "markdown",
   "metadata": {},
   "source": [
    "## calculate avg maps arrays"
   ]
  },
  {
   "cell_type": "code",
   "execution_count": null,
   "metadata": {},
   "outputs": [],
   "source": [
    "for snap in tqdm(snaps):\n",
    "    ionfrac.calculate_column_mass_densities(snap)"
   ]
  },
  {
   "cell_type": "markdown",
   "metadata": {},
   "source": [
    "# load and print"
   ]
  },
  {
   "cell_type": "code",
   "execution_count": null,
   "metadata": {},
   "outputs": [],
   "source": [
    "# nu = 5.3*10**9\n",
    "# for scale in [4000, 25000]:\n",
    "#     for ss, snap in enumerate(tqdm(snaps)):\n",
    "#         string = ''\n",
    "#         if ss==0: string += str(scale)\n",
    "#         string += f\"\\t&\\t{masss[ss]}\"\n",
    "#         for v_cutoff in [1, 10, 100]:\n",
    "#             string += f\"\\t&\\t{ionfrac.mass_avg_3d_ionfrac(snap, v_cutoff, scale):.4f}\"\n",
    "#             string += f\"\\t&\\t{ionfrac.vol_avg_3d_ionfrac(snap, v_cutoff, scale):.4f}\"\n",
    "#             string += f\"\\t&\\t{ionfrac.emis_avg_3d_ionfrac(snap, nu, v_cutoff, scale):.4f}\"\n",
    "#         string += '\\\\'\n",
    "#         print(string)\n",
    "#     if scale == 4000: print(\"\\\\hline\")"
   ]
  },
  {
   "cell_type": "code",
   "execution_count": null,
   "metadata": {},
   "outputs": [],
   "source": [
    "for snap in tqdm(snaps):\n",
    "    ionfrac.load_average_ionfrac_array(snap)"
   ]
  },
  {
   "cell_type": "code",
   "execution_count": null,
   "metadata": {},
   "outputs": [],
   "source": [
    "nu = 5.3*10**9\n",
    "ff = 5\n",
    "for scale in [4000, 25000]:\n",
    "    for ss, snap in enumerate(snaps):\n",
    "        string = ''\n",
    "        if ss==0: string += str(scale)\n",
    "        string += f\"\\t&\\t{masss[ss]}\"\n",
    "        for v_cutoff in [0,1,2]:\n",
    "            string += f\"\\t&\\t{ionfrac.mass_avg_map_ionfrac(snap, v_cutoff, scale):.4f}\"\n",
    "            string += f\"\\t&\\t{ionfrac.vol_avg_map_ionfrac(snap, v_cutoff, scale):.4f}\"\n",
    "            string += f\"\\t&\\t{ionfrac.emis_avg_map_ionfrac(snap, ff, v_cutoff, scale):.4f}\"\n",
    "        string += '\\\\\\\\'\n",
    "        print(string)\n",
    "    if scale == 4000: print(\"\\\\hline\")"
   ]
  },
  {
   "cell_type": "markdown",
   "metadata": {},
   "source": [
    "# Case B"
   ]
  },
  {
   "cell_type": "code",
   "execution_count": null,
   "metadata": {},
   "outputs": [],
   "source": [
    "for ss in range(0,len(snaps)):\n",
    "    ionfrac.load_average_ionfrac_array(snaps[ss])\n",
    "    ionfrac.load_average_ionfrac_array_ratio(snaps[ss], const=False)\n",
    "    print(stats(snaps[ss].ionfrac_emis_ratio))"
   ]
  },
  {
   "cell_type": "code",
   "execution_count": null,
   "metadata": {},
   "outputs": [],
   "source": [
    "for snap in tqdm(snaps):\n",
    "    snap.load_intensity_variables_const(5.3*10**9, const=False, r_kpc=1)\n",
    "    ionfrac.load_average_ionfrac_array_ratio(snap, debug=True)\n",
    "cooled = True"
   ]
  },
  {
   "cell_type": "code",
   "execution_count": null,
   "metadata": {},
   "outputs": [],
   "source": [
    "print(snaps[0].__dict__.keys())"
   ]
  },
  {
   "cell_type": "markdown",
   "metadata": {},
   "source": [
    "## Case B Map Avg Ionfrac"
   ]
  },
  {
   "cell_type": "code",
   "execution_count": null,
   "metadata": {},
   "outputs": [],
   "source": [
    "cooled=True\n",
    "nu = 5.3*10**9\n",
    "ff = 5\n",
    "for scale in [4000, 25000]:\n",
    "    for ss, snap in enumerate(snaps):\n",
    "        string = ''\n",
    "        if ss==0: string += str(scale)\n",
    "        string += f\"\\t&\\t{masss[ss]}\"\n",
    "        for v_cutoff in [0,1,2]:\n",
    "            string += f\"\\t&\\t{ionfrac.mass_avg_map_ionfrac(snap, v_cutoff, scale, cooled=cooled):.4f}\"\n",
    "            string += f\"\\t&\\t{ionfrac.vol_avg_map_ionfrac(snap, v_cutoff, scale, cooled=cooled):.4f}\"\n",
    "            string += f\"\\t&\\t{ionfrac.emis_avg_map_ionfrac(snap, ff, v_cutoff, scale, cooled=cooled):.4f}\"\n",
    "        string += '\\\\\\\\'\n",
    "        print(string)\n",
    "    if scale == 4000: print(\"\\\\hline\")"
   ]
  },
  {
   "cell_type": "markdown",
   "metadata": {},
   "source": [
    "## Case B 3D avg ionfrac"
   ]
  },
  {
   "cell_type": "code",
   "execution_count": null,
   "metadata": {},
   "outputs": [],
   "source": [
    "# cooled=True\n",
    "# nu = 5.3*10**9\n",
    "# ff = 5\n",
    "# for scale in [4000, 25000]:\n",
    "#     for ss, snap in enumerate(snaps):\n",
    "#         string = ''\n",
    "#         if ss==0: string += str(scale)\n",
    "#         string += f\"\\t&\\t{masss[ss]}\"\n",
    "#         for v_cutoff in [0,1,2]:\n",
    "#             string += f\"\\t&\\t{ionfrac.mass_avg_3d_ionfrac(snap, v_cutoff, scale, cooled=cooled):.4f}\"\n",
    "#             string += f\"\\t&\\t{ionfrac.vol_avg_3d_ionfrac(snap, v_cutoff, scale, cooled=cooled):.4f}\"\n",
    "#             string += f\"\\t&\\t{ionfrac.emis_avg_3d_ionfrac(snap, ff, v_cutoff, scale, cooled=cooled):.4f}\"\n",
    "#         string += '\\\\\\\\'\n",
    "#         print(string)\n",
    "#     if scale == 4000: print(\"\\\\hline\")"
   ]
  },
  {
   "cell_type": "code",
   "execution_count": null,
   "metadata": {},
   "outputs": [],
   "source": [
    "np.set_printoptions(precision=4)\n",
    "for snap in snaps:\n",
    "    print(snap.name)\n",
    "    print('mass:', np.percentile(snap.ionfrac_mass_ratio[0], (0,25,50,75,100)))\n",
    "    print('vol:', np.percentile(snap.ionfrac_vol_ratio[0], (0,25,50,75,100)))\n",
    "    print('emis:', np.percentile(snap.ionfrac_emis_ratio[5,0], (0,25,50,75,100)))"
   ]
  },
  {
   "cell_type": "code",
   "execution_count": null,
   "metadata": {},
   "outputs": [],
   "source": [
    "print(np.percentile(snaps[3].ionfrac_emis_ratio, (5,10,15,50,75,100)))"
   ]
  },
  {
   "cell_type": "code",
   "execution_count": null,
   "metadata": {},
   "outputs": [],
   "source": [
    "print(snaps[0].ionfrac_emis_ratio.shape)"
   ]
  },
  {
   "cell_type": "code",
   "execution_count": null,
   "metadata": {},
   "outputs": [],
   "source": [
    "npfile = np.load('/Users/emigardiner/VICO/pjams-ionization/Data/Snap039_n/Snap039_n_average_ionfrac_arrays.npz')\n",
    "print(npfile.files)"
   ]
  },
  {
   "cell_type": "code",
   "execution_count": null,
   "metadata": {},
   "outputs": [],
   "source": [
    "for snap in snaps:\n",
    "    ionfrac.load_average_ionfrac_array_ratio(snap)\n",
    "    print(np.percentile(snap.ionfrac_emis_ratio[5], (0,25,50,75,98,99,100)))"
   ]
  },
  {
   "cell_type": "code",
   "execution_count": null,
   "metadata": {},
   "outputs": [],
   "source": [
    "def mass_ionfrac_array_const(Snap, v_mins=[1,10,100], const=False):\n",
    "    ionfrac_mass = np.zeros((len(v_mins),len(Snap.x1), len(Snap.x2)))\n",
    "    for v in range(len(v_mins)):\n",
    "        for i in range(len(Snap.x1)):\n",
    "            for j in range(len(Snap.x2)):\n",
    "                numer = 0\n",
    "                denom = 0\n",
    "                for k in range(len(Snap.x3)):\n",
    "                    if(Snap.q['v1'][i,j,k] >= v_mins[v]):\n",
    "                        if(const): scale_factor = const\n",
    "                        else: \n",
    "                            scale_factor = Snap.cooling_times[i,j,k]/Snap.flow_times[i,j,k]\n",
    "                            if(scale_factor>1): scale_factor=1 # can't be more than 1\n",
    "                        numer += (Snap.ion_fractions[i,j,k] * Snap.q['d'][i,j,k] \n",
    "                                  * Snap.del3[k] * scale_factor)\n",
    "                        denom += Snap.q['d'][i,j,k] *  Snap.del3[k]\n",
    "                if(denom>0): ionfrac_mass[v,i,j] = numer/denom\n",
    "                else: ionfrac_mass[v,i,j] = 0  \n",
    "    if(const): Snap.ionfrac_mass_const = ionfrac_mass\n",
    "    else: Snap.ionfrac_mass_ratio = ionfrac_mass\n",
    "\n",
    "# Calculating Ionization Fraction Arrays\n",
    "def vol_ionfrac_array_const(Snap, v_mins=[1,10,100], const=False):\n",
    "    ionfrac_vol = np.zeros((len(v_mins),len(Snap.x1), len(Snap.x2)))\n",
    "    for v in range(len(v_mins)):\n",
    "        for i in range(len(Snap.x1)):\n",
    "            for j in range(len(Snap.x2)):\n",
    "                numer = 0\n",
    "                denom = 0\n",
    "                for k in range(len(Snap.x3)):\n",
    "                    if(Snap.q['v1'][i,j,k] >= v_mins[v]):\n",
    "                        if(const): scale_factor = const\n",
    "                        else: \n",
    "                            scale_factor = Snap.cooling_times[i,j,k]/Snap.flow_times[i,j,k]\n",
    "                            if(scale_factor>1): scale_factor=1 # can't be more than 1\n",
    "                        numer += Snap.ion_fractions[i,j,k] * Snap.del3[k] * scale_factor\n",
    "                        denom += Snap.del3[k]\n",
    "                if(denom>0): ionfrac_vol[v,i,j] = numer/denom\n",
    "                else: ionfrac_vol[v,i,j] = 0  \n",
    "    if(const): Snap.ionfrac_vol_const = ionfrac_vol\n",
    "    else: Snap.ionfrac_vol_ratio = ionfrac_vol\n",
    "\n",
    "def emis_ionfrac_array_const(Snap, v_mins=[1,10,100], f=5, const=False):\n",
    "    Snap.load_intensity_variables(FREQS[f])\n",
    "    ionfrac_emis = np.zeros((len(FREQS),len(v_mins),len(Snap.x1), len(Snap.x2)))\n",
    "    for v in range(len(v_mins)):\n",
    "        for i in range(len(Snap.x1)):\n",
    "            for j in range(len(Snap.x2)):\n",
    "                numer = 0\n",
    "                denom = 0\n",
    "                for k in range(len(Snap.x3)):\n",
    "                    if(Snap.q['v1'][i,j,k] >= v_mins[v]):\n",
    "                        if(const): scale_factor = const\n",
    "                        else: \n",
    "                            scale_factor = Snap.cooling_times[i,j,k]/Snap.flow_times[i,j,k]\n",
    "                            if(scale_factor>1): scale_factor=1 # can't be more than 1\n",
    "                        numer += Snap.ion_fractions[i,j,k] * Snap.emission_coefs[i,j,k] * Snap.del3[k] * scale_factor\n",
    "                        denom += Snap.emission_coefs[i,j,k] * Snap.del3[k] \n",
    "                if(denom>0): ionfrac_emis[f,v,i,j] = numer/denom\n",
    "                else: ionfrac_emis[f,v,i,j] = 0 \n",
    "    if(const): Snap.ionfrac_emis_const = ionfrac_emis\n",
    "    else: Snap.ionfrac_emis_ratio = ionfrac_emis"
   ]
  },
  {
   "cell_type": "code",
   "execution_count": null,
   "metadata": {},
   "outputs": [],
   "source": [
    "cooled=True\n",
    "nu = 5.3*10**9\n",
    "ff = 5\n",
    "for scale in [4000, 25000]:\n",
    "    for ss, snap in enumerate((snaps)):\n",
    "        mass_ionfrac_array_const(snap)\n",
    "        vol_ionfrac_array_const(snap)\n",
    "        emis_ionfrac_array_const(snap)\n",
    "        string = ''\n",
    "        if ss==0: string += str(scale)\n",
    "        string += f\"\\t&\\t{masss[ss]}\"\n",
    "        for v_cutoff in [0,1,2]:\n",
    "            string += f\"\\t&\\t{ionfrac.mass_avg_map_ionfrac(snap, v_cutoff, scale, cooled=cooled):.4f}\"\n",
    "            string += f\"\\t&\\t{ionfrac.vol_avg_map_ionfrac(snap, v_cutoff, scale, cooled=cooled):.4f}\"\n",
    "            string += f\"\\t&\\t{ionfrac.emis_avg_map_ionfrac(snap, ff, v_cutoff, scale, cooled=cooled):.4f}\"\n",
    "        string += ' \\\\\\\\'\n",
    "        print(string)\n",
    "    if scale == 4000: print(\"\\\\hline\")"
   ]
  },
  {
   "cell_type": "code",
   "execution_count": null,
   "metadata": {},
   "outputs": [],
   "source": [
    "np.set_printoptions(precision=4)\n",
    "# for scale in [4000, 25000]:\n",
    "for ss, snap in enumerate((snaps)):\n",
    "    print(snap.name)\n",
    "    emis_ionfrac_array_const(snap)\n",
    "    print(f\"new: {holostats(snap.ionfrac_emis_ratio)}\")\n",
    "    ionfrac.load_average_ionfrac_array_ratio(snap)\n",
    "    print(f\"old: {holostats(snap.ionfrac_emis_ratio)}\")"
   ]
  },
  {
   "cell_type": "markdown",
   "metadata": {},
   "source": [
    "# Fix bad ionfracs"
   ]
  },
  {
   "cell_type": "code",
   "execution_count": null,
   "metadata": {},
   "outputs": [],
   "source": [
    "for snap in snaps[[0,4,5,6]]:\n",
    "    mass_ionfrac_array_const(snap)\n",
    "    vol_ionfrac_array_const(snap)\n",
    "    emis_ionfrac_array_const(snap)\n",
    "    data_path = (VICO_loc+'/Data/'+snap.name+'/')\n",
    "    savename = data_path+snap.name+'_average_ionfrac_arrays_const'+str(False)+'.npz'\n",
    "    np.savez(savename, \n",
    "        ionfrac_mass = snap.ionfrac_mass_ratio, \n",
    "        ionfrac_vol = snap.ionfrac_vol_ratio,\n",
    "        ionfrac_emis = snap.ionfrac_emis_ratio\n",
    "    )\n"
   ]
  },
  {
   "cell_type": "code",
   "execution_count": null,
   "metadata": {},
   "outputs": [],
   "source": []
  }
 ],
 "metadata": {
  "kernelspec": {
   "display_name": "pjams",
   "language": "python",
   "name": "python3"
  },
  "language_info": {
   "codemirror_mode": {
    "name": "ipython",
    "version": 3
   },
   "file_extension": ".py",
   "mimetype": "text/x-python",
   "name": "python",
   "nbconvert_exporter": "python",
   "pygments_lexer": "ipython3",
   "version": "3.10.11"
  }
 },
 "nbformat": 4,
 "nbformat_minor": 2
}
