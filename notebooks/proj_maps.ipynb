{
 "cells": [
  {
   "cell_type": "code",
   "execution_count": null,
   "metadata": {},
   "outputs": [],
   "source": [
    "%reload_ext autoreload\n",
    "%autoreload 2\n",
    "from importlib import reload\n",
    "\n",
    "\n",
    "import sys, os, inspect\n",
    "import sys\n",
    "sys.path.append('/Users/emigardiner/VICO/pjams-ionization/pjams/')\n",
    "\n",
    "from zeusmp_snapshot_reader import read_zeusmp_snapshot\n",
    "from zeusmp_snapshot_reader import ScaleFactors\n",
    "from snapshot import snapshot \n",
    "from basic_snapshot import basic_snapshot, VICO_loc\n",
    "import plot as plot\n",
    "import slices as slices\n",
    "import projs as projs\n",
    "import ionfrac as ionfrac\n",
    "# from ionfrac import VMIN, VMAX\n",
    "# import flux\n",
    "\n",
    "import numpy as np\n",
    "\n",
    "import matplotlib.pyplot as plt\n",
    "import matplotlib.gridspec as gridspec\n",
    "from matplotlib import cm\n",
    "from matplotlib.colors import TwoSlopeNorm\n",
    "\n",
    "from PIL import Image, ImageDraw, ImageFont\n",
    "from IPython.display import Image as DisplayImage"
   ]
  },
  {
   "cell_type": "code",
   "execution_count": null,
   "metadata": {},
   "outputs": [],
   "source": [
    "INCLUDE_4000 = True"
   ]
  },
  {
   "cell_type": "code",
   "execution_count": null,
   "metadata": {},
   "outputs": [],
   "source": [
    "nums = np.array([4, 9, 21, 39, 54, 68, 94])\n",
    "years = np.array(['4,000 yrs', '9,000 yrs', '21,000 yrs', '39,000 yrs', '54,000 yrs', '68,000 yrs', '94,000 yrs'])\n",
    "masss = np.array([r'1.4 M$_\\odot$', r'2 M$_\\odot$', r'4 M$_\\odot$',\n",
    "                   r'8 M$_\\odot$', r'12 M$_\\odot$', r'16 M$_\\odot$',\n",
    "                   r'24 M$_\\odot$'])\n",
    "\n",
    "r_kpc = 1\n",
    "heights_and_scales = np.load(VICO_loc+'/Data/heights_and_scales.npz')\n",
    "scales = heights_and_scales['scales'] # AU\n",
    "heights = heights_and_scales['heights'] # AU  "
   ]
  },
  {
   "cell_type": "code",
   "execution_count": null,
   "metadata": {},
   "outputs": [],
   "source": [
    "# Specific to this file\n",
    "saveloc = projs.SAVELOC\n",
    "\n",
    "v_mins = projs.v_mins\n",
    "vmin_ionfrac, vmax_ionfrac = -3, 0       \n",
    "v = len(v_mins)-1\n",
    "vmin_iontemp, vmax_iontemp = 0, 7       \n",
    "# vmin_intensity, vmax_intensity = -3, 2.8 \n",
    "\n",
    "vmin_intensity_noratio, vmax_intensity_noratio = -3, 2.8   \n",
    "vmin_intensity_ratio, vmax_intensity_ratio = -4, 0   "
   ]
  },
  {
   "cell_type": "code",
   "execution_count": null,
   "metadata": {},
   "outputs": [],
   "source": [
    "snaps = np.empty_like(nums, dtype=snapshot)\n",
    "for ii, num in enumerate(nums):\n",
    "    snaps[ii] = snapshot(snap=num, name = ('Snap%03d_n' % num), read_zeusmp = False)\n",
    "    snaps[ii].load_shock_variables()\n",
    "    snaps[ii].load_fluxes()"
   ]
  },
  {
   "attachments": {},
   "cell_type": "markdown",
   "metadata": {},
   "source": [
    "Load ionfrac arrays"
   ]
  },
  {
   "cell_type": "code",
   "execution_count": null,
   "metadata": {},
   "outputs": [],
   "source": [
    "for ss in range(0,len(snaps)):\n",
    "    ionfrac.load_average_ionfrac_array(snaps[ss])\n",
    "    ionfrac.load_average_ionfrac_array_ratio(snaps[ss], const=False)\n",
    "    \n",
    "# Maximum Velocities for Contours\n",
    "for s in range(len(snaps)): \n",
    "    for vv in ionfrac.v_mins:\n",
    "        ionfrac.max_velocity_proj_array(snaps[s], vv)"
   ]
  },
  {
   "attachments": {},
   "cell_type": "markdown",
   "metadata": {},
   "source": [
    "Calculate scale factors"
   ]
  },
  {
   "cell_type": "code",
   "execution_count": null,
   "metadata": {},
   "outputs": [],
   "source": [
    "def calculate_scale_factors(Snap):\n",
    "    scale_factors = Snap.cooling_times/Snap.flow_times\n",
    "    scale_factors[scale_factors>1.0] = 1.0\n",
    "    Snap.scale_factors = scale_factors        \n",
    "    return scale_factors\n",
    "\n",
    "for snap in snaps:\n",
    "    print(snap.name)\n",
    "    calculate_scale_factors(snap)"
   ]
  },
  {
   "attachments": {},
   "cell_type": "markdown",
   "metadata": {},
   "source": [
    "# Colorbars"
   ]
  },
  {
   "cell_type": "code",
   "execution_count": null,
   "metadata": {},
   "outputs": [],
   "source": [
    "scale=25000\n",
    "\n",
    "# ionfrac\n",
    "cname = projs.mass_ionfrac_proj_pcolormesh(snaps[s], years[s], scale, v = v,\n",
    "                        vmin=vmin_ionfrac, vmax = vmax_ionfrac, \n",
    "                        show_xlabels = False, show_ylabels = False,\n",
    "                        show_contours = False, show_legend = False, \n",
    "                        show_cbar = True, saveloc=saveloc+'/cbars', cbar_pad=0.05)\n",
    "cbimg = plot.save_cbar(cname, savename=saveloc+'/cbar_ionfrac.png', orientation='horizontal', extracrop=0)\n",
    "display(cbimg)\n",
    "\n",
    "# iontemp\n",
    "cname = projs.iontemp_proj_pcolormesh(snaps[s], years[s], scale, \n",
    "                        vmin=vmin_iontemp, vmax = vmax_iontemp, \n",
    "                        show_xlabels = False, show_ylabels = False, \n",
    "                        show_cbar = True, saveloc=saveloc+'/cbars', cbar_pad=0.05)\n",
    "cbimg = plot.save_cbar(cname, savename=saveloc+'/cbar_iontemp.png', orientation='horizontal', extracrop=0)\n",
    "display(cbimg)\n",
    "\n",
    "# intensity flooded\n",
    "cname = projs.intensity_proj_pcolormesh(snaps[s], years[s], scale, 5,\n",
    "                                     vmin=vmin_intensity_noratio, \n",
    "                                     vmax = vmax_intensity_noratio, \n",
    "                        show_xlabels = False, show_ylabels = False, \n",
    "                        show_cbar = True, saveloc=saveloc+'/cbars', cbar_pad=0.05)\n",
    "cbimg = plot.save_cbar(cname, savename=saveloc+'/cbar_intensity_flooded.png', orientation='horizontal', extracrop=0)\n",
    "display(cbimg)\n",
    "\n",
    "# intensity with cooling\n",
    "cname = projs.intensity_proj_const_pcolormesh(snaps[s], years[s], False, \n",
    "                                     scale, 5,\n",
    "                                     vmin=vmin_intensity_ratio, \n",
    "                                     vmax = vmax_intensity_ratio, \n",
    "                        show_xlabels = False, show_ylabels = False, \n",
    "                        show_cbar = True, saveloc=saveloc+'/cbars', cbar_pad=0.05)\n",
    "cbimg = plot.save_cbar(cname, savename=saveloc+'/cbar_intensity_cooling.png', orientation='horizontal', extracrop=0)\n",
    "display(cbimg)\n"
   ]
  },
  {
   "attachments": {},
   "cell_type": "markdown",
   "metadata": {},
   "source": [
    "# PIL Images"
   ]
  },
  {
   "attachments": {},
   "cell_type": "markdown",
   "metadata": {},
   "source": [
    "#### 1 PIL Figure: 25000au Flooded"
   ]
  },
  {
   "cell_type": "code",
   "execution_count": null,
   "metadata": {},
   "outputs": [],
   "source": [
    "nrows = len(snaps) if INCLUDE_4000 else len(snaps)-1\n",
    "ncols = 4\n",
    "scale = 25000\n",
    "projfiles= np.empty((nrows, ncols), dtype=object)\n",
    "\n",
    "r=0\n",
    "for s in range(len(snaps)-nrows,len(snaps)):\n",
    "    print(years[s])\n",
    "    if(s < len(snaps)-1):\n",
    "        file0, file1, file2, file3 = \\\n",
    "        projs.proj_images(snaps[s], masss[s], scale,\n",
    "                    saveloc=saveloc, xlabels=False)\n",
    "    else:      \n",
    "        file0, file1, file2, file3 = \\\n",
    "        projs.proj_images(snaps[s], masss[s], scale,\n",
    "                    saveloc=saveloc, xlabels=True)\n",
    "    projfiles[r,0] = file0\n",
    "    projfiles[r,1] = file1\n",
    "    projfiles[r,2] = file2\n",
    "    projfiles[r,3] = file3\n",
    "    r+=1\n",
    "\n",
    "projfiles_25000au_noratio = projfiles"
   ]
  },
  {
   "cell_type": "code",
   "execution_count": null,
   "metadata": {},
   "outputs": [],
   "source": [
    "allimage, details = plot.pil_image(projfiles_25000au_noratio, debug=False)\n",
    "# display(allimage)\n",
    "allimage = plot.pil_projs_cbar(allimage, details, saveloc=saveloc, ratio=False )\n",
    "display(allimage)\n",
    "name = VICO_loc+'/figures/projs/projs_caseA_25000au.png' if INCLUDE_4000 else VICO_loc+'/figures/projs/projs_flooded_25000au.png'\n",
    "allimage.save(name)"
   ]
  },
  {
   "attachments": {},
   "cell_type": "markdown",
   "metadata": {},
   "source": [
    "#### 2 PIL Figure: 4000au Flooded"
   ]
  },
  {
   "cell_type": "code",
   "execution_count": null,
   "metadata": {},
   "outputs": [],
   "source": [
    "nrows = len(snaps) if INCLUDE_4000 else len(snaps)-1\n",
    "ncols = 4\n",
    "scale = 4000\n",
    "projfiles= np.empty((nrows, ncols), dtype=object)\n",
    "\n",
    "r=0\n",
    "for s in range(len(snaps)-nrows,len(snaps)):\n",
    "    print(years[s])\n",
    "    if(s < len(snaps)-1):\n",
    "        file0, file1, file2, file3 = \\\n",
    "        projs.proj_images(snaps[s], masss[s], scale,\n",
    "                    saveloc=saveloc, xlabels=False)\n",
    "    else:      \n",
    "        file0, file1, file2, file3 = \\\n",
    "        projs.proj_images(snaps[s], masss[s], scale,\n",
    "                    saveloc=saveloc, xlabels=True)\n",
    "    projfiles[r,0] = file0\n",
    "    projfiles[r,1] = file1\n",
    "    projfiles[r,2] = file2\n",
    "    projfiles[r,3] = file3\n",
    "    r+=1\n",
    "\n",
    "projfiles_4000au_noratio = projfiles"
   ]
  },
  {
   "cell_type": "code",
   "execution_count": null,
   "metadata": {},
   "outputs": [],
   "source": [
    "allimage, details = plot.pil_image(projfiles_4000au_noratio, debug=False)\n",
    "# display(allimage)\n",
    "allimage = plot.pil_projs_cbar(allimage, details, saveloc=saveloc, ratio=False )\n",
    "display(allimage)\n",
    "name = VICO_loc+'/figures/projs/projs_caseA_4000au.png' if INCLUDE_4000 else VICO_loc+'/figures/projs/projs_flooded_4000au.png'\n",
    "allimage.save(name)"
   ]
  },
  {
   "attachments": {},
   "cell_type": "markdown",
   "metadata": {},
   "source": [
    "#### 3 PIL Figure: 25000au Cooling"
   ]
  },
  {
   "cell_type": "code",
   "execution_count": null,
   "metadata": {},
   "outputs": [],
   "source": [
    "nrows = len(snaps) if INCLUDE_4000 else len(snaps)-1\n",
    "ncols = 4\n",
    "scale = 25000\n",
    "projfiles= np.empty((nrows, ncols), dtype=object)\n",
    "\n",
    "r=0\n",
    "for s in range(len(snaps)-nrows,len(snaps)):\n",
    "    print(years[s])\n",
    "    if(s < len(snaps)-1):\n",
    "        file0, file1, file2, file3 = \\\n",
    "        projs.proj_const_images(snaps[s], masss[s], False, scale,\n",
    "                    saveloc=saveloc, xlabels=False)\n",
    "    else:      \n",
    "        file0, file1, file2, file3 = \\\n",
    "        projs.proj_const_images(snaps[s], masss[s], False, scale,\n",
    "                    saveloc=saveloc, xlabels=True)\n",
    "    projfiles[r,0] = file0\n",
    "    projfiles[r,1] = file1\n",
    "    projfiles[r,2] = file2\n",
    "    projfiles[r,3] = file3\n",
    "    r+=1\n",
    "\n",
    "projfiles_25000au_ratio = projfiles"
   ]
  },
  {
   "cell_type": "code",
   "execution_count": null,
   "metadata": {},
   "outputs": [],
   "source": [
    "allimage, details = plot.pil_image(projfiles_25000au_ratio, debug=False)\n",
    "# display(allimage)\n",
    "allimage = plot.pil_projs_cbar(allimage, details, saveloc=saveloc, ratio=True )\n",
    "display(allimage)\n",
    "name = VICO_loc+'/figures/projs/projs_caseB_25000au.png' if INCLUDE_4000 else VICO_loc+'/figures/projs/projs_cooling_25000au.png'\n",
    "allimage.save(name)"
   ]
  },
  {
   "attachments": {},
   "cell_type": "markdown",
   "metadata": {},
   "source": [
    "#### 4 PIL Figure: 4000au Cooling"
   ]
  },
  {
   "cell_type": "code",
   "execution_count": null,
   "metadata": {},
   "outputs": [],
   "source": [
    "nrows = len(snaps) if INCLUDE_4000 else len(snaps)-1\n",
    "ncols = 4\n",
    "scale = 4000\n",
    "projfiles= np.empty((nrows, ncols), dtype=object)\n",
    "\n",
    "r=0\n",
    "for s in range(len(snaps)-nrows,len(snaps)):\n",
    "    print(years[s])\n",
    "    if(s < len(snaps)-1):\n",
    "        file0, file1, file2, file3 = \\\n",
    "        projs.proj_const_images(snaps[s], masss[s], False, scale,\n",
    "                    saveloc=saveloc, xlabels=False)\n",
    "    else:      \n",
    "        file0, file1, file2, file3 = \\\n",
    "        projs.proj_const_images(snaps[s], masss[s], False, scale,\n",
    "                    saveloc=saveloc, xlabels=True)\n",
    "    projfiles[r,0] = file0\n",
    "    projfiles[r,1] = file1\n",
    "    projfiles[r,2] = file2\n",
    "    projfiles[r,3] = file3\n",
    "    r+=1\n",
    "\n",
    "projfiles_4000au_ratio = projfiles"
   ]
  },
  {
   "cell_type": "code",
   "execution_count": null,
   "metadata": {},
   "outputs": [],
   "source": [
    "allimage, details = plot.pil_image(projfiles_4000au_ratio, debug=False)\n",
    "# display(allimage)\n",
    "allimage = plot.pil_projs_cbar(allimage, details, saveloc=saveloc, ratio=True )\n",
    "display(allimage)\n",
    "name = VICO_loc+'/figures/projs/projs_caseB_4000au.png' if INCLUDE_4000 else VICO_loc+'/figures/projs/projs_cooling_4000au.png'\n",
    "allimage.save(name)"
   ]
  },
  {
   "cell_type": "code",
   "execution_count": null,
   "metadata": {},
   "outputs": [],
   "source": [
    "snap = snaps[3]\n",
    "print(snap.name)\n",
    "print(np.max(np.where(snap.x1<2000)))\n",
    "print(snap.x1[65])\n",
    "print(np.min(np.where(snap.x1>5000)))\n"
   ]
  },
  {
   "cell_type": "code",
   "execution_count": null,
   "metadata": {},
   "outputs": [],
   "source": [
    "Snap=snap\n",
    "TprojA = np.zeros((len(Snap.x1), len(Snap.x2)))\n",
    "for i in range(len(Snap.x1)):\n",
    "    for j in range(len(Snap.x2)):\n",
    "        TprojA[i,j] = (np.sum(Snap.temperatures[i,j,:] * Snap.ion_fractions[i,j,:] * Snap.q['d'][i,j,:] * Snap.del3) \n",
    "                        / np.sum(Snap.ion_fractions[i,j,:] * Snap.q['d'][i,j,:] * Snap.del3))\n"
   ]
  },
  {
   "cell_type": "code",
   "execution_count": null,
   "metadata": {},
   "outputs": [],
   "source": [
    "print(TprojA.shape)"
   ]
  },
  {
   "cell_type": "code",
   "execution_count": null,
   "metadata": {},
   "outputs": [],
   "source": [
    "print(np.min(np.where(snap.x2)))"
   ]
  },
  {
   "cell_type": "code",
   "execution_count": null,
   "metadata": {},
   "outputs": [],
   "source": [
    "print(np.log10(np.nanmax(TprojA[65:100,:])))"
   ]
  },
  {
   "cell_type": "code",
   "execution_count": null,
   "metadata": {},
   "outputs": [],
   "source": []
  }
 ],
 "metadata": {
  "kernelspec": {
   "display_name": "pjams",
   "language": "python",
   "name": "python3"
  },
  "language_info": {
   "codemirror_mode": {
    "name": "ipython",
    "version": 3
   },
   "file_extension": ".py",
   "mimetype": "text/x-python",
   "name": "python",
   "nbconvert_exporter": "python",
   "pygments_lexer": "ipython3",
   "version": "3.10.11"
  }
 },
 "nbformat": 4,
 "nbformat_minor": 2
}
