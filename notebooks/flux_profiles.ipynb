{
 "cells": [
  {
   "cell_type": "code",
   "execution_count": null,
   "metadata": {},
   "outputs": [],
   "source": [
    "%reload_ext autoreload\n",
    "%autoreload 2\n",
    "from importlib import reload\n",
    "\n",
    "\n",
    "import sys, os, inspect\n",
    "import sys\n",
    "sys.path.append('/Users/emigardiner/VICO/pjams-ionization/pjams/')\n",
    "\n",
    "from zeusmp_snapshot_reader import read_zeusmp_snapshot\n",
    "from zeusmp_snapshot_reader import ScaleFactors\n",
    "from snapshot import snapshot \n",
    "from basic_snapshot import basic_snapshot\n",
    "import plot\n",
    "import flux\n",
    "\n",
    "import numpy as np\n",
    "\n",
    "import matplotlib.pyplot as plt\n",
    "import matplotlib.gridspec as gridspec\n",
    "from matplotlib import cm\n",
    "from matplotlib.colors import TwoSlopeNorm\n",
    "from matplotlib.lines import Line2D\n",
    "\n",
    "from PIL import Image, ImageDraw, ImageFont\n",
    "from IPython.display import Image as DisplayImage"
   ]
  },
  {
   "cell_type": "code",
   "execution_count": null,
   "metadata": {},
   "outputs": [],
   "source": [
    "VICO_loc = '/Users/emigardiner/VICO/pjams-ionization'\n",
    "\n",
    "# INPUTS\n",
    "freqs = np.array([.01, .05, .1, .5, 1, 5.3, 23, 43, 100, 230 ]) # GHz\n",
    "freqs *= 10**9 # Hz\n",
    "\n",
    "r_kpc = 1\n",
    "heights_and_scales = np.load(VICO_loc+'/Data/heights_and_scales.npz')\n",
    "scales = heights_and_scales['scales'] # AU\n",
    "heights = heights_and_scales['heights'] # AU  \n",
    "\n",
    "colors = plot.COLORS"
   ]
  },
  {
   "attachments": {},
   "cell_type": "markdown",
   "metadata": {},
   "source": [
    "# Read in Snapshots"
   ]
  },
  {
   "cell_type": "code",
   "execution_count": null,
   "metadata": {},
   "outputs": [],
   "source": [
    "nums = np.array([4, 9, 21, 39, 54, 68, 94])\n",
    "years = np.array(['4,000 yrs', '9,000 yrs', '21,000 yrs', '39,000 yrs', '54,000 yrs', '68,000 yrs', '94,000 yrs'])\n",
    "masss = np.array([r'1.4 M$_\\odot$', r'2 M$_\\odot$', r'4 M$_\\odot$',\n",
    "                   r'8 M$_\\odot$', r'12 M$_\\odot$', r'16 M$_\\odot$',\n",
    "                   r'24 M$_\\odot$'])"
   ]
  },
  {
   "cell_type": "code",
   "execution_count": null,
   "metadata": {},
   "outputs": [],
   "source": [
    "snaps = np.empty_like(nums, dtype=snapshot)\n",
    "for ii, num in enumerate(nums):\n",
    "    snaps[ii] = snapshot(snap=num, name = ('Snap%03d_n' % num), read_zeusmp = False)\n",
    "    # shot[ii].load_shock_variables()\n",
    "    snaps[ii].load_fluxes()"
   ]
  },
  {
   "attachments": {},
   "cell_type": "markdown",
   "metadata": {},
   "source": [
    "draw_flux_vs_height()"
   ]
  },
  {
   "cell_type": "code",
   "execution_count": null,
   "metadata": {},
   "outputs": [],
   "source": [
    "def draw_flux_vs_height(ax, xx, yy, labels, fmt, alpha=0.6, colors=colors, ms=None):\n",
    "    # colors = cm.gist_rainbow_r(np.linspace(0, 1, len(snaps)))\n",
    "    for ii in range(len(yy)):\n",
    "        ax.plot(xx, yy[ii], fmt, color=colors[ii], label = (labels[ii]), alpha=alpha, ms=ms)\n",
    "\n"
   ]
  },
  {
   "attachments": {},
   "cell_type": "markdown",
   "metadata": {},
   "source": [
    "# All-Res"
   ]
  },
  {
   "cell_type": "code",
   "execution_count": null,
   "metadata": {},
   "outputs": [],
   "source": [
    "rnums = np.array([9, 21, 39, 54])\n",
    "ryears = years[1:len(rnums)+1]\n",
    "rmasss = masss[1:len(rnums)+1]\n",
    "snaps_lr, snaps_mr, snaps_hr = flux.prep_res_snapshots()\n",
    "\n",
    "mass_lr = np.array(['2 M$_\\odot$ lr', '4 M$_\\odot$ lr', '8 M$_\\odot$ lr', '12 M$_\\odot$ lr',])\n",
    "mass_mr = np.array(['2 M$_\\odot$ mr', '4 M$_\\odot$ mr', '8 M$_\\odot$ mr', '12 M$_\\odot$ mr',])\n",
    "mass_hr = np.array(['2 M$_\\odot$ hr', '4 M$_\\odot$ hr', '8 M$_\\odot$ hr', '12 M$_\\odot$ hr',])\n",
    "# print(mass_lr, mass_mr, mass_hr)"
   ]
  },
  {
   "attachments": {},
   "cell_type": "markdown",
   "metadata": {},
   "source": [
    "## Res Z Segments"
   ]
  },
  {
   "cell_type": "code",
   "execution_count": null,
   "metadata": {},
   "outputs": [],
   "source": [
    "debug = False\n",
    "targets=np.linspace(0,26000,27)\n",
    "if debug: print(targets)\n",
    "\n",
    "zseg_lr, zval_lr, zmid_lr = flux.get_z_segments(snaps_lr[0].x1, targets)\n",
    "if debug: print(f\"{zseg_lr=} \\n{zval_lr=} \\n{zmid_lr=}\")\n",
    "\n",
    "zseg_mr, zval_mr, zmid_mr = flux.get_z_segments(snaps_mr[0].x1, targets)\n",
    "if debug: print(f\"{zseg_mr=} \\n{zval_mr=} \\n{zmid_mr=}\")\n",
    "\n",
    "zseg_hr, zval_hr, zmid_hr = flux.get_z_segments(snaps_hr[0].x1, targets)\n",
    "if debug: print(f\"{zseg_hr=} \\n{zval_hr=} \\n{zmid_hr=}\")"
   ]
  },
  {
   "attachments": {},
   "cell_type": "markdown",
   "metadata": {},
   "source": [
    "## Calculate Flux Profiles"
   ]
  },
  {
   "attachments": {},
   "cell_type": "markdown",
   "metadata": {},
   "source": [
    "### Without scaling"
   ]
  },
  {
   "cell_type": "code",
   "execution_count": null,
   "metadata": {},
   "outputs": [],
   "source": [
    "# NORM = False\n",
    "# norm_label = 'scaled to 1000 au' if NORM else 'unscaled pixel regions'\n",
    "\n",
    "# for ratio in [True, False]:\n",
    "#     for ss, snap in enumerate(snaps_lr):\n",
    "#         print(snap.name, 'ratio=',ratio)\n",
    "#         flux.make_flux_profiles(snap, zseg_lr, ratio=ratio, debug=False, norm=NORM)\n",
    "\n",
    "#     for ss, snap in enumerate(snaps_mr):\n",
    "#         print(snap.name, 'ratio=',ratio)\n",
    "#         flux.make_flux_profiles(snap, zseg_mr, ratio=ratio, debug=False, norm=NORM)\n",
    "\n",
    "#     for ss, snap in enumerate(snaps_hr):\n",
    "#         print(snap.name, 'ratio=',ratio)\n",
    "#         flux.make_flux_profiles(snap, zseg_hr, ratio=ratio, debug=False, norm=NORM)"
   ]
  },
  {
   "attachments": {},
   "cell_type": "markdown",
   "metadata": {},
   "source": [
    "## Plot Flux vs Height AllRes"
   ]
  },
  {
   "cell_type": "code",
   "execution_count": null,
   "metadata": {},
   "outputs": [],
   "source": [
    "def plot_res_flux_vs_height( \n",
    "        snaps_lr, snaps_mr, snaps_hr, \n",
    "        xx_lr, xx_mr, xx_hr, \n",
    "        mass_labels,  \n",
    "        ff_arr = [5,9],\n",
    "        ymin0 = None, ymax0 = None, ymin1 = None, ymax1 = None, \n",
    "        xscale='log', ax0_text = None, ax1_text=None, xx_text = 0.02, yy_text = 0.02, \n",
    "        leg_anchor = (1, 0), colors=colors, ms=5,\n",
    "        add_custom_leg = False,\n",
    "):\n",
    "    fig, axs = plot.figax_double(sharex=True,\n",
    "                         xscale=xscale, nrows=2, ncols=2, height=7.5)\n",
    "\n",
    "    all_snaps = np.array([snaps_lr, snaps_mr, snaps_hr])\n",
    "    all_xx = np.array([xx_lr, xx_mr, xx_hr])\n",
    "    all_fmt = np.array([':x', '--+', '-o',])\n",
    "    none_labels = np.repeat('', len(snaps_lr))\n",
    "\n",
    "    # first row: no ratio\n",
    "    for ii, ax in enumerate(axs[0,:]):\n",
    "        ff = ff_arr[ii]\n",
    "\n",
    "        for jj, snaps in enumerate(all_snaps):\n",
    "            xx = all_xx[jj]\n",
    "            fmt = all_fmt[jj]\n",
    "            if ii==0 and jj==0: labels = mass_labels\n",
    "            else: labels = none_labels\n",
    "\n",
    "            yy = np.zeros((len(snaps), len(xx)))\n",
    "            for ss, snap in enumerate(snaps):\n",
    "                temp = snap.flux_prof\n",
    "                yy[ss] = temp[ff,:-1]\n",
    "            draw_flux_vs_height(ax, xx, yy, labels=labels, fmt=fmt, colors=colors, ms=ms)\n",
    "\n",
    "        # ylabel = r'$S_\\nu$ (%s GHz) [mJy]' % str(freqs[ff]/10**9)\n",
    "        ylabel = '$S_{\\\\nu=\\mathrm{%s\\ GHz}}\\ \\mathrm{per\\ 1000\\ au\\ (mJy)}$' % str(freqs[ff]/10**9)\n",
    "\n",
    "        ax.set_ylabel(ylabel)\n",
    "        if ax0_text is not None:\n",
    "            ax.text(xx_text, yy_text, ax0_text, transform=ax.transAxes, \n",
    "                    weight='bold', horizontalalignment='right')\n",
    "            \n",
    "    if ymin0 is not None and ymax0 is not None:\n",
    "        axs[0,0].set_ylim(ymin0, ymax0)\n",
    "\n",
    "    axs[0,1].sharey(axs[0,0])\n",
    "\n",
    "    # second row: ratio\n",
    "    for ii, ax in enumerate(axs[1,:]):\n",
    "        ff = ff_arr[ii]\n",
    "\n",
    "        for jj, snaps in enumerate(all_snaps):\n",
    "            xx = all_xx[jj]\n",
    "            fmt = all_fmt[jj]\n",
    "            if ii==1 and jj==2: labels = mass_labels\n",
    "            else: labels = none_labels\n",
    "\n",
    "            yy = np.zeros((len(snaps), len(xx)))\n",
    "            for ss, snap in enumerate(snaps):\n",
    "                temp = snap.flux_prof_ratio\n",
    "                yy[ss] = temp[ff,:-1]\n",
    "            draw_flux_vs_height(ax, xx, yy, labels=labels, fmt=fmt, colors=colors, ms=ms)\n",
    "\n",
    "        # ylabel = r'$S_\\nu$ (%s GHz) [mJy]' % str(freqs[ff]/10**9)\n",
    "        ylabel = '$S_{\\\\nu=\\mathrm{%s\\ GHz}}\\ \\mathrm{per\\ 1000\\ au\\ (mJy)}$' % str(freqs[ff]/10**9)\n",
    "\n",
    "        ax.set_ylabel(ylabel)\n",
    "        ax.set_xlabel('$z$ (au)')\n",
    "        if ax1_text is not None:\n",
    "            ax.text(xx_text, yy_text, ax1_text, transform=ax.transAxes, \n",
    "                    weight='bold', horizontalalignment='right')\n",
    "\n",
    "    if ymin1 is not None and ymax1 is not None:\n",
    "        axs[1,0].set_ylim(ymin1, ymax1)\n",
    "\n",
    "    axs[1,1].sharey(axs[1,0])\n",
    "    axs[1,1].legend(bbox_to_anchor = leg_anchor, bbox_transform=ax.transAxes, loc='lower right')\n",
    "\n",
    "\n",
    "    fig.subplots_adjust(hspace=0)\n",
    "    return fig\n",
    "    \n",
    "res_legend_elements = [\n",
    "            Line2D([0], [0], color='k', marker='x', linestyle=':', label='low-res'),\n",
    "            Line2D([0], [0], color='k', marker='+', linestyle='--',  label='mid-res'),\n",
    "            Line2D([0], [0], color='k', marker='o', linestyle='-',  label='high-res')]"
   ]
  },
  {
   "attachments": {},
   "cell_type": "markdown",
   "metadata": {},
   "source": [
    "### With Scaling\n",
    "load/make flux profiles"
   ]
  },
  {
   "cell_type": "code",
   "execution_count": null,
   "metadata": {},
   "outputs": [],
   "source": [
    "NORM = True\n",
    "save=True\n",
    "if NORM is False: save = False\n",
    "\n",
    "norm_label = 'scaled to 1000 au' if NORM else 'unscaled pixel regions'\n",
    "\n",
    "for ratio in [True, False]:\n",
    "    for ss, snap in enumerate(snaps_lr):\n",
    "        # print(snap.name, 'ratio=',ratio)\n",
    "        flux.load_fluxprof(snap, ratio)\n",
    "        # flux.make_flux_profiles(snap, zseg_lr, ratio=ratio, debug=False, norm=NORM, save=True)\n",
    "\n",
    "    for ss, snap in enumerate(snaps_mr):\n",
    "        # print(snap.name, 'ratio=',ratio)\n",
    "        flux.load_fluxprof(snap, ratio)\n",
    "        # flux.make_flux_profiles(snap, zseg_mr, ratio=ratio, debug=False, norm=NORM, save=True)\n",
    "\n",
    "    for ss, snap in enumerate(snaps_hr):\n",
    "        # print(snap.name, 'ratio=',ratio)\n",
    "        flux.load_fluxprof(snap, ratio)\n",
    "        # flux.make_flux_profiles(snap, zseg_hr, ratio=ratio, debug=False, norm=NORM, save=save)"
   ]
  },
  {
   "attachments": {},
   "cell_type": "markdown",
   "metadata": {},
   "source": [
    "save linear figure!"
   ]
  },
  {
   "cell_type": "code",
   "execution_count": null,
   "metadata": {},
   "outputs": [],
   "source": [
    "print(snaps_hr[-1].__dict__.keys())"
   ]
  },
  {
   "cell_type": "code",
   "execution_count": null,
   "metadata": {},
   "outputs": [],
   "source": [
    "\n",
    "fig = plot_res_flux_vs_height( \n",
    "        snaps_lr, snaps_mr, snaps_hr, \n",
    "        xx_lr=zmid_lr[:-1], xx_mr=zmid_mr[:-1], xx_hr=zmid_hr[:-1], \n",
    "        mass_labels=masss[1:len(rnums)+1],\n",
    "        xscale='linear', ax0_text='no cooling', ax1_text='with cooling',\n",
    "        ymin0 = 10**-7, ymax0 = 10**2.5, ymin1 = 10**-7, ymax1 = 10**-1, \n",
    "        xx_text=0.99, yy_text=0.025, \n",
    "        leg_anchor=(1, 0.07), colors=colors, ms=0) #, add_custom_leg=True)\n",
    "\n",
    "fig.axes[2].legend(handles=res_legend_elements, bbox_to_anchor = (1,0.07), loc='lower right')\n",
    "        # bbox_transform=ax.transAxes, \n",
    "# fig.tight_layout()\n",
    "fig.savefig('/Users/emigardiner/VICO/pjams-ionization/figures/flux_profiles/allres_fluxprofile.png', \n",
    "        bbox_inches='tight', dpi=200)\n",
    "\n",
    "# fig.text(0,0, norm_label, fontsize=14)\n",
    "# fig.savefig('/Users/emigardiner/VICO/pjams-ionization/figures/flux_profiles/allres_fluxprofile_norm_lin.png', dpi=200)"
   ]
  },
  {
   "attachments": {},
   "cell_type": "markdown",
   "metadata": {},
   "source": [
    "save log figure!"
   ]
  },
  {
   "cell_type": "code",
   "execution_count": null,
   "metadata": {},
   "outputs": [],
   "source": [
    "fig = plot_res_flux_vs_height( \n",
    "        snaps_lr, snaps_mr, snaps_hr, \n",
    "        xx_lr=zmid_lr[:-1], xx_mr=zmid_mr[:-1], xx_hr=zmid_hr[:-1], \n",
    "        mass_labels=masss[1:len(rnums)+1],\n",
    "        xscale='log', ax0_text='no cooling', ax1_text='with cooling',\n",
    "        ymin0 = 10**-7, ymax0 = 10**2.5, ymin1 = 10**-7, ymax1 = 10**-1, \n",
    "        xx_text=0.99, yy_text=0.025, \n",
    "        leg_anchor=(1.0, 0.07), colors=colors)\n",
    "fig.savefig('/Users/emigardiner/VICO/pjams-ionization/figures/flux_profiles/allres_fluxprofile_log.png', dpi=200)\n",
    "fig.text(0,0, norm_label, fontsize=14)\n",
    "fig.tight_layout()"
   ]
  },
  {
   "attachments": {},
   "cell_type": "markdown",
   "metadata": {},
   "source": [
    "# 3 Mid-Res Only, New Code"
   ]
  },
  {
   "attachments": {},
   "cell_type": "markdown",
   "metadata": {},
   "source": [
    "calculate deltas"
   ]
  },
  {
   "cell_type": "code",
   "execution_count": null,
   "metadata": {},
   "outputs": [],
   "source": [
    "for ii, snap in enumerate(snaps):\n",
    "    snap.calculate_deltas()"
   ]
  },
  {
   "attachments": {},
   "cell_type": "markdown",
   "metadata": {},
   "source": [
    "load/make flux profiles"
   ]
  },
  {
   "cell_type": "code",
   "execution_count": null,
   "metadata": {},
   "outputs": [],
   "source": [
    "NORM = True\n",
    "norm_label = 'scaled to 1000 au' if NORM else 'unscaled pixel regions'\n",
    "\n",
    "\n",
    "for ratio in [True, False]:\n",
    "    for ss, snap in enumerate(snaps):\n",
    "        print(snap.name, 'ratio=',ratio)\n",
    "        flux.load_fluxprof(snap, ratio)\n",
    "        # flux.make_flux_profiles(snap, zseg_mr, ratio=ratio, debug=False, norm=NORM, save=True)"
   ]
  },
  {
   "cell_type": "markdown",
   "metadata": {},
   "source": [
    "# Plot mid res flux vs height separate cases"
   ]
  },
  {
   "cell_type": "code",
   "execution_count": null,
   "metadata": {},
   "outputs": [],
   "source": [
    "def plot_mid_flux_vs_height_case( \n",
    "        snaps_mr,  \n",
    "        xx_mr, \n",
    "        mass_labels,  \n",
    "        ff_arr = [5,9], case='A',\n",
    "        ymin = None, ymax = None, \n",
    "        xscale='log', ax0_text = None, ax1_text=None, xx_text = 0.02, yy_text = 0.02, \n",
    "        leg_anchor = (1, 0),\n",
    "        colors=colors, legax=[1,1], all_fmt = ['-', '-'],\n",
    "):\n",
    "    fig, axs = plot.figax_single(sharex=True,\n",
    "                         xscale=xscale, nrows=2, height=7)\n",
    "\n",
    "    all_snaps = np.array([snaps_mr, ])\n",
    "    all_xx = np.array([ xx_mr, ])\n",
    "    none_labels = np.repeat('', len(snaps_mr))\n",
    "\n",
    "    axs[1].set_xlabel('$z$ (au)')\n",
    "\n",
    "    # first row: no ratio\n",
    "    for ii, ax in enumerate(axs[:]):\n",
    "        ff = ff_arr[ii]\n",
    "\n",
    "        for jj, snaps in enumerate(all_snaps):\n",
    "            xx = all_xx[jj]\n",
    "            fmt = all_fmt[0]\n",
    "            labels = mass_labels\n",
    "\n",
    "            yy = np.zeros((len(snaps), len(xx)))\n",
    "            for ss, snap in enumerate(snaps):\n",
    "                temp = snap.flux_prof if case=='A' else snap.flux_prof_ratio\n",
    "                yy[ss] = temp[ff,:-1]\n",
    "            draw_flux_vs_height(ax, xx, yy, labels=labels, fmt=fmt, colors=colors, alpha=0.9)\n",
    "\n",
    "        ylabel = '$S_{\\\\nu=\\mathrm{%s\\ GHz}}\\ \\mathrm{per\\ 1000\\ au\\ (mJy)}$' % str(freqs[ff]/10**9)\n",
    "        # ylabel = '$S_{\\\\nu=\\mathrm{%s\\ GHz}}$ per 1000 au (mJy)' % str(freqs[ff]/10**9)\n",
    "\n",
    "        ax.set_ylabel(ylabel)\n",
    "        if ax0_text is not None:\n",
    "            ax.text(xx_text, yy_text, ax0_text, transform=ax.transAxes, \n",
    "                    weight='bold', horizontalalignment='right')\n",
    "        if ymin is not None and ymax is not None:\n",
    "            ax.set_ylim(ymin, ymax)\n",
    "    # axs[0,1].sharey(axs[0,0])\n",
    "    axs[1].legend(bbox_to_anchor = leg_anchor, bbox_transform=ax.transAxes, loc='lower right', ncol=2)\n",
    "\n",
    "\n",
    "    fig.subplots_adjust(hspace=0)\n",
    "    return fig\n",
    "\n",
    "# def plot_mid_flux_vs_height_caseB( \n",
    "#         snaps_mr,  \n",
    "#         xx_mr, \n",
    "#         mass_labels,  \n",
    "#         ff_arr = [5,9],\n",
    "#         ymin = None, ymax = None, \n",
    "#         xscale='log', ax0_text = None, ax1_text=None, xx_text = 0.02, yy_text = 0.02, \n",
    "#         leg_anchor = (1, 0),\n",
    "#         colors=colors, legax=[1,1], all_fmt = ['-', '-'],\n",
    "# ):\n",
    "\n",
    "#     all_snaps = np.array([snaps_mr, ])\n",
    "#     all_xx = np.array([ xx_mr, ])\n",
    "\n",
    "#     fig, axs = plot.figax_single(sharex=True,\n",
    "#                         xscale=xscale, nrows=2, height=6)\n",
    "        \n",
    "#     axs[1].set_xlabel('$z$ (au)')\n",
    "\n",
    "#     # second row: ratio\n",
    "#     for ii, ax in enumerate(axs[:]):\n",
    "#         ff = ff_arr[ii]\n",
    "\n",
    "#         for jj, snaps in enumerate(all_snaps):\n",
    "#             xx = all_xx[jj]\n",
    "#             fmt = all_fmt[1]\n",
    "#             labels = mass_labels\n",
    "\n",
    "#             yy = np.zeros((len(snaps), len(xx)))\n",
    "#             for ss, snap in enumerate(snaps):\n",
    "#                 temp = snap.flux_prof_ratio\n",
    "#                 yy[ss] = temp[ff,:-1]\n",
    "#             draw_flux_vs_height(ax, xx, yy, labels=labels, fmt=fmt, colors=colors, alpha=0.9)\n",
    "\n",
    "#         ylabel = r'%s GHz $S_\\nu$[mJy]' % str(freqs[ff]/10**9)\n",
    "#         ax.set_ylabel(ylabel)\n",
    "#         if ax1_text is not None:\n",
    "#             ax.text(xx_text, yy_text, ax1_text, transform=ax.transAxes, \n",
    "#                     weight='bold', horizontalalignment='right')\n",
    "\n",
    "#         if ymin is not None and ymax is not None:\n",
    "#             ax.set_ylim(ymin, ymax)\n",
    "#     # axs[1,1].sharey(axs[1,0])\n",
    "\n",
    "#     axs[1].legend(bbox_to_anchor = leg_anchor, bbox_transform=ax.transAxes, loc='lower right', ncol=2)\n",
    "\n",
    "#     # axs[legax[0], legax[1]].legend(bbox_to_anchor = leg_anchor, bbox_transform=ax.transAxes, loc='lower right')\n",
    "\n",
    "#     fig.subplots_adjust(hspace=0)\n",
    "#     return fig\n",
    "    "
   ]
  },
  {
   "cell_type": "code",
   "execution_count": null,
   "metadata": {},
   "outputs": [],
   "source": [
    "fig = plot_mid_flux_vs_height_case( case='A',\n",
    "        snaps_mr=snaps[1:], xx_mr=zmid_mr[:-1], \n",
    "        mass_labels=masss[1:],\n",
    "        xscale='linear', ax0_text=None, ax1_text=None,\n",
    "        ymin = 10**-7, ymax = 10**2.5, \n",
    "        xx_text=0.99, yy_text=0.025, \n",
    "        leg_anchor=(1, 0.0), colors=colors)\n",
    "fig.savefig('/Users/emigardiner/VICO/pjams-ionization/figures/flux_profiles/midres_fluxprofile_CaseA.png', dpi=200,\n",
    "            bbox_inches='tight')"
   ]
  },
  {
   "cell_type": "code",
   "execution_count": null,
   "metadata": {},
   "outputs": [],
   "source": [
    "fig = plot_mid_flux_vs_height_case( case='B',\n",
    "        snaps_mr=snaps[1:], xx_mr=zmid_mr[:-1], \n",
    "        mass_labels=masss[1:],\n",
    "        xscale='linear', ax0_text=None, ax1_text=None,\n",
    "        ymin = 10**-7, ymax = 10**-1, \n",
    "        xx_text=0.99, yy_text=0.025, \n",
    "        leg_anchor=(1, 0.0), colors=colors)\n",
    "fig.savefig('/Users/emigardiner/VICO/pjams-ionization/figures/flux_profiles/midres_fluxprofile_CaseB.png', dpi=200,\n",
    "            bbox_inches='tight')"
   ]
  },
  {
   "cell_type": "markdown",
   "metadata": {},
   "source": [
    "### include 1.4 Msun, 4000 yr"
   ]
  },
  {
   "cell_type": "code",
   "execution_count": null,
   "metadata": {},
   "outputs": [],
   "source": [
    "fig = plot_mid_flux_vs_height_case( case='A',\n",
    "        snaps_mr=snaps[:], xx_mr=zmid_mr[:-1], \n",
    "        mass_labels=masss[:],\n",
    "        xscale='linear', ax0_text=None, ax1_text=None,\n",
    "        ymin = 10**-7, ymax = 10**2.5, \n",
    "        xx_text=0.99, yy_text=0.025, \n",
    "        leg_anchor=(1, 0.0), colors=plot.COLORS_INC4)\n",
    "fig.savefig('/Users/emigardiner/VICO/pjams-ionization/figures/flux_profiles/midres_fluxprofile2_CaseA.png', dpi=200,\n",
    "            bbox_inches='tight')"
   ]
  },
  {
   "cell_type": "code",
   "execution_count": null,
   "metadata": {},
   "outputs": [],
   "source": [
    "fig = plot_mid_flux_vs_height_case( case='B',\n",
    "        snaps_mr=snaps[:], xx_mr=zmid_mr[:-1], \n",
    "        mass_labels=masss[:],\n",
    "        xscale='linear', ax0_text=None, ax1_text=None,\n",
    "        ymin = 10**-7, ymax = 10**-1, \n",
    "        xx_text=0.99, yy_text=0.025, \n",
    "        leg_anchor=(1, 0.0), colors=plot.COLORS_INC4)\n",
    "fig.savefig('/Users/emigardiner/VICO/pjams-ionization/figures/flux_profiles/midres_fluxprofile2_CaseB.png', dpi=200,\n",
    "            bbox_inches='tight')"
   ]
  },
  {
   "attachments": {},
   "cell_type": "markdown",
   "metadata": {},
   "source": [
    "## Plot mid res flux vs height all"
   ]
  },
  {
   "cell_type": "code",
   "execution_count": null,
   "metadata": {},
   "outputs": [],
   "source": [
    "def plot_mid_flux_vs_height( \n",
    "        snaps_mr,  \n",
    "        xx_mr, \n",
    "        mass_labels,  \n",
    "        ff_arr = [5,9],\n",
    "        ymin0 = None, ymax0 = None, ymin1 = None, ymax1 = None, \n",
    "        xscale='log', ax0_text = None, ax1_text=None, xx_text = 0.02, yy_text = 0.02, \n",
    "        leg_anchor = (1, 0),\n",
    "        colors=colors, legax=[1,1], all_fmt = ['-o', '-o'],\n",
    "):\n",
    "    fig, axs = plot.figax(sharex=True,\n",
    "                         xscale=xscale, nrows=2, ncols=2, figsize=(11,6))\n",
    "\n",
    "    all_snaps = np.array([snaps_mr, ])\n",
    "    all_xx = np.array([ xx_mr, ])\n",
    "    # all_fmt = np.array(['-o',])\n",
    "    # all_labels = np.array([labels_mr,])\n",
    "    none_labels = np.repeat('', len(snaps_mr))\n",
    "\n",
    "\n",
    "    # first row: no ratio\n",
    "    for ii, ax in enumerate(axs[0,:]):\n",
    "        ff = ff_arr[ii]\n",
    "\n",
    "        for jj, snaps in enumerate(all_snaps):\n",
    "            xx = all_xx[jj]\n",
    "            fmt = all_fmt[0]\n",
    "            labels = none_labels\n",
    "\n",
    "            yy = np.zeros((len(snaps), len(xx)))\n",
    "            for ss, snap in enumerate(snaps):\n",
    "                temp = snap.flux_prof\n",
    "                yy[ss] = temp[ff,:-1]\n",
    "            draw_flux_vs_height(ax, xx, yy, labels=labels, fmt=fmt, colors=colors,)\n",
    "\n",
    "        ylabel = r'$S_\\nu$ (%s GHz) [mJy]' % str(freqs[ff]/10**9)\n",
    "        ax.set_ylabel(ylabel)\n",
    "        if ax0_text is not None:\n",
    "            ax.text(xx_text, yy_text, ax0_text, transform=ax.transAxes, \n",
    "                    weight='bold', horizontalalignment='right')\n",
    "    if ymin0 is not None and ymax0 is not None:\n",
    "        axs[0,0].set_ylim(ymin0, ymax0)\n",
    "    axs[0,1].sharey(axs[0,0])\n",
    "\n",
    "    # second row: ratio\n",
    "    for ii, ax in enumerate(axs[1,:]):\n",
    "        ff = ff_arr[ii]\n",
    "\n",
    "        for jj, snaps in enumerate(all_snaps):\n",
    "            xx = all_xx[jj]\n",
    "            fmt = all_fmt[1]\n",
    "            if ii==1 and jj==0: \n",
    "                labels = mass_labels\n",
    "            else: labels = none_labels\n",
    "\n",
    "            yy = np.zeros((len(snaps), len(xx)))\n",
    "            for ss, snap in enumerate(snaps):\n",
    "                temp = snap.flux_prof_ratio\n",
    "                yy[ss] = temp[ff,:-1]\n",
    "            draw_flux_vs_height(ax, xx, yy, labels=labels, fmt=fmt, colors=colors)\n",
    "\n",
    "        ylabel = r'$S_\\nu$ (%s GHz) [mJy]' % str(freqs[ff]/10**9)\n",
    "        ax.set_ylabel(ylabel)\n",
    "        ax.set_xlabel('$z$ (au)')\n",
    "        if ax1_text is not None:\n",
    "            ax.text(xx_text, yy_text, ax1_text, transform=ax.transAxes, \n",
    "                    weight='bold', horizontalalignment='right')\n",
    "\n",
    "    if ymin1 is not None and ymax1 is not None:\n",
    "        axs[1,0].set_ylim(ymin1, ymax1)\n",
    "    axs[1,1].sharey(axs[1,0])\n",
    "\n",
    "    axs[1,1].legend(bbox_to_anchor = leg_anchor, bbox_transform=ax.transAxes, loc='lower right')\n",
    "\n",
    "    # axs[legax[0], legax[1]].legend(bbox_to_anchor = leg_anchor, bbox_transform=ax.transAxes, loc='lower right')\n",
    "\n",
    "    fig.tight_layout()\n",
    "    return fig\n",
    "    "
   ]
  },
  {
   "cell_type": "code",
   "execution_count": null,
   "metadata": {},
   "outputs": [],
   "source": [
    "fig = plot_mid_flux_vs_height( \n",
    "        snaps_mr=snaps[1:], xx_mr=zmid_mr[:-1], \n",
    "        mass_labels=masss[1:],\n",
    "        xscale='linear', ax0_text='no cooling', ax1_text='with cooling',\n",
    "        ymin0 = 10**-7, ymax0 = 10**2.5, ymin1 = 10**-7, ymax1 = 10**-1, \n",
    "        xx_text=0.99, yy_text=0.025, \n",
    "        leg_anchor=(1, 0.06), colors=colors)\n",
    "# fig.axes[4].legend(bbox_to_anchor = leg_anchor, bbox_transform=ax.transAxes, loc='lower right')\n",
    "# fig.legend(bbox_to_anchor=(0.975,0.41))\n",
    "fig.tight_layout()\n",
    "fig.savefig('/Users/emigardiner/VICO/pjams-ionization/figures/flux_profiles/midres_fluxprofile_lin.png', dpi=200,\n",
    "            bbox_inches='tight')\n",
    "# fig.text(0,0, norm_label, fontsize=14)\n",
    "# fig.tight_layout()\n",
    "# fig.savefig('/Users/emigardiner/VICO/pjams-ionization/figures/flux_profiles/allres_fluxprofile_norm_lin.png', dpi=200)"
   ]
  },
  {
   "cell_type": "code",
   "execution_count": null,
   "metadata": {},
   "outputs": [],
   "source": [
    "fig = plot_mid_flux_vs_height( \n",
    "        snaps_mr=snaps[1:], xx_mr=zmid_mr[:-1], \n",
    "        mass_labels=masss[1:],\n",
    "        xscale='log', ax0_text='no cooling', ax1_text='with cooling',\n",
    "        ymin0 = 10**-7, ymax0 = 10**2.5, ymin1 = 10**-7, ymax1 = 10**-1, \n",
    "        xx_text=0.99, yy_text=0.025, legax = [1,0],\n",
    "        leg_anchor=(1, 0.06), colors=colors)\n",
    "\n",
    "# fig.legend(bbox_to_anchor=(0.075,0.11), loc='lower left')\n",
    "fig.savefig('/Users/emigardiner/VICO/pjams-ionization/figures/flux_profiles/midres_fluxprofile_log.png', dpi=200)\n",
    "\n",
    "# fig.text(0,0, norm_label, fontsize=14)\n",
    "# fig.tight_layout()\n"
   ]
  },
  {
   "cell_type": "code",
   "execution_count": null,
   "metadata": {},
   "outputs": [],
   "source": []
  },
  {
   "cell_type": "code",
   "execution_count": null,
   "metadata": {},
   "outputs": [],
   "source": []
  }
 ],
 "metadata": {
  "kernelspec": {
   "display_name": "pjams",
   "language": "python",
   "name": "python3"
  },
  "language_info": {
   "codemirror_mode": {
    "name": "ipython",
    "version": 3
   },
   "file_extension": ".py",
   "mimetype": "text/x-python",
   "name": "python",
   "nbconvert_exporter": "python",
   "pygments_lexer": "ipython3",
   "version": "3.10.11"
  }
 },
 "nbformat": 4,
 "nbformat_minor": 2
}
