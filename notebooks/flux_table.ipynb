{
 "cells": [
  {
   "cell_type": "code",
   "execution_count": null,
   "metadata": {},
   "outputs": [],
   "source": [
    "%reload_ext autoreload\n",
    "%autoreload 2\n",
    "from importlib import reload\n",
    "\n",
    "\n",
    "import sys, os, inspect\n",
    "import sys\n",
    "sys.path.append('/Users/emigardiner/VICO/pjams-ionization/pjams/')\n",
    "\n",
    "from zeusmp_snapshot_reader import read_zeusmp_snapshot\n",
    "from zeusmp_snapshot_reader import ScaleFactors\n",
    "from snapshot import snapshot \n",
    "from basic_snapshot import basic_snapshot, VICO_loc, FREQS\n",
    "import plot\n",
    "import flux\n",
    "\n",
    "import numpy as np\n",
    "\n",
    "import matplotlib.pyplot as plt\n",
    "import matplotlib.gridspec as gridspec\n",
    "from matplotlib import cm\n",
    "from matplotlib.colors import TwoSlopeNorm\n",
    "from matplotlib.lines import Line2D\n",
    "\n",
    "from PIL import Image, ImageDraw, ImageFont\n",
    "from IPython.display import Image as DisplayImage"
   ]
  },
  {
   "cell_type": "code",
   "execution_count": null,
   "metadata": {},
   "outputs": [],
   "source": [
    "# INPUTS\n",
    "freqs = np.array([.01, .05, .1, .5, 1, 5.3, 23, 43, 100, 230 ]) # GHz\n",
    "freqs *= 10**9 # Hz\n",
    "scales = np.array([500, 1000, 2000, 4000, 8000, 16000, 25000])\n",
    "nums = np.array([4, 9, 21, 39, 54, 68, 94])\n",
    "years = np.array([4000, 9000, 21000, 39000, 54000, 68000, 94000])\n",
    "masss = np.array([1.4, 2, 4, 8, 12, 16, 24])\n",
    "\n",
    "\n",
    "file = np.load(VICO_loc+'/AngladaRosero2019/AngladaData/shock_flux_arrays.npz')\n",
    "lums = file['luminosities']\n",
    "file.close()"
   ]
  },
  {
   "cell_type": "code",
   "execution_count": null,
   "metadata": {},
   "outputs": [],
   "source": [
    "snaps = np.empty_like(nums, dtype=snapshot)\n",
    "for ii, num in enumerate(nums):\n",
    "    snaps[ii] = basic_snapshot(snap=num, name = ('Snap%03d_n' % num))\n",
    "    snaps[ii].load_variabilities()"
   ]
  },
  {
   "cell_type": "markdown",
   "metadata": {},
   "source": [
    "Case A"
   ]
  },
  {
   "cell_type": "code",
   "execution_count": null,
   "metadata": {},
   "outputs": [],
   "source": [
    "\n",
    "ff = 5 # 5.3 GHz\n",
    "for ff in [5, 9]:\n",
    "    print('\\multicolumn{10}{c}{%s GHz}' % str(freqs[ff]/10**9))\n",
    "    for ii, snap in enumerate(snaps):\n",
    "        string = f\"{masss[ii]}\\t&\\t{years[ii]}\\t&\\t{lums[ii]}\"\n",
    "        for ss, scale in enumerate(scales):\n",
    "            string = string + f\"\\t&\\t{10**snap.Variabilities['averages'][ff,ss]:.3f}$\\pm$'{10**snap.Variabilities['stdevs'][ff,ss]:.3f}\"\n",
    "        print(string)\n",
    "    if ff==5: print('\\hline')"
   ]
  },
  {
   "cell_type": "markdown",
   "metadata": {},
   "source": [
    "Case B"
   ]
  },
  {
   "cell_type": "code",
   "execution_count": null,
   "metadata": {},
   "outputs": [],
   "source": [
    "\n",
    "ff = 5 # 5.3 GHz\n",
    "for ff in [5, 9]:\n",
    "    print('\\multicolumn{10}{c}{%s GHz}' % str(freqs[ff]/10**9))\n",
    "    for ii, snap in enumerate(snaps):\n",
    "        string = f\"{masss[ii]}\\t&\\t{years[ii]}\\t&\\t{lums[ii]}\"\n",
    "        for ss, scale in enumerate(scales):\n",
    "            string = string + f\"\\t&\\t{10**snap.Variabilities['averages_ratio'][ff,ss]:.3f}$\\pm$'{10**snap.Variabilities['stdevs_ratio'][ff,ss]:.3f}\"\n",
    "        print(string)\n",
    "    if ff==5: print('\\hline')"
   ]
  },
  {
   "cell_type": "code",
   "execution_count": null,
   "metadata": {},
   "outputs": [],
   "source": []
  }
 ],
 "metadata": {
  "kernelspec": {
   "display_name": "pjams",
   "language": "python",
   "name": "python3"
  },
  "language_info": {
   "codemirror_mode": {
    "name": "ipython",
    "version": 3
   },
   "file_extension": ".py",
   "mimetype": "text/x-python",
   "name": "python",
   "nbconvert_exporter": "python",
   "pygments_lexer": "ipython3",
   "version": "3.10.11"
  }
 },
 "nbformat": 4,
 "nbformat_minor": 2
}
