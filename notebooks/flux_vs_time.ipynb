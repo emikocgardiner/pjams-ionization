{
 "cells": [
  {
   "cell_type": "code",
   "execution_count": null,
   "metadata": {},
   "outputs": [],
   "source": [
    "%reload_ext autoreload\n",
    "%autoreload 2\n",
    "from importlib import reload\n",
    "\n",
    "\n",
    "import sys, os, inspect\n",
    "import sys\n",
    "sys.path.append('/Users/emigardiner/VICO/pjams-ionization/pjams/')\n",
    "\n",
    "from zeusmp_snapshot_reader import read_zeusmp_snapshot\n",
    "from zeusmp_snapshot_reader import ScaleFactors\n",
    "from snapshot import snapshot \n",
    "from basic_snapshot import basic_snapshot, VICO_loc, FREQS\n",
    "import plot\n",
    "import flux\n",
    "\n",
    "import numpy as np\n",
    "\n",
    "import matplotlib.pyplot as plt\n",
    "import matplotlib.gridspec as gridspec\n",
    "from matplotlib import cm\n",
    "from matplotlib.colors import TwoSlopeNorm\n",
    "from matplotlib.lines import Line2D\n",
    "\n",
    "from PIL import Image, ImageDraw, ImageFont\n",
    "from IPython.display import Image as DisplayImage"
   ]
  },
  {
   "cell_type": "code",
   "execution_count": null,
   "metadata": {},
   "outputs": [],
   "source": [
    "# INPUTS\n",
    "freqs = np.array([.01, .05, .1, .5, 1, 5.3, 23, 43, 100, 230 ]) # GHz\n",
    "freqs *= 10**9 # Hz\n",
    "scales = np.array([1000, 2000, 4000, 8000, 16000, 25000])\n",
    "\n",
    "# r_kpc = 1\n",
    "# heights_and_scales = np.load(VICO_loc+'/Data/heights_and_scales.npz')\n",
    "# # scales = heights_and_scales['scales'] # AU\n",
    "# heights = heights_and_scales['heights'] # AU  \n",
    "\n",
    "colors = plot.COLORS"
   ]
  },
  {
   "cell_type": "code",
   "execution_count": null,
   "metadata": {},
   "outputs": [],
   "source": [
    "nums = np.array([4, 9, 21, 39, 54, 68, 94])\n",
    "years = np.array([4000, 9000, 21000, 39000, 54000, 68000, 94000])\n",
    "# years = np.array(['4,000 yrs', '9,000 yrs', '21,000 yrs', '39,000 yrs', '54,000 yrs', '68,000 yrs', '94,000 yrs'])\n",
    "masss = np.array([r'1.4 M$_\\odot$', r'2 M$_\\odot$', r'4 M$_\\odot$',\n",
    "                   r'8 M$_\\odot$', r'12 M$_\\odot$', r'16 M$_\\odot$',\n",
    "                   r'24 M$_\\odot$'])"
   ]
  },
  {
   "cell_type": "code",
   "execution_count": null,
   "metadata": {},
   "outputs": [],
   "source": [
    "snaps = np.empty_like(nums, dtype=snapshot)\n",
    "for ii, num in enumerate(nums):\n",
    "    snaps[ii] = basic_snapshot(snap=num, name = ('Snap%03d_n' % num))\n",
    "    snaps[ii].load_variabilities()"
   ]
  },
  {
   "cell_type": "code",
   "execution_count": null,
   "metadata": {},
   "outputs": [],
   "source": [
    "ylabel=r'Flux, $S_\\nu$ (mJy)'\n",
    "labels = np.array(['1,000 au', '2,000 au', '4,000 au', '8,000 au', \n",
    "                   '16,000 au', '25,000 au'])\n",
    "dimcolors= np.array(['#9467bd', '#677cbc', '#67bca7', '#bcbc67',  '#bc9167', '#bc6767' ])\n",
    "colors= np.array(['#9966cc', '#667fcc', '#66ccb3', '#b3cc66', '#cc9966', '#cc6666' ])\n",
    "# ylim0 = (10**-1.5, 10**3.5)\n",
    "\n",
    "# ff_arr = [5, 9]\n",
    "fig, axs = plot.figax(figsize = (11,4), ncols=2,\n",
    "    xlabel='Years', sharex=True, xscale='linear',)\n",
    "# for ax in axs[:,0]:\n",
    "axs[0].set_ylabel(ylabel)\n",
    "\n",
    "avg_str = np.array(['averages', 'averages_const'])\n",
    "std_str = np.array(['stdevs', 'stdevs_ratio'])\n",
    "\n",
    "for aa, ax in enumerate(axs):\n",
    "    xx = years\n",
    "    y1 = np.zeros((len(scales), len(snaps)))\n",
    "    err1 = np.zeros_like(y1)\n",
    "    y2 = np.zeros((len(scales), len(snaps)))\n",
    "    err2 = np.zeros_like(y2)\n",
    "    for ss, snap in enumerate(snaps):\n",
    "        # print(ss)\n",
    "        y1[:,ss]   = 10**snap.Variabilities[avg_str[aa]][5,1:]\n",
    "        err1[:,ss] = 10**snap.Variabilities[std_str[aa]][5,1:]\n",
    "        y2[:,ss]   = 10**snap.Variabilities[avg_str[aa]][9,1:]\n",
    "        err2[:,ss] = 10**snap.Variabilities[std_str[aa]][9,1:]\n",
    "\n",
    "    fflabels = ['5.3 GHz', '230 GHz']\n",
    "\n",
    "    for ii, scale in enumerate(scales):\n",
    "        label = labels[ii] #if aa==1 else None\n",
    "        ax.errorbar(xx, y1[ii], yerr=err1[ii], color=colors[ii],\n",
    "                         capsize=4, label=label, alpha=0.75, linewidth=2, linestyle='-')\n",
    "        ax.errorbar(xx, y2[ii], yerr=err2[ii], color=colors[ii],\n",
    "                         capsize=4, label=None, alpha=0.75, linewidth=2, linestyle='--')\n",
    "    axtext = ['no cooling', 'with cooling']\n",
    "    for ii, ax in enumerate(axs):\n",
    "        ax.text(0.99,0.95, axtext[ii], transform=ax.transAxes, weight='bold', horizontalalignment='right')\n",
    "# axs[0,0].set_ylim(ylim0)\n",
    "# axs[0,1].sharey(axs[0,0])\n",
    "axs[0].legend(loc='lower right')\n",
    "legend_elements = [Line2D([0], [0], color='k', lw=2, linestyle='-', label='5.3 GHz'),\n",
    "                   Line2D([0], [0], color='k', lw=2, linestyle='--', label='230 GHz')]\n",
    "axs[1].legend(handles=legend_elements, bbox_to_anchor=(1, 0.95), loc='upper right')\n",
    "\n",
    "\n",
    "fig.tight_layout()\n",
    "fig.savefig(VICO_loc+'/figures/flux_vs_time.png', dpi=300)\n"
   ]
  },
  {
   "cell_type": "code",
   "execution_count": null,
   "metadata": {},
   "outputs": [],
   "source": []
  }
 ],
 "metadata": {
  "kernelspec": {
   "display_name": "pjams",
   "language": "python",
   "name": "python3"
  },
  "language_info": {
   "codemirror_mode": {
    "name": "ipython",
    "version": 3
   },
   "file_extension": ".py",
   "mimetype": "text/x-python",
   "name": "python",
   "nbconvert_exporter": "python",
   "pygments_lexer": "ipython3",
   "version": "3.10.11"
  }
 },
 "nbformat": 4,
 "nbformat_minor": 2
}
