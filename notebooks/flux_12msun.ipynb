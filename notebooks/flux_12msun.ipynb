{
 "cells": [
  {
   "cell_type": "code",
   "execution_count": null,
   "metadata": {},
   "outputs": [],
   "source": [
    "%reload_ext autoreload\n",
    "%autoreload 2\n",
    "from importlib import reload\n",
    "\n",
    "\n",
    "import sys, os, inspect\n",
    "import sys\n",
    "sys.path.append('/Users/emigardiner/VICO/pjams-ionization/pjams/')\n",
    "\n",
    "from zeusmp_snapshot_reader import read_zeusmp_snapshot\n",
    "from zeusmp_snapshot_reader import ScaleFactors\n",
    "from snapshot import snapshot \n",
    "from basic_snapshot import basic_snapshot, VICO_loc, FREQS\n",
    "import plot as plot\n",
    "import slices as slices\n",
    "from ionfrac import VMIN, VMAX\n",
    "import projs as projs\n",
    "# import flux\n",
    "\n",
    "import numpy as np\n",
    "\n",
    "import matplotlib.pyplot as plt\n",
    "import matplotlib.gridspec as gridspec\n",
    "from matplotlib import cm\n",
    "from matplotlib.colors import TwoSlopeNorm\n",
    "from matplotlib.lines import Line2D\n",
    "\n",
    "from PIL import Image, ImageDraw, ImageFont\n",
    "from IPython.display import Image as DisplayImage"
   ]
  },
  {
   "cell_type": "code",
   "execution_count": null,
   "metadata": {},
   "outputs": [],
   "source": [
    "Snap054_n = snapshot(snap=54, name = 'Snap054_n', read_zeusmp=False)\n",
    "Snap054_n.load_shock_variables()\n",
    "\n",
    "nums = np.arange(54, 65)\n",
    "years = np.array(['54,000 yr', '54,010 yr', '54,020 yr', '54,030 yr', '54,040 yr', \n",
    "                  '54,050 yr', '54,060 yr', '54,070 yr','54,080 yr', '54,090 yr', '54,100 yr', ])\n",
    "# zoomslicescales = np.array([500,4000])\n",
    "\n",
    "snaps = np.empty_like(nums, dtype=basic_snapshot)\n",
    "snaps[0] = Snap054_n\n",
    "for ii in range(1, len(nums)):\n",
    "    snaps[ii] = basic_snapshot(snap=nums[ii], name = ('Snap%03d_n54' % nums[ii]))\n",
    "for snap in snaps:\n",
    "    snap.load_fluxes()"
   ]
  },
  {
   "cell_type": "code",
   "execution_count": null,
   "metadata": {},
   "outputs": [],
   "source": [
    "colors = plot.SCALECOLORS\n",
    "scales = plot.SCALES\n",
    "\n",
    "freqs = np.array([.01, .05, .1, .5, 1, 5.3, 23, 43, 100, 230 ]) # GHz\n",
    "freqs *= 10**9 # Hz"
   ]
  },
  {
   "cell_type": "code",
   "execution_count": null,
   "metadata": {},
   "outputs": [],
   "source": [
    "print(snaps[1].ScaleFluxes.shape, snaps[1].ScaleFluxes_ratio.shape)"
   ]
  },
  {
   "cell_type": "code",
   "execution_count": null,
   "metadata": {},
   "outputs": [],
   "source": [
    "ylabel=r'Flux, $S_\\nu$ (mJy)'\n",
    "labels = np.array(['1,000 au', '2,000 au', '4,000 au', '8,000 au', \n",
    "                   '16,000 au', '25,000 au'])\n",
    "ff_labels = ['5.3 GHz', '230 GHz']\n",
    "ff_arr = [5,9]\n",
    "ff_styles = ['-', '--']\n",
    "ff_markers = ['o', '+']\n",
    "\n",
    "\n",
    "fig, axs = plot.figax(figsize=(11,4), ncols=2, xlabel='Years', xscale='linear', sharey=False)\n",
    "axs[0].set_ylabel(ylabel)\n",
    "\n",
    "xx = years\n",
    "for aa, ax in enumerate(axs):\n",
    "    y1 = np.zeros((len(scales), len(snaps)))\n",
    "    y2 = np.zeros_like(y1)\n",
    "\n",
    "    for ss, snap in enumerate(snaps):\n",
    "        y1[:,ss] = snap.ScaleFluxes[0,5,1:] if aa==0 else snap.ScaleFluxes_ratio[5,1:]\n",
    "        y2[:,ss] = snap.ScaleFluxes[0,9,1:] if aa==0 else snap.ScaleFluxes_ratio[9,1:]\n",
    "    \n",
    "    for ii, scale in enumerate(scales):\n",
    "        for jj, yy in enumerate([y1[ii], y2[ii]]):\n",
    "            label=labels[ii] if jj==0 else None\n",
    "            ax.plot(xx, yy, label=label, linestyle=ff_styles[jj], marker=ff_markers[jj], color=colors[ii])\n",
    "        # ax.plot(xx, y1[ii], label=ff_labels[0], linestyle=ff_styles[1], marker=ff_markers[1])\n",
    "\n",
    "    plt.setp(ax.get_xticklabels(), rotation=30, horizontalalignment='right', fontsize=10)\n",
    "\n",
    "axtext = ['no cooling', 'with cooling']\n",
    "for ii, ax in enumerate(axs):\n",
    "    ax.text(0.99,0.95, axtext[ii], transform=ax.transAxes, weight='bold', horizontalalignment='right')\n",
    "\n",
    "axs[1].legend(ncols = len(scales)/2, loc='upper left', fontsize=10)\n",
    "axs[0].set_ylim(10**0.5, 10**2.6)\n",
    "axs[1].set_ylim(10**-1.5, 10**0)\n",
    "\n",
    "\n",
    "legend_elements = [Line2D([0], [0], color='k', lw=2, linestyle='-', label='5.3 GHz'),\n",
    "                   Line2D([0], [0], color='k', lw=2, linestyle='--', label='230 GHz')]\n",
    "axs[0].legend(handles=legend_elements, loc = 'upper left', ncols=2, fontsize=9)\n",
    "fig.tight_layout()\n",
    "\n",
    "fig.savefig(VICO_loc+'/figures/flux_12msun.png', dpi=300)\n",
    "    "
   ]
  },
  {
   "cell_type": "code",
   "execution_count": null,
   "metadata": {},
   "outputs": [],
   "source": []
  }
 ],
 "metadata": {
  "kernelspec": {
   "display_name": "pjams",
   "language": "python",
   "name": "python3"
  },
  "language_info": {
   "codemirror_mode": {
    "name": "ipython",
    "version": 3
   },
   "file_extension": ".py",
   "mimetype": "text/x-python",
   "name": "python",
   "nbconvert_exporter": "python",
   "pygments_lexer": "ipython3",
   "version": "3.10.11"
  }
 },
 "nbformat": 4,
 "nbformat_minor": 2
}
